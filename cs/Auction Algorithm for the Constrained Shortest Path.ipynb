{
 "cells": [
  {
   "cell_type": "markdown",
   "metadata": {},
   "source": [
    "# Auction algorithm for the CSP\n",
    "\n",
    "## Problem\n",
    "\n",
    "Let $(G, E)$ denote a directed graph. To each arc $(i, j) \\in E$ we associate a cost $c_{ij}$ and a length $l_{ij}$. Let $s$ and $t$ be two distinct nodes in $G$. We consider the Constrained Shortest Path problem formulated as a mixed integer program. $A x = d$ denotes the usual network flow constraint for the shortest path:\n",
    "\n",
    "$$\n",
    "\\begin{alignat*}{3}\n",
    "& \\text{CSP} \\quad=\\quad\n",
    "    && \\text{minimize}   \\quad && c^T x \\\\\n",
    "&   && \\text{subject to} \\quad && A x = d \\\\\n",
    "&   &&                         && l^T x \\leq R \\\\\n",
    "&   &&                         && x \\in \\lbrace 0, 1 \\rbrace^|E| \\\\\n",
    "\\end{alignat*}\n",
    "$$\n",
    "\n",
    "## Auction algorithm for the shortest path\n",
    "\n",
    "Bertsekas introduced an [auction algorithm for the shortest path](https://web.mit.edu/dimitrib/www/Auctionsp.pdf) in 2001. The idea is to maintain a pair $(P, \\pi)$ where $P$ is a path starting at $s$, and $\\pi$ is a vector over $G$ such that:\n",
    "\n",
    "$$\n",
    "\\begin{align*}\n",
    "& \\pi_i - \\pi_j \\leq c_{ij} \\\\\n",
    "& \\pi_i - \\pi_j = c_{ij} \\quad \\forall ij \\in P \\\\\n",
    "\\end{align*}\n",
    "$$\n",
    "\n",
    "These are easily understood as the complementary slackness conditions for the shortest path LP formulation. The path $P$ is therefore always a shortest path between its end nodes. $P$ is successively contracted and extended with a simple rule. The algorithm terminates when it reaches $t$.\n",
    "\n",
    "## An auction algorithm for the CSP\n",
    "\n",
    "We can naturally add a constraint on $P$ so that its length never exceeds $R$, thus garanteeing that if the algorithm terminates, the shortest path found is feasible for the CSP. Whenever the auction algorithm chooses which node becomes a candidate to extend the path, we exclude those nodes which would create an infeasible path.\n",
    "\n",
    "This modified auction algorithm simulates the auction algorithm running on an auxiliary graph, which we describe here:\n",
    "- Denote the auxiliary graph $(G', E')$,\n",
    "- The length and cost of an arc are respectively denoted $l_{ij}$ and $c_{ij}$.\n",
    "- Let $G' = \\lbrace (i, l) : i \\in G,\\: l \\leq R \\text{ and there exists an elementary path from } s \\text{ to } i \\text{ of length } l \\rbrace$\n",
    "- There is an arc in $E'$ from $(i, l_i)$ to $(j, l_j)$ in $G'$ if $l_{ij} = l_j - l_i$. This arc has cost $c_{ij}$.\n",
    "\n",
    "If the CSP is feasible, the modified auction algorithm terminates as soon as it reaches a node in $T = \\lbrace (i, l) \\in G' : i = t \\rbrace$. If the CSP is infeasible, the auction algorithm never terminates. A way to get around this is to provide an upper bound $M$ to the CSP value and virtually connect the source node to the destionation with length $0$ and cost $M$. The more accurate the upper bound, the faster the algorithm terminates."
   ]
  },
  {
   "cell_type": "code",
   "execution_count": 150,
   "metadata": {},
   "outputs": [],
   "source": [
    "from dataclasses import dataclass\n",
    "import heapq\n",
    "import math\n",
    "\n",
    "\n",
    "@dataclass(slots=True)\n",
    "class Arc:\n",
    "    l: float\n",
    "    c: float\n",
    "\n",
    "\n",
    "Node = int\n",
    "Adj = dict[Node, dict[Node, Arc]]\n",
    "\n",
    "\n",
    "def csp(adj: Adj, s: Node, t: Node, R: float = math.inf, M: float = math.inf):\n",
    "    path = [s]\n",
    "    elm = {s}\n",
    "    p = {i: 0.0 for i in adj}\n",
    "    l = 0\n",
    "\n",
    "    it = 0\n",
    "    while path[-1] != t:\n",
    "        i = path[-1]\n",
    "\n",
    "        j, pij = t, M\n",
    "        for _j, e in adj[i].items():\n",
    "            if (_pij := e.c + p[_j]) < pij and (l + e.l <= R) and (_j not in elm):\n",
    "                j, pij = _j, _pij\n",
    "\n",
    "        if p[i] < pij:\n",
    "            p[i] = pij\n",
    "\n",
    "            if i != s:\n",
    "                elm.remove(path.pop())\n",
    "                l -= adj[path[-1]][i].l\n",
    "\n",
    "        elif j in adj[i]:\n",
    "            path.append(j)\n",
    "            elm.add(j)\n",
    "            l += adj[i][j].l\n",
    "\n",
    "        else:\n",
    "            path = None\n",
    "            break\n",
    "\n",
    "        it += 1\n",
    "\n",
    "    return path"
   ]
  },
  {
   "cell_type": "markdown",
   "metadata": {},
   "source": [
    "## Testing the algorithm on a random grid graph"
   ]
  },
  {
   "cell_type": "code",
   "execution_count": 151,
   "metadata": {},
   "outputs": [],
   "source": [
    "import random\n",
    "import itertools\n",
    "import collections\n",
    "\n",
    "\n",
    "n = 30\n",
    "\n",
    "nodes = range(n * n)\n",
    "\n",
    "edges = set()\n",
    "for k in nodes:\n",
    "    i, j = divmod(k, n)\n",
    "\n",
    "    for ni, nj in [(i, j + 1), (i, j - 1), (i + 1, j), (i - 1, j)]:\n",
    "        if (n * ni + nj) in nodes and 0 <= nj < n:\n",
    "            edges.add((k, (n * ni + nj)))\n",
    "            edges.add(((n * ni + nj), k))\n",
    "\n",
    "\n",
    "adj = collections.defaultdict(dict)\n",
    "\n",
    "for (i, j) in edges:\n",
    "    adj[i][j] = Arc(1, random.randint(1, 5))"
   ]
  },
  {
   "cell_type": "markdown",
   "metadata": {},
   "source": [
    "---\n",
    "\n",
    "We find a path whose cost changes with the length constraint by brute force."
   ]
  },
  {
   "cell_type": "code",
   "execution_count": 152,
   "metadata": {},
   "outputs": [],
   "source": [
    "path = None\n",
    "\n",
    "while path is None or path == csp(adj, src, dst):\n",
    "    src = dst = random.randint(0, n * n - 1)\n",
    "    while dst == src:\n",
    "        dst = random.randint(0, n * n - 1)\n",
    "\n",
    "    path = csp(adj, src, dst, 30, 5 * (n + n + 1))"
   ]
  },
  {
   "cell_type": "code",
   "execution_count": 153,
   "metadata": {},
   "outputs": [
    {
     "data": {
      "text/plain": [
       "(31, 27, 50, 51)"
      ]
     },
     "execution_count": 153,
     "metadata": {},
     "output_type": "execute_result"
    }
   ],
   "source": [
    "def cost(adj, path):\n",
    "    c = 0\n",
    "    for i, j in zip(path, path[1:]):\n",
    "        c += adj[i][j].c\n",
    "    return c\n",
    "\n",
    "spath = csp(adj, src, dst)\n",
    "len(spath) - 1, len(path) - 1, cost(adj, spath), cost(adj, path)"
   ]
  },
  {
   "cell_type": "markdown",
   "metadata": {},
   "source": [
    "The constrained shortest path finds a feasible path of slightly superior cost than the unconstrained shortest path."
   ]
  },
  {
   "cell_type": "markdown",
   "metadata": {},
   "source": [
    "## A terrible benchmark"
   ]
  },
  {
   "cell_type": "code",
   "execution_count": 154,
   "metadata": {},
   "outputs": [
    {
     "name": "stdout",
     "output_type": "stream",
     "text": [
      "The slowest run took 7.21 times longer than the fastest. This could mean that an intermediate result is being cached.\n",
      "54.7 ms ± 28.3 ms per loop (mean ± std. dev. of 7 runs, 10 loops each)\n"
     ]
    }
   ],
   "source": [
    "%%timeit\n",
    "\n",
    "src = dst = random.randint(0, n * n - 1)\n",
    "while dst == src:\n",
    "    dst = random.randint(0, n * n - 1)\n",
    "\n",
    "path = csp(adj, src, dst, 30, 5 * (n + n + 1))"
   ]
  }
 ],
 "metadata": {
  "kernelspec": {
   "display_name": "Python 3 (ipykernel)",
   "language": "python",
   "name": "python3"
  },
  "language_info": {
   "codemirror_mode": {
    "name": "ipython",
    "version": 3
   },
   "file_extension": ".py",
   "mimetype": "text/x-python",
   "name": "python",
   "nbconvert_exporter": "python",
   "pygments_lexer": "ipython3",
   "version": "3.10.8"
  },
  "vscode": {
   "interpreter": {
    "hash": "7ac02b84f0b2c07ad9d596dfc0dd5b68046a23d9882df65ad98f7b44c27b887b"
   }
  }
 },
 "nbformat": 4,
 "nbformat_minor": 2
}
