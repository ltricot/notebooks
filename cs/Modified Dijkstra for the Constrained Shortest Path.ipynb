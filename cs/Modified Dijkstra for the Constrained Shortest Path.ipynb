{
 "cells": [
  {
   "attachments": {},
   "cell_type": "markdown",
   "metadata": {},
   "source": [
    "# Auction algorithm for the CSP\n",
    "\n",
    "## Problem\n",
    "\n",
    "Let $(G, E)$ denote a directed graph. To each arc $(i, j) \\in E$ we associate a cost $c_{ij}$ and a length $l_{ij}$. Let $s$ and $t$ be two distinct nodes in $G$. We consider the Constrained Shortest Path problem formulated as a mixed integer program. $A x = d$ denotes the usual network flow constraint for the shortest path:\n",
    "\n",
    "$$\n",
    "\\begin{alignat*}{3}\n",
    "& \\text{CSP} \\quad=\\quad\n",
    "    && \\text{minimize}   \\quad && c^T x \\\\\n",
    "&   && \\text{subject to} \\quad && A x = d \\\\\n",
    "&   &&                         && l^T x \\leq R \\\\\n",
    "&   &&                         && x \\in \\lbrace 0, 1 \\rbrace^|E| \\\\\n",
    "\\end{alignat*}\n",
    "$$\n",
    "\n",
    "## Modified Dijkstra for the CSP\n",
    "\n",
    "The modified algorithm runs Dijkstra on an auxiliary graph, which we describe here:\n",
    "- Denote the auxiliary graph $(G', E')$,\n",
    "- The length and cost of an arc are respectively denoted $l_{ij}$ and $c_{ij}$.\n",
    "- Let $G' = \\lbrace (i, l) : i \\in G,\\: l \\leq R \\text{ and there exists a path from } s \\text{ to } i \\text{ of length } l \\rbrace$\n",
    "- There is an arc in $E'$ from $(i, l_i)$ to $(j, l_j)$ in $G'$ if $l_{ij} = l_j - l_i$. This arc has cost $c_{ij}$."
   ]
  },
  {
   "cell_type": "code",
   "execution_count": 1,
   "metadata": {},
   "outputs": [],
   "source": [
    "from collections import defaultdict\n",
    "from dataclasses import dataclass\n",
    "import heapq\n",
    "import math\n",
    "\n",
    "\n",
    "@dataclass(slots=True)\n",
    "class Arc:\n",
    "    l: float\n",
    "    c: float\n",
    "\n",
    "\n",
    "Node = int\n",
    "Adj = dict[Node, dict[Node, Arc]]\n",
    "\n",
    "\n",
    "def sp(adj: Adj, s: Node, t: Node):\n",
    "    # just dijkstra\n",
    "\n",
    "    frontier = [(0, s, None)]\n",
    "    shortest = defaultdict(lambda: math.inf)\n",
    "    parent = {}\n",
    "\n",
    "    while frontier:\n",
    "        cost, node, pred = heapq.heappop(frontier)\n",
    "\n",
    "        if node in shortest:\n",
    "            continue\n",
    "\n",
    "        if pred is not None:\n",
    "            parent[node] = pred\n",
    "        shortest[node] = cost\n",
    "\n",
    "        if node == t:\n",
    "            path = [t]\n",
    "            while node != s:\n",
    "                node = parent[node]\n",
    "                path.append(node)\n",
    "            return path[::-1]\n",
    "\n",
    "        else:\n",
    "            for adjacent, edge in adj[node].items():\n",
    "                heapq.heappush(frontier, (cost + edge.c, adjacent, node))\n",
    "    \n",
    "    return None\n",
    "\n",
    "\n",
    "def csp(adj: Adj, s: Node, t: Node, R: float = math.inf):\n",
    "    # modified dijkstra\n",
    "\n",
    "    frontier = [(0, 0, s, None)]\n",
    "    shortest = defaultdict(lambda: math.inf)\n",
    "    parent = {}\n",
    "\n",
    "    while frontier:\n",
    "        cost, distance, node, pred = heapq.heappop(frontier)\n",
    "\n",
    "        if (node, distance) in shortest:\n",
    "            continue\n",
    "\n",
    "        if pred is not None:\n",
    "            parent[node, distance] = (pred, distance - adj[pred][node].l)\n",
    "        shortest[node, distance] = cost\n",
    "\n",
    "        if node == t:\n",
    "            path = [t]\n",
    "            while node != s:\n",
    "                node, distance = parent[node, distance]\n",
    "                path.append(node)\n",
    "            return path[::-1]\n",
    "\n",
    "        else:\n",
    "            for adjacent, edge in adj[node].items():\n",
    "                if distance + edge.l <= R:\n",
    "                    heapq.heappush(frontier, (cost + edge.c, distance + edge.l, adjacent, node))\n",
    "    \n",
    "    return None"
   ]
  },
  {
   "cell_type": "markdown",
   "metadata": {},
   "source": [
    "## Testing the algorithm on a random grid graph"
   ]
  },
  {
   "cell_type": "code",
   "execution_count": 2,
   "metadata": {},
   "outputs": [],
   "source": [
    "import random\n",
    "import itertools\n",
    "import collections\n",
    "\n",
    "\n",
    "n = 90\n",
    "\n",
    "nodes = range(n * n)\n",
    "\n",
    "edges = set()\n",
    "for k in nodes:\n",
    "    i, j = divmod(k, n)\n",
    "\n",
    "    for ni, nj in [(i, j + 1), (i, j - 1), (i + 1, j), (i - 1, j)]:\n",
    "        if (n * ni + nj) in nodes and 0 <= nj < n:\n",
    "            edges.add((k, (n * ni + nj)))\n",
    "            edges.add(((n * ni + nj), k))\n",
    "\n",
    "\n",
    "adj = collections.defaultdict(dict)\n",
    "\n",
    "for (i, j) in edges:\n",
    "    adj[i][j] = Arc(1, random.randint(1, 5))"
   ]
  },
  {
   "cell_type": "code",
   "execution_count": 3,
   "metadata": {},
   "outputs": [],
   "source": [
    "src = dst = random.randint(0, n * n - 1)\n",
    "while dst == src:\n",
    "    dst = random.randint(0, n * n - 1)\n",
    "\n",
    "path = csp(adj, src, dst, 45)"
   ]
  },
  {
   "cell_type": "markdown",
   "metadata": {},
   "source": [
    "---\n",
    "\n",
    "We find a path whose cost changes with the length constraint by brute force."
   ]
  },
  {
   "cell_type": "code",
   "execution_count": 4,
   "metadata": {},
   "outputs": [],
   "source": [
    "path = None\n",
    "\n",
    "while path is None or path == csp(adj, src, dst):\n",
    "    src = dst = random.randint(0, n * n - 1)\n",
    "    while dst == src:\n",
    "        dst = random.randint(0, n * n - 1)\n",
    "\n",
    "    path = csp(adj, src, dst, 45)"
   ]
  },
  {
   "cell_type": "code",
   "execution_count": 5,
   "metadata": {},
   "outputs": [
    {
     "data": {
      "text/plain": [
       "(54, 44, 104, 111)"
      ]
     },
     "execution_count": 5,
     "metadata": {},
     "output_type": "execute_result"
    }
   ],
   "source": [
    "def cost(adj, path):\n",
    "    c = 0\n",
    "    for i, j in zip(path, path[1:]):\n",
    "        c += adj[i][j].c\n",
    "    return c\n",
    "\n",
    "spath = sp(adj, src, dst)\n",
    "len(spath) - 1, len(path) - 1, cost(adj, spath), cost(adj, path)"
   ]
  },
  {
   "cell_type": "markdown",
   "metadata": {},
   "source": [
    "The constrained shortest path finds a feasible path of slightly superior cost than the unconstrained shortest path."
   ]
  },
  {
   "cell_type": "markdown",
   "metadata": {},
   "source": [
    "## A terrible benchmark"
   ]
  },
  {
   "cell_type": "code",
   "execution_count": 6,
   "metadata": {},
   "outputs": [
    {
     "name": "stdout",
     "output_type": "stream",
     "text": [
      "12.2 ms ± 624 µs per loop (mean ± std. dev. of 7 runs, 100 loops each)\n"
     ]
    }
   ],
   "source": [
    "%%timeit\n",
    "\n",
    "src = dst = random.randint(0, n * n - 1)\n",
    "while dst == src:\n",
    "    dst = random.randint(0, n * n - 1)\n",
    "\n",
    "path = sp(adj, src, dst)"
   ]
  },
  {
   "cell_type": "code",
   "execution_count": 7,
   "metadata": {},
   "outputs": [
    {
     "name": "stdout",
     "output_type": "stream",
     "text": [
      "109 ms ± 21 ms per loop (mean ± std. dev. of 7 runs, 10 loops each)\n"
     ]
    }
   ],
   "source": [
    "%%timeit\n",
    "\n",
    "src = dst = random.randint(0, n * n - 1)\n",
    "while dst == src:\n",
    "    dst = random.randint(0, n * n - 1)\n",
    "\n",
    "path = csp(adj, src, dst, 45)"
   ]
  }
 ],
 "metadata": {
  "kernelspec": {
   "display_name": "Python 3 (ipykernel)",
   "language": "python",
   "name": "python3"
  },
  "language_info": {
   "codemirror_mode": {
    "name": "ipython",
    "version": 3
   },
   "file_extension": ".py",
   "mimetype": "text/x-python",
   "name": "python",
   "nbconvert_exporter": "python",
   "pygments_lexer": "ipython3",
   "version": "3.10.8"
  },
  "vscode": {
   "interpreter": {
    "hash": "7ac02b84f0b2c07ad9d596dfc0dd5b68046a23d9882df65ad98f7b44c27b887b"
   }
  }
 },
 "nbformat": 4,
 "nbformat_minor": 2
}
