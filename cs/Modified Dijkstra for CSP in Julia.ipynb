{
 "cells": [
  {
   "attachments": {},
   "cell_type": "markdown",
   "metadata": {},
   "source": [
    "# Shortest Path Algorithms\n",
    "\n",
    "We survey algorithms solving the shortest path problem:\n",
    "\n",
    "$$\n",
    "\\begin{alignat*}{3}\n",
    "& \\text{SP} \\quad=\\quad\n",
    "    && \\text{minimize}   \\quad && c^T x \\\\\n",
    "&   && \\text{subject to} \\quad && A x = d \\\\\n",
    "&   &&                         && x \\geq 0 \\\\\n",
    "\\end{alignat*}\n",
    "$$"
   ]
  },
  {
   "cell_type": "code",
   "execution_count": 1,
   "metadata": {},
   "outputs": [],
   "source": [
    "using DataStructures: BinaryMinHeap, DefaultDict\n",
    "using BenchmarkTools"
   ]
  },
  {
   "cell_type": "code",
   "execution_count": 2,
   "metadata": {},
   "outputs": [
    {
     "data": {
      "text/plain": [
       "sp (generic function with 1 method)"
      ]
     },
     "execution_count": 2,
     "metadata": {},
     "output_type": "execute_result"
    }
   ],
   "source": [
    "struct Arc\n",
    "    length::Float64\n",
    "    cost::Float64\n",
    "end\n",
    "\n",
    "function sp(adj::Dict{Int, Dict{Int, Arc}}, s::Int, t::Int)\n",
    "    frontier = BinaryMinHeap{Tuple{Float64, Int, Int}}()\n",
    "    shortest = DefaultDict{Int, Float64}(Inf)\n",
    "    parent = Dict{Int, Int}()\n",
    "\n",
    "    push!(frontier, (0.0, s, s))\n",
    "    while !isempty(frontier)\n",
    "        cost, node, pred = pop!(frontier)\n",
    "\n",
    "        if haskey(shortest, node)\n",
    "            continue\n",
    "        end\n",
    "\n",
    "        parent[node] = pred\n",
    "        shortest[node] = cost\n",
    "\n",
    "        if node == t\n",
    "            return cost\n",
    "        else\n",
    "            for (adjacent, edge) in adj[node]\n",
    "                push!(frontier, (cost + edge.cost, adjacent, node))\n",
    "            end\n",
    "        end\n",
    "    end\n",
    "\n",
    "    return missing\n",
    "end"
   ]
  },
  {
   "cell_type": "code",
   "execution_count": 24,
   "metadata": {},
   "outputs": [
    {
     "data": {
      "text/plain": [
       "csp (generic function with 2 methods)"
      ]
     },
     "execution_count": 24,
     "metadata": {},
     "output_type": "execute_result"
    }
   ],
   "source": [
    "function csp(adj::Dict{Int, Dict{Int, Arc}}, s::Int, t::Int, R::Float64 = Inf)\n",
    "    frontier = BinaryMinHeap{Tuple{Float64, Float64, Int, Int}}()\n",
    "    shortest = DefaultDict{Tuple{Int, Float64}, Float64}(Inf)\n",
    "    parent = Dict{Tuple{Int, Float64}, Tuple{Int, Float64}}()\n",
    "\n",
    "    push!(frontier, (0.0, 0.0, s, -1))\n",
    "    while !isempty(frontier)\n",
    "        cost, distance, node, pred = pop!(frontier)\n",
    "\n",
    "        if haskey(shortest, (node, distance))\n",
    "            continue\n",
    "        end\n",
    "\n",
    "        if pred != -1\n",
    "            parent[node, distance] = (pred, distance - adj[pred][node].length)\n",
    "        end\n",
    "        shortest[node, distance] = cost\n",
    "\n",
    "        if node == t\n",
    "            return cost\n",
    "        else\n",
    "            for (adjacent, edge) in adj[node]\n",
    "                if distance + edge.length <= R\n",
    "                    push!(frontier, (cost + edge.cost, distance + edge.length, adjacent, node))\n",
    "                end\n",
    "            end\n",
    "        end\n",
    "    end\n",
    "\n",
    "    return missing\n",
    "end"
   ]
  },
  {
   "cell_type": "code",
   "execution_count": 33,
   "metadata": {},
   "outputs": [],
   "source": [
    "n = 90\n",
    "\n",
    "adj = Dict{Int, Dict{Int, Arc}}()\n",
    "\n",
    "function ok(i::Int, j::Int, n::Int)\n",
    "    0 <= i < n && 0 <= j < n\n",
    "end\n",
    "\n",
    "for k in 0:(n * n - 1)\n",
    "    i, j = divrem(k, n)\n",
    "\n",
    "    ns = adj[k] = Dict{Int, Arc}()\n",
    "    for (ni, nj) in [(i - 1, j), (i + 1, j), (i, j - 1), (i, j + 1)]\n",
    "        if ok(ni, nj, n)\n",
    "            ns[n * ni + nj] = Arc(1, rand(1:5))\n",
    "        end\n",
    "    end\n",
    "end"
   ]
  },
  {
   "cell_type": "code",
   "execution_count": 34,
   "metadata": {},
   "outputs": [
    {
     "data": {
      "text/plain": [
       "(166.0, 166.0)"
      ]
     },
     "execution_count": 34,
     "metadata": {},
     "output_type": "execute_result"
    }
   ],
   "source": [
    "s = rand(0:(n * n - 1))\n",
    "t = rand(0:(n * n - 1))\n",
    "sp(adj, s, t), csp(adj, s, t, 1000000.0)"
   ]
  },
  {
   "cell_type": "code",
   "execution_count": 35,
   "metadata": {},
   "outputs": [
    {
     "data": {
      "text/plain": [
       "BenchmarkTools.Trial: 1655 samples with 1 evaluation.\n",
       " Range \u001b[90m(\u001b[39m\u001b[36m\u001b[1mmin\u001b[22m\u001b[39m … \u001b[35mmax\u001b[39m\u001b[90m):  \u001b[39m\u001b[36m\u001b[1m1.166 μs\u001b[22m\u001b[39m … \u001b[35m7.515 ms\u001b[39m  \u001b[90m┊\u001b[39m GC \u001b[90m(\u001b[39mmin … max\u001b[90m): \u001b[39m0.00% … 38.01%\n",
       " Time  \u001b[90m(\u001b[39m\u001b[34m\u001b[1mmedian\u001b[22m\u001b[39m\u001b[90m):     \u001b[39m\u001b[34m\u001b[1m2.940 ms             \u001b[22m\u001b[39m\u001b[90m┊\u001b[39m GC \u001b[90m(\u001b[39mmedian\u001b[90m):    \u001b[39m0.00%\n",
       " Time  \u001b[90m(\u001b[39m\u001b[32m\u001b[1mmean\u001b[22m\u001b[39m ± \u001b[32mσ\u001b[39m\u001b[90m):   \u001b[39m\u001b[32m\u001b[1m3.018 ms\u001b[22m\u001b[39m ± \u001b[32m1.849 ms\u001b[39m  \u001b[90m┊\u001b[39m GC \u001b[90m(\u001b[39mmean ± σ\u001b[90m):  \u001b[39m0.88% ±  5.37%\n",
       "\n",
       "  \u001b[39m▆\u001b[39m▅\u001b[39m▃\u001b[39m \u001b[39m▅\u001b[39m▁\u001b[39m▄\u001b[39m▁\u001b[39m▂\u001b[39m█\u001b[39m▁\u001b[39m \u001b[39m▃\u001b[39m▂\u001b[39m▂\u001b[39m \u001b[39m▃\u001b[39m \u001b[39m \u001b[39m▂\u001b[39m▇\u001b[39m▆\u001b[39m \u001b[39m \u001b[39m▄\u001b[39m▃\u001b[39m▄\u001b[34m \u001b[39m\u001b[39m▃\u001b[39m▁\u001b[39m \u001b[39m▆\u001b[39m \u001b[39m▄\u001b[39m▁\u001b[39m▂\u001b[39m \u001b[39m \u001b[39m \u001b[39m \u001b[39m \u001b[39m▂\u001b[39m▁\u001b[39m▅\u001b[39m▃\u001b[39m \u001b[39m▃\u001b[39m \u001b[39m▁\u001b[39m▂\u001b[39m \u001b[39m▃\u001b[39m▃\u001b[39m▁\u001b[39m \u001b[39m \u001b[39m \u001b[39m \u001b[39m \n",
       "  \u001b[39m█\u001b[39m█\u001b[39m█\u001b[39m█\u001b[39m█\u001b[39m█\u001b[39m█\u001b[39m█\u001b[39m█\u001b[39m█\u001b[39m█\u001b[39m█\u001b[39m█\u001b[39m█\u001b[39m█\u001b[39m█\u001b[39m█\u001b[39m▇\u001b[39m▄\u001b[39m█\u001b[39m█\u001b[39m█\u001b[39m▆\u001b[39m▇\u001b[39m█\u001b[39m█\u001b[39m█\u001b[34m▇\u001b[39m\u001b[39m█\u001b[39m█\u001b[39m█\u001b[39m█\u001b[39m█\u001b[39m█\u001b[39m█\u001b[39m█\u001b[39m▇\u001b[39m█\u001b[39m▇\u001b[39m█\u001b[39m█\u001b[39m█\u001b[39m█\u001b[39m█\u001b[39m█\u001b[39m▆\u001b[39m█\u001b[39m▆\u001b[39m█\u001b[39m█\u001b[39m▇\u001b[39m█\u001b[39m█\u001b[39m█\u001b[39m█\u001b[39m▆\u001b[39m▆\u001b[39m \u001b[39m▆\n",
       "  1.17 μs\u001b[90m        Histogram: frequency by time\u001b[39m       6.31 ms \u001b[0m\u001b[1m<\u001b[22m\n",
       "\n",
       " Memory estimate\u001b[90m: \u001b[39m\u001b[33m1.48 KiB\u001b[39m, allocs estimate\u001b[90m: \u001b[39m\u001b[33m18\u001b[39m."
      ]
     },
     "execution_count": 35,
     "metadata": {},
     "output_type": "execute_result"
    }
   ],
   "source": [
    "@benchmark begin\n",
    "    s = rand(0:(n * n - 1))\n",
    "    t = rand(0:(n * n - 1))\n",
    "    sp(adj, s, t)\n",
    "end"
   ]
  },
  {
   "cell_type": "code",
   "execution_count": 37,
   "metadata": {},
   "outputs": [
    {
     "data": {
      "text/plain": [
       "BenchmarkTools.Trial: 207 samples with 1 evaluation.\n",
       " Range \u001b[90m(\u001b[39m\u001b[36m\u001b[1mmin\u001b[22m\u001b[39m … \u001b[35mmax\u001b[39m\u001b[90m):  \u001b[39m\u001b[36m\u001b[1m55.334 μs\u001b[22m\u001b[39m … \u001b[35m40.288 ms\u001b[39m  \u001b[90m┊\u001b[39m GC \u001b[90m(\u001b[39mmin … max\u001b[90m): \u001b[39m0.00% … 3.60%\n",
       " Time  \u001b[90m(\u001b[39m\u001b[34m\u001b[1mmedian\u001b[22m\u001b[39m\u001b[90m):     \u001b[39m\u001b[34m\u001b[1m25.698 ms              \u001b[22m\u001b[39m\u001b[90m┊\u001b[39m GC \u001b[90m(\u001b[39mmedian\u001b[90m):    \u001b[39m0.00%\n",
       " Time  \u001b[90m(\u001b[39m\u001b[32m\u001b[1mmean\u001b[22m\u001b[39m ± \u001b[32mσ\u001b[39m\u001b[90m):   \u001b[39m\u001b[32m\u001b[1m24.267 ms\u001b[22m\u001b[39m ± \u001b[32m10.604 ms\u001b[39m  \u001b[90m┊\u001b[39m GC \u001b[90m(\u001b[39mmean ± σ\u001b[90m):  \u001b[39m0.70% ± 3.41%\n",
       "\n",
       "  \u001b[39m \u001b[39m \u001b[39m \u001b[39m \u001b[39m \u001b[39m \u001b[39m \u001b[39m \u001b[39m \u001b[39m \u001b[39m \u001b[39m \u001b[39m \u001b[39m \u001b[39m \u001b[39m \u001b[39m \u001b[39m \u001b[39m \u001b[39m \u001b[39m▁\u001b[39m \u001b[39m \u001b[39m▁\u001b[39m \u001b[39m \u001b[39m \u001b[39m▁\u001b[39m \u001b[39m \u001b[39m▂\u001b[39m \u001b[39m \u001b[39m▁\u001b[39m▂\u001b[39m \u001b[32m▁\u001b[39m\u001b[39m▄\u001b[34m▄\u001b[39m\u001b[39m▁\u001b[39m \u001b[39m \u001b[39m▄\u001b[39m \u001b[39m \u001b[39m▂\u001b[39m \u001b[39m▁\u001b[39m \u001b[39m▄\u001b[39m▇\u001b[39m \u001b[39m▅\u001b[39m \u001b[39m \u001b[39m \u001b[39m▅\u001b[39m█\u001b[39m \u001b[39m \u001b[39m \n",
       "  \u001b[39m█\u001b[39m▃\u001b[39m▃\u001b[39m▅\u001b[39m▅\u001b[39m█\u001b[39m▁\u001b[39m▆\u001b[39m▅\u001b[39m▃\u001b[39m▆\u001b[39m▁\u001b[39m▁\u001b[39m▃\u001b[39m▃\u001b[39m▅\u001b[39m▅\u001b[39m▁\u001b[39m█\u001b[39m▅\u001b[39m█\u001b[39m▅\u001b[39m▆\u001b[39m█\u001b[39m▃\u001b[39m▁\u001b[39m▆\u001b[39m█\u001b[39m▅\u001b[39m▃\u001b[39m█\u001b[39m▆\u001b[39m█\u001b[39m█\u001b[39m█\u001b[39m▃\u001b[32m█\u001b[39m\u001b[39m█\u001b[34m█\u001b[39m\u001b[39m█\u001b[39m█\u001b[39m▆\u001b[39m█\u001b[39m█\u001b[39m█\u001b[39m█\u001b[39m▆\u001b[39m█\u001b[39m▆\u001b[39m█\u001b[39m█\u001b[39m▆\u001b[39m█\u001b[39m█\u001b[39m█\u001b[39m▃\u001b[39m█\u001b[39m█\u001b[39m▃\u001b[39m \u001b[39m▅\n",
       "  55.3 μs\u001b[90m         Histogram: frequency by time\u001b[39m        39.4 ms \u001b[0m\u001b[1m<\u001b[22m\n",
       "\n",
       " Memory estimate\u001b[90m: \u001b[39m\u001b[33m50.14 KiB\u001b[39m, allocs estimate\u001b[90m: \u001b[39m\u001b[33m33\u001b[39m."
      ]
     },
     "execution_count": 37,
     "metadata": {},
     "output_type": "execute_result"
    }
   ],
   "source": [
    "@benchmark begin\n",
    "    s = rand(0:(n * n - 1))\n",
    "    t = rand(0:(n * n - 1))\n",
    "    csp(adj, s, t, 45.0)\n",
    "end"
   ]
  }
 ],
 "metadata": {
  "kernelspec": {
   "display_name": "Julia 1.8.0",
   "language": "julia",
   "name": "julia-1.8"
  },
  "language_info": {
   "file_extension": ".jl",
   "mimetype": "application/julia",
   "name": "julia",
   "version": "1.8.0"
  },
  "orig_nbformat": 4
 },
 "nbformat": 4,
 "nbformat_minor": 2
}
