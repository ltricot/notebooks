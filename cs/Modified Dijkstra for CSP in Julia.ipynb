{
 "cells": [
  {
   "attachments": {},
   "cell_type": "markdown",
   "metadata": {},
   "source": [
    "# Shortest Path Algorithms\n",
    "\n",
    "We survey algorithms solving the shortest path problem:\n",
    "\n",
    "$$\n",
    "\\begin{alignat*}{3}\n",
    "& \\text{SP} \\quad=\\quad\n",
    "    && \\text{minimize}   \\quad && c^T x \\\\\n",
    "&   && \\text{subject to} \\quad && A x = d \\\\\n",
    "&   &&                         && x \\geq 0 \\\\\n",
    "\\end{alignat*}\n",
    "$$"
   ]
  },
  {
   "cell_type": "code",
   "execution_count": 1,
   "metadata": {},
   "outputs": [],
   "source": [
    "using DataStructures: BinaryMinHeap\n",
    "using BenchmarkTools"
   ]
  },
  {
   "cell_type": "code",
   "execution_count": 2,
   "metadata": {},
   "outputs": [],
   "source": [
    "const Node = Int\n",
    "\n",
    "struct Arc{T <: Number}\n",
    "    length::T\n",
    "    cost::T\n",
    "end"
   ]
  },
  {
   "cell_type": "code",
   "execution_count": 3,
   "metadata": {},
   "outputs": [
    {
     "data": {
      "text/plain": [
       "sp (generic function with 1 method)"
      ]
     },
     "execution_count": 3,
     "metadata": {},
     "output_type": "execute_result"
    }
   ],
   "source": [
    "function _sp_path(parent::Dict{Node, Node}, s::Node, t::Node)\n",
    "    p = [t]\n",
    "    while t != s\n",
    "        push!(p, t)\n",
    "        t = parent[t]\n",
    "    end\n",
    "    reverse!(p)\n",
    "    p\n",
    "end\n",
    "\n",
    "function sp(adj::Dict{Node, Dict{Node, Arc{T}}}, s::Node, t::Node) where {T <: Number}\n",
    "    frontier = BinaryMinHeap{Tuple{T, Node, Node}}()\n",
    "    shortest = Dict{Node, T}()\n",
    "    parent = Dict{Node, Node}()\n",
    "\n",
    "    push!(frontier, (zero(T), s, s))\n",
    "    while !isempty(frontier)\n",
    "        cost, node, pred = pop!(frontier)\n",
    "\n",
    "        if haskey(shortest, node)\n",
    "            continue\n",
    "        end\n",
    "\n",
    "        parent[node] = pred\n",
    "        shortest[node] = cost\n",
    "\n",
    "        if node == t\n",
    "            return true, cost, _sp_path(parent, s, t)\n",
    "        else\n",
    "            for (adjacent, edge) in adj[node]\n",
    "                push!(frontier, (cost + edge.cost, adjacent, node))\n",
    "            end\n",
    "        end\n",
    "    end\n",
    "\n",
    "    return false, zero(T), []\n",
    "end"
   ]
  },
  {
   "cell_type": "code",
   "execution_count": 4,
   "metadata": {},
   "outputs": [
    {
     "data": {
      "text/plain": [
       "csp (generic function with 2 methods)"
      ]
     },
     "execution_count": 4,
     "metadata": {},
     "output_type": "execute_result"
    }
   ],
   "source": [
    "function _csp_path(parent::Dict{Tuple{Node, T}, Tuple{Node, T}}, s::Node, t::Node, l::T) where {T <: Number}\n",
    "    p = [t]\n",
    "    while t != s\n",
    "        push!(p, t)\n",
    "        t, l = parent[t, l]\n",
    "    end\n",
    "    reverse!(p)\n",
    "    p\n",
    "end\n",
    "\n",
    "function csp(adj::Dict{Node, Dict{Int, Arc{T}}}, s::Node, t::Node, R::T = Inf) where {T <: Number}\n",
    "    frontier = BinaryMinHeap{Tuple{T, T, Node, Node}}()\n",
    "    shortest = Dict{Tuple{Node, T}, T}()\n",
    "    parent = Dict{Tuple{Node, T}, Tuple{Node, T}}()\n",
    "\n",
    "    push!(frontier, (zero(T), zero(T), s, -1))\n",
    "    while !isempty(frontier)\n",
    "        cost, distance, node, pred = pop!(frontier)\n",
    "\n",
    "        if haskey(shortest, (node, distance))\n",
    "            continue\n",
    "        end\n",
    "\n",
    "        if pred != -1\n",
    "            parent[node, distance] = (pred, distance - adj[pred][node].length)\n",
    "        end\n",
    "        shortest[node, distance] = cost\n",
    "\n",
    "        if node == t\n",
    "            return true, cost, _csp_path(parent, s, t, distance)\n",
    "        else\n",
    "            for (adjacent, edge) in adj[node]\n",
    "                if distance + edge.length <= R\n",
    "                    push!(frontier, (cost + edge.cost, distance + edge.length, adjacent, node))\n",
    "                end\n",
    "            end\n",
    "        end\n",
    "    end\n",
    "\n",
    "    return false, zero(T), []\n",
    "end"
   ]
  },
  {
   "cell_type": "code",
   "execution_count": 5,
   "metadata": {},
   "outputs": [],
   "source": [
    "n = 90\n",
    "\n",
    "adj = Dict{Node, Dict{Node, Arc{Int}}}()\n",
    "\n",
    "function ok(i::Int, j::Int, n::Int)\n",
    "    0 <= i < n && 0 <= j < n\n",
    "end\n",
    "\n",
    "for k in 0:(n * n - 1)\n",
    "    i, j = divrem(k, n)\n",
    "\n",
    "    ns = Dict{Node, Arc}()\n",
    "    for (ni, nj) in [(i - 1, j), (i + 1, j), (i, j - 1), (i, j + 1)]\n",
    "        if ok(ni, nj, n)\n",
    "            ns[n * ni + nj] = Arc(1, rand(1:5))\n",
    "        end\n",
    "    end\n",
    "\n",
    "    adj[k] = ns\n",
    "end"
   ]
  },
  {
   "cell_type": "code",
   "execution_count": 6,
   "metadata": {},
   "outputs": [
    {
     "data": {
      "text/plain": [
       "((true, 31, [3765, 3855, 3945, 4035, 4125, 4215, 4305, 4306, 4396, 4486, 4576, 4666, 4756, 4846, 4845, 4845]), (true, 31, [3765, 3855, 3945, 4035, 4125, 4215, 4305, 4306, 4396, 4486, 4576, 4666, 4756, 4846, 4845, 4845]))"
      ]
     },
     "execution_count": 6,
     "metadata": {},
     "output_type": "execute_result"
    }
   ],
   "source": [
    "s = rand(0:(n * n - 1))\n",
    "t = rand(0:(n * n - 1))\n",
    "sp(adj, s, t), csp(adj, s, t, 1000000)"
   ]
  },
  {
   "cell_type": "code",
   "execution_count": 7,
   "metadata": {},
   "outputs": [
    {
     "data": {
      "text/plain": [
       "BenchmarkTools.Trial: 1622 samples with 1 evaluation.\n",
       " Range \u001b[90m(\u001b[39m\u001b[36m\u001b[1mmin\u001b[22m\u001b[39m … \u001b[35mmax\u001b[39m\u001b[90m):  \u001b[39m\u001b[36m\u001b[1m6.750 μs\u001b[22m\u001b[39m … \u001b[35m12.276 ms\u001b[39m  \u001b[90m┊\u001b[39m GC \u001b[90m(\u001b[39mmin … max\u001b[90m): \u001b[39m0.00% … 0.00%\n",
       " Time  \u001b[90m(\u001b[39m\u001b[34m\u001b[1mmedian\u001b[22m\u001b[39m\u001b[90m):     \u001b[39m\u001b[34m\u001b[1m3.081 ms              \u001b[22m\u001b[39m\u001b[90m┊\u001b[39m GC \u001b[90m(\u001b[39mmedian\u001b[90m):    \u001b[39m0.00%\n",
       " Time  \u001b[90m(\u001b[39m\u001b[32m\u001b[1mmean\u001b[22m\u001b[39m ± \u001b[32mσ\u001b[39m\u001b[90m):   \u001b[39m\u001b[32m\u001b[1m3.080 ms\u001b[22m\u001b[39m ± \u001b[32m 1.924 ms\u001b[39m  \u001b[90m┊\u001b[39m GC \u001b[90m(\u001b[39mmean ± σ\u001b[90m):  \u001b[39m0.69% ± 4.87%\n",
       "\n",
       "  \u001b[39m█\u001b[39m▅\u001b[39m▃\u001b[39m▄\u001b[39m▃\u001b[39m▃\u001b[39m▅\u001b[39m▃\u001b[39m▅\u001b[39m▄\u001b[39m▂\u001b[39m▃\u001b[39m▁\u001b[39m \u001b[39m▂\u001b[39m▃\u001b[39m \u001b[39m▃\u001b[39m▄\u001b[39m▃\u001b[39m▁\u001b[39m▁\u001b[39m \u001b[39m▁\u001b[39m▁\u001b[39m▄\u001b[34m▄\u001b[39m\u001b[39m▁\u001b[39m▄\u001b[39m▆\u001b[39m▄\u001b[39m▃\u001b[39m \u001b[39m▄\u001b[39m▁\u001b[39m \u001b[39m \u001b[39m▃\u001b[39m \u001b[39m▄\u001b[39m▁\u001b[39m▃\u001b[39m▃\u001b[39m▂\u001b[39m▁\u001b[39m \u001b[39m▂\u001b[39m▂\u001b[39m▄\u001b[39m \u001b[39m▁\u001b[39m \u001b[39m \u001b[39m \u001b[39m \u001b[39m \u001b[39m \u001b[39m \u001b[39m \u001b[39m \n",
       "  \u001b[39m█\u001b[39m█\u001b[39m█\u001b[39m█\u001b[39m█\u001b[39m█\u001b[39m█\u001b[39m█\u001b[39m█\u001b[39m█\u001b[39m█\u001b[39m█\u001b[39m█\u001b[39m█\u001b[39m█\u001b[39m█\u001b[39m█\u001b[39m█\u001b[39m█\u001b[39m█\u001b[39m█\u001b[39m█\u001b[39m█\u001b[39m█\u001b[39m█\u001b[39m█\u001b[34m█\u001b[39m\u001b[39m█\u001b[39m█\u001b[39m█\u001b[39m█\u001b[39m█\u001b[39m█\u001b[39m█\u001b[39m█\u001b[39m█\u001b[39m█\u001b[39m█\u001b[39m▇\u001b[39m█\u001b[39m█\u001b[39m█\u001b[39m█\u001b[39m█\u001b[39m█\u001b[39m▇\u001b[39m█\u001b[39m█\u001b[39m█\u001b[39m█\u001b[39m█\u001b[39m▆\u001b[39m▅\u001b[39m▄\u001b[39m▃\u001b[39m▃\u001b[39m▃\u001b[39m▃\u001b[39m \u001b[39m▆\n",
       "  6.75 μs\u001b[90m        Histogram: frequency by time\u001b[39m        6.88 ms \u001b[0m\u001b[1m<\u001b[22m\n",
       "\n",
       " Memory estimate\u001b[90m: \u001b[39m\u001b[33m2.64 KiB\u001b[39m, allocs estimate\u001b[90m: \u001b[39m\u001b[33m22\u001b[39m."
      ]
     },
     "execution_count": 7,
     "metadata": {},
     "output_type": "execute_result"
    }
   ],
   "source": [
    "@benchmark begin\n",
    "    s = rand(0:(n * n - 1))\n",
    "    t = rand(0:(n * n - 1))\n",
    "    sp(adj, s, t)\n",
    "end"
   ]
  },
  {
   "cell_type": "code",
   "execution_count": 8,
   "metadata": {},
   "outputs": [
    {
     "data": {
      "text/plain": [
       "BenchmarkTools.Trial: 257 samples with 1 evaluation.\n",
       " Range \u001b[90m(\u001b[39m\u001b[36m\u001b[1mmin\u001b[22m\u001b[39m … \u001b[35mmax\u001b[39m\u001b[90m):  \u001b[39m\u001b[36m\u001b[1m13.875 μs\u001b[22m\u001b[39m … \u001b[35m34.646 ms\u001b[39m  \u001b[90m┊\u001b[39m GC \u001b[90m(\u001b[39mmin … max\u001b[90m): \u001b[39m0.00% … 0.00%\n",
       " Time  \u001b[90m(\u001b[39m\u001b[34m\u001b[1mmedian\u001b[22m\u001b[39m\u001b[90m):     \u001b[39m\u001b[34m\u001b[1m20.434 ms              \u001b[22m\u001b[39m\u001b[90m┊\u001b[39m GC \u001b[90m(\u001b[39mmedian\u001b[90m):    \u001b[39m0.00%\n",
       " Time  \u001b[90m(\u001b[39m\u001b[32m\u001b[1mmean\u001b[22m\u001b[39m ± \u001b[32mσ\u001b[39m\u001b[90m):   \u001b[39m\u001b[32m\u001b[1m19.501 ms\u001b[22m\u001b[39m ± \u001b[32m 8.502 ms\u001b[39m  \u001b[90m┊\u001b[39m GC \u001b[90m(\u001b[39mmean ± σ\u001b[90m):  \u001b[39m0.98% ± 5.50%\n",
       "\n",
       "  \u001b[39m▃\u001b[39m \u001b[39m \u001b[39m \u001b[39m \u001b[39m \u001b[39m \u001b[39m \u001b[39m \u001b[39m \u001b[39m \u001b[39m \u001b[39m \u001b[39m \u001b[39m \u001b[39m \u001b[39m \u001b[39m \u001b[39m \u001b[39m \u001b[39m \u001b[39m▃\u001b[39m \u001b[39m \u001b[39m▂\u001b[39m \u001b[39m█\u001b[39m \u001b[39m▃\u001b[39m▆\u001b[39m▃\u001b[39m▆\u001b[39m \u001b[39m▂\u001b[39m▂\u001b[39m▃\u001b[32m▆\u001b[39m\u001b[34m▅\u001b[39m\u001b[39m \u001b[39m▃\u001b[39m \u001b[39m▆\u001b[39m▃\u001b[39m▂\u001b[39m▆\u001b[39m▂\u001b[39m▆\u001b[39m \u001b[39m▅\u001b[39m▃\u001b[39m█\u001b[39m \u001b[39m \u001b[39m \u001b[39m▃\u001b[39m▅\u001b[39m▆\u001b[39m \u001b[39m▃\u001b[39m \u001b[39m \n",
       "  \u001b[39m█\u001b[39m█\u001b[39m▁\u001b[39m▇\u001b[39m▇\u001b[39m▇\u001b[39m▁\u001b[39m▇\u001b[39m▅\u001b[39m▄\u001b[39m▄\u001b[39m▄\u001b[39m▄\u001b[39m▅\u001b[39m▁\u001b[39m█\u001b[39m▄\u001b[39m▁\u001b[39m▄\u001b[39m▄\u001b[39m█\u001b[39m█\u001b[39m▇\u001b[39m▅\u001b[39m█\u001b[39m▅\u001b[39m█\u001b[39m▇\u001b[39m█\u001b[39m█\u001b[39m█\u001b[39m█\u001b[39m█\u001b[39m█\u001b[39m█\u001b[39m█\u001b[32m█\u001b[39m\u001b[34m█\u001b[39m\u001b[39m█\u001b[39m█\u001b[39m█\u001b[39m█\u001b[39m█\u001b[39m█\u001b[39m█\u001b[39m█\u001b[39m█\u001b[39m█\u001b[39m█\u001b[39m█\u001b[39m█\u001b[39m█\u001b[39m▇\u001b[39m▇\u001b[39m█\u001b[39m█\u001b[39m█\u001b[39m▇\u001b[39m█\u001b[39m \u001b[39m▅\n",
       "  13.9 μs\u001b[90m         Histogram: frequency by time\u001b[39m        32.2 ms \u001b[0m\u001b[1m<\u001b[22m\n",
       "\n",
       " Memory estimate\u001b[90m: \u001b[39m\u001b[33m12.97 KiB\u001b[39m, allocs estimate\u001b[90m: \u001b[39m\u001b[33m29\u001b[39m."
      ]
     },
     "execution_count": 8,
     "metadata": {},
     "output_type": "execute_result"
    }
   ],
   "source": [
    "@benchmark begin\n",
    "    s = rand(0:(n * n - 1))\n",
    "    t = rand(0:(n * n - 1))\n",
    "    csp(adj, s, t, 45)\n",
    "end"
   ]
  }
 ],
 "metadata": {
  "kernelspec": {
   "display_name": "Julia 1.8.0",
   "language": "julia",
   "name": "julia-1.8"
  },
  "language_info": {
   "file_extension": ".jl",
   "mimetype": "application/julia",
   "name": "julia",
   "version": "1.8.0"
  },
  "orig_nbformat": 4
 },
 "nbformat": 4,
 "nbformat_minor": 2
}
