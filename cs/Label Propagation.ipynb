{
 "cells": [
  {
   "cell_type": "markdown",
   "id": "92d2794c",
   "metadata": {},
   "source": [
    "# Label Propagation"
   ]
  },
  {
   "cell_type": "code",
   "execution_count": 1,
   "id": "6b05a7ef",
   "metadata": {},
   "outputs": [],
   "source": [
    "import numpy as np\n",
    "from scipy import sparse as sp"
   ]
  },
  {
   "cell_type": "markdown",
   "id": "1ab85e17",
   "metadata": {},
   "source": [
    "---\n",
    "\n",
    "Just a routine to generate a random graph."
   ]
  },
  {
   "cell_type": "code",
   "execution_count": 2,
   "id": "63b45796",
   "metadata": {},
   "outputs": [],
   "source": [
    "import random\n",
    "\n",
    "\n",
    "def randgraph(n: int, d: int):\n",
    "    return [random.sample(range(n), k=d) for _ in range(n)]"
   ]
  },
  {
   "cell_type": "code",
   "execution_count": 3,
   "id": "68700b0e",
   "metadata": {},
   "outputs": [
    {
     "data": {
      "text/plain": [
       "[[2, 9, 0],\n",
       " [3, 8, 2],\n",
       " [6, 7, 2],\n",
       " [8, 6, 9],\n",
       " [2, 9, 5],\n",
       " [8, 9, 1],\n",
       " [5, 7, 2],\n",
       " [4, 9, 5],\n",
       " [2, 4, 0],\n",
       " [4, 5, 7]]"
      ]
     },
     "execution_count": 3,
     "metadata": {},
     "output_type": "execute_result"
    }
   ],
   "source": [
    "randgraph(10, 3)"
   ]
  },
  {
   "cell_type": "markdown",
   "id": "d220b310",
   "metadata": {},
   "source": [
    "---\n",
    "\n",
    "Simple implementation of a label propagation scheme. This algorithm is interesting because it can be parallelized very easily, but we don't do this here because Python is not suited to the implementation of parallel algorithms."
   ]
  },
  {
   "cell_type": "code",
   "execution_count": 4,
   "id": "671bdfde",
   "metadata": {},
   "outputs": [],
   "source": [
    "Node = int\n",
    "\n",
    "\n",
    "def propagate(fw: list[list[Node]], maxiter=1000):\n",
    "    labels = list(range(len(fw)))\n",
    "\n",
    "    for _ in range(maxiter):\n",
    "        pivoted = False\n",
    "        for i, adj in enumerate(fw):\n",
    "            l = random.choice([labels[j] for j in adj])\n",
    "            if l != labels[i]:\n",
    "                labels[i] = l\n",
    "                pivoted = True\n",
    "        \n",
    "        if not pivoted:\n",
    "            break\n",
    "\n",
    "    return labels"
   ]
  },
  {
   "cell_type": "code",
   "execution_count": 5,
   "id": "93133037",
   "metadata": {},
   "outputs": [
    {
     "data": {
      "text/plain": [
       "Counter({781: 1000})"
      ]
     },
     "execution_count": 5,
     "metadata": {},
     "output_type": "execute_result"
    }
   ],
   "source": [
    "from collections import Counter\n",
    "\n",
    "\n",
    "Counter(propagate(randgraph(1000, 5)))"
   ]
  },
  {
   "cell_type": "markdown",
   "id": "94784d6d",
   "metadata": {},
   "source": [
    "Label propagation schemes can be implemented as linear algebra routines with associative arrays (see [GraphBLAS](https://graphblas.org/)). They seem to be a form of power iteration."
   ]
  }
 ],
 "metadata": {
  "kernelspec": {
   "display_name": "base",
   "language": "python",
   "name": "python3"
  },
  "language_info": {
   "codemirror_mode": {
    "name": "ipython",
    "version": 3
   },
   "file_extension": ".py",
   "mimetype": "text/x-python",
   "name": "python",
   "nbconvert_exporter": "python",
   "pygments_lexer": "ipython3",
   "version": "3.9.5 | packaged by conda-forge | (default, Jun 19 2021, 00:24:55) \n[Clang 11.1.0 ]"
  },
  "vscode": {
   "interpreter": {
    "hash": "95bae3e2f8b9eee7a77c8fac2356c2c7ae387e0d952fc939286ef19de165cf27"
   }
  }
 },
 "nbformat": 4,
 "nbformat_minor": 5
}
