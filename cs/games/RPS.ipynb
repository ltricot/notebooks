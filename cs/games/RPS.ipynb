{
 "cells": [
  {
   "cell_type": "code",
   "execution_count": 14,
   "metadata": {},
   "outputs": [],
   "source": [
    "def payoff(history):\n",
    "    a, b = history\n",
    "    if a == b:\n",
    "        return 0\n",
    "    elif a == 0:\n",
    "        if b == 1:\n",
    "            return -1\n",
    "        return 2\n",
    "    elif a == 1:\n",
    "        if b == 2:\n",
    "            return -2\n",
    "        return 1\n",
    "    else:\n",
    "        if b == 0:\n",
    "            return -2\n",
    "        return 2\n",
    "\n",
    "\n",
    "def matching(regrets):\n",
    "    rplus = [max(0, r) for r in regrets]\n",
    "    denom = sum(rplus)\n",
    "\n",
    "    if denom > 0:\n",
    "        return [r / denom for r in rplus]\n",
    "    return [1 / 3, 1 / 3, 1 / 3]\n",
    "\n",
    "\n",
    "def walk(history, i, p0, p1, R, S, t=1):\n",
    "    if len(history) == 2:\n",
    "        off = payoff(history)\n",
    "        if i == 0:\n",
    "            return off\n",
    "        return -off\n",
    "\n",
    "    player = len(history)\n",
    "    strat = matching(R)\n",
    "    cf = [0] * 3\n",
    "    value = 0\n",
    "\n",
    "    for action, prob in enumerate(strat):\n",
    "        if player == 0:\n",
    "            cf[action] = walk(history + [action], i, p0 * prob, p1, R, S)\n",
    "        else:\n",
    "            cf[action] = walk(history + [action], i, p0, p1 * prob, R, S)\n",
    "        value += prob * cf[action]\n",
    "    \n",
    "    pi, pmi = p0, p1\n",
    "    if player == 1:\n",
    "        pi, pmi = p1, p0\n",
    "\n",
    "    if player == i:\n",
    "        for action, prob in enumerate(strat):\n",
    "            R[action] += pmi * (cf[action] - value)\n",
    "            S[action] += t * pi * prob\n",
    "    \n",
    "    return value\n",
    "\n",
    "\n",
    "def cfr(maxiter):\n",
    "    R = [[0] * 3 for _ in range(2)]\n",
    "    S = [[0] * 3 for _ in range(2)]\n",
    "\n",
    "    for t in range(1, 1 + maxiter):\n",
    "        for player in range(2):\n",
    "            walk([], player, 1, 1, R[player], S[player], t)\n",
    "\n",
    "    return normalize(S[0]), normalize(S[1])\n",
    "\n",
    "\n",
    "def normalize(v):\n",
    "    s = sum(v)\n",
    "    return [x / s for x in v]"
   ]
  },
  {
   "cell_type": "code",
   "execution_count": 15,
   "metadata": {},
   "outputs": [
    {
     "data": {
      "text/plain": [
       "([0.40912823922060165, 0.3888230107713464, 0.202048750008052],\n",
       " [0.4068718692022249, 0.39360712199917164, 0.19952100879860346])"
      ]
     },
     "execution_count": 15,
     "metadata": {},
     "output_type": "execute_result"
    }
   ],
   "source": [
    "cfr(10000)"
   ]
  }
 ],
 "metadata": {
  "kernelspec": {
   "display_name": "Python 3",
   "language": "python",
   "name": "python3"
  },
  "language_info": {
   "codemirror_mode": {
    "name": "ipython",
    "version": 3
   },
   "file_extension": ".py",
   "mimetype": "text/x-python",
   "name": "python",
   "nbconvert_exporter": "python",
   "pygments_lexer": "ipython3",
   "version": "3.9.2 (default, Mar 19 2021, 23:36:48) \n[Clang 12.0.0 (clang-1200.0.32.29)]"
  },
  "orig_nbformat": 4,
  "vscode": {
   "interpreter": {
    "hash": "61b546fb62739236525826cec2127c36d75e90344e71fbb425746361507daad4"
   }
  }
 },
 "nbformat": 4,
 "nbformat_minor": 2
}
