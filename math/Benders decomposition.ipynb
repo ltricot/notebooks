{
 "cells": [
  {
   "cell_type": "markdown",
   "id": "9bb59db4",
   "metadata": {},
   "source": [
    "# Benders Decomposition\n",
    "\n",
    "Otherwise known as row generation.\n",
    "\n",
    "## Typical example: facility location problem\n",
    "\n",
    "MIP formulation:\n",
    "\n",
    "$$\n",
    "\\begin{alignat*}{3}\n",
    "& Z \\quad=\\quad\n",
    "    && \\text{minimize}   \\quad && \\sum_j c_j x_j + \\sum_{ij} y_{ij} d_{ij} \\\\\n",
    "&   && \\text{subject to} \\quad && \\sum_j x_j \\leq k \\\\\n",
    "&   &&                         && \\sum_j y_{ij} \\geq 1 \\\\\n",
    "&   &&                         && y_{ij} \\leq x_j \\\\\n",
    "&   &&                         && x_i \\in \\lbrace 0, 1 \\rbrace \\\\\n",
    "&   &&                         && y_{ij} \\geq 0\n",
    "\\end{alignat*}\n",
    "$$"
   ]
  },
  {
   "cell_type": "code",
   "execution_count": 1,
   "id": "96c2b3ac",
   "metadata": {},
   "outputs": [],
   "source": [
    "import gurobipy as gp\n",
    "from gurobipy import GRB\n",
    "import numpy as np"
   ]
  },
  {
   "cell_type": "code",
   "execution_count": 2,
   "id": "16932f64",
   "metadata": {},
   "outputs": [],
   "source": [
    "n = 100\n",
    "m = 1000\n",
    "k = 50\n",
    "\n",
    "c = np.maximum(np.random.normal(loc=1, size=n), 0.1)\n",
    "d = np.maximum(np.random.normal(loc=1, size=(m, n)), 0.1)"
   ]
  },
  {
   "cell_type": "code",
   "execution_count": 3,
   "id": "6c3c9de6",
   "metadata": {},
   "outputs": [
    {
     "name": "stdout",
     "output_type": "stream",
     "text": [
      "Set parameter Username\n",
      "Academic license - for non-commercial use only - expires 2023-09-03\n"
     ]
    },
    {
     "data": {
      "text/plain": [
       "<gurobi.Model Continuous instance FLP: 0 constrs, 0 vars, No parameter changes>"
      ]
     },
     "execution_count": 3,
     "metadata": {},
     "output_type": "execute_result"
    }
   ],
   "source": [
    "flp = gp.Model(\"FLP\")\n",
    "\n",
    "x = flp.addVars(n, obj=c, vtype=GRB.BINARY)\n",
    "y = flp.addVars(m, n, obj=d, lb=0, ub=1)\n",
    "\n",
    "flp.addConstr(x.sum() <= k)\n",
    "flp.addConstrs(y.sum(i, \"*\") >= 1 for i in range(m))\n",
    "flp.addConstrs(y[i, j] <= x[j] for i in range(m) for j in range(n))\n",
    "\n",
    "flp"
   ]
  },
  {
   "cell_type": "code",
   "execution_count": 4,
   "id": "08f7ac15",
   "metadata": {},
   "outputs": [],
   "source": [
    "# flp.optimize()"
   ]
  },
  {
   "cell_type": "code",
   "execution_count": 5,
   "id": "2b6c1d00",
   "metadata": {},
   "outputs": [
    {
     "data": {
      "text/plain": [
       "[<gurobi.Var *Awaiting Model Update*>,\n",
       " <gurobi.Var *Awaiting Model Update*>,\n",
       " <gurobi.Var *Awaiting Model Update*>,\n",
       " <gurobi.Var *Awaiting Model Update*>,\n",
       " <gurobi.Var *Awaiting Model Update*>,\n",
       " <gurobi.Var *Awaiting Model Update*>,\n",
       " <gurobi.Var *Awaiting Model Update*>,\n",
       " <gurobi.Var *Awaiting Model Update*>,\n",
       " <gurobi.Var *Awaiting Model Update*>,\n",
       " <gurobi.Var *Awaiting Model Update*>,\n",
       " <gurobi.Var *Awaiting Model Update*>,\n",
       " <gurobi.Var *Awaiting Model Update*>,\n",
       " <gurobi.Var *Awaiting Model Update*>,\n",
       " <gurobi.Var *Awaiting Model Update*>,\n",
       " <gurobi.Var *Awaiting Model Update*>,\n",
       " <gurobi.Var *Awaiting Model Update*>,\n",
       " <gurobi.Var *Awaiting Model Update*>,\n",
       " <gurobi.Var *Awaiting Model Update*>,\n",
       " <gurobi.Var *Awaiting Model Update*>,\n",
       " <gurobi.Var *Awaiting Model Update*>,\n",
       " <gurobi.Var *Awaiting Model Update*>,\n",
       " <gurobi.Var *Awaiting Model Update*>,\n",
       " <gurobi.Var *Awaiting Model Update*>,\n",
       " <gurobi.Var *Awaiting Model Update*>,\n",
       " <gurobi.Var *Awaiting Model Update*>,\n",
       " <gurobi.Var *Awaiting Model Update*>,\n",
       " <gurobi.Var *Awaiting Model Update*>,\n",
       " <gurobi.Var *Awaiting Model Update*>,\n",
       " <gurobi.Var *Awaiting Model Update*>,\n",
       " <gurobi.Var *Awaiting Model Update*>,\n",
       " <gurobi.Var *Awaiting Model Update*>,\n",
       " <gurobi.Var *Awaiting Model Update*>,\n",
       " <gurobi.Var *Awaiting Model Update*>,\n",
       " <gurobi.Var *Awaiting Model Update*>,\n",
       " <gurobi.Var *Awaiting Model Update*>,\n",
       " <gurobi.Var *Awaiting Model Update*>,\n",
       " <gurobi.Var *Awaiting Model Update*>,\n",
       " <gurobi.Var *Awaiting Model Update*>,\n",
       " <gurobi.Var *Awaiting Model Update*>,\n",
       " <gurobi.Var *Awaiting Model Update*>,\n",
       " <gurobi.Var *Awaiting Model Update*>,\n",
       " <gurobi.Var *Awaiting Model Update*>,\n",
       " <gurobi.Var *Awaiting Model Update*>,\n",
       " <gurobi.Var *Awaiting Model Update*>,\n",
       " <gurobi.Var *Awaiting Model Update*>,\n",
       " <gurobi.Var *Awaiting Model Update*>,\n",
       " <gurobi.Var *Awaiting Model Update*>,\n",
       " <gurobi.Var *Awaiting Model Update*>,\n",
       " <gurobi.Var *Awaiting Model Update*>,\n",
       " <gurobi.Var *Awaiting Model Update*>,\n",
       " <gurobi.Var *Awaiting Model Update*>,\n",
       " <gurobi.Var *Awaiting Model Update*>,\n",
       " <gurobi.Var *Awaiting Model Update*>,\n",
       " <gurobi.Var *Awaiting Model Update*>,\n",
       " <gurobi.Var *Awaiting Model Update*>,\n",
       " <gurobi.Var *Awaiting Model Update*>,\n",
       " <gurobi.Var *Awaiting Model Update*>,\n",
       " <gurobi.Var *Awaiting Model Update*>,\n",
       " <gurobi.Var *Awaiting Model Update*>,\n",
       " <gurobi.Var *Awaiting Model Update*>,\n",
       " <gurobi.Var *Awaiting Model Update*>,\n",
       " <gurobi.Var *Awaiting Model Update*>,\n",
       " <gurobi.Var *Awaiting Model Update*>,\n",
       " <gurobi.Var *Awaiting Model Update*>,\n",
       " <gurobi.Var *Awaiting Model Update*>,\n",
       " <gurobi.Var *Awaiting Model Update*>,\n",
       " <gurobi.Var *Awaiting Model Update*>,\n",
       " <gurobi.Var *Awaiting Model Update*>,\n",
       " <gurobi.Var *Awaiting Model Update*>,\n",
       " <gurobi.Var *Awaiting Model Update*>,\n",
       " <gurobi.Var *Awaiting Model Update*>,\n",
       " <gurobi.Var *Awaiting Model Update*>,\n",
       " <gurobi.Var *Awaiting Model Update*>,\n",
       " <gurobi.Var *Awaiting Model Update*>,\n",
       " <gurobi.Var *Awaiting Model Update*>,\n",
       " <gurobi.Var *Awaiting Model Update*>,\n",
       " <gurobi.Var *Awaiting Model Update*>,\n",
       " <gurobi.Var *Awaiting Model Update*>,\n",
       " <gurobi.Var *Awaiting Model Update*>,\n",
       " <gurobi.Var *Awaiting Model Update*>,\n",
       " <gurobi.Var *Awaiting Model Update*>,\n",
       " <gurobi.Var *Awaiting Model Update*>,\n",
       " <gurobi.Var *Awaiting Model Update*>,\n",
       " <gurobi.Var *Awaiting Model Update*>,\n",
       " <gurobi.Var *Awaiting Model Update*>,\n",
       " <gurobi.Var *Awaiting Model Update*>,\n",
       " <gurobi.Var *Awaiting Model Update*>,\n",
       " <gurobi.Var *Awaiting Model Update*>,\n",
       " <gurobi.Var *Awaiting Model Update*>,\n",
       " <gurobi.Var *Awaiting Model Update*>,\n",
       " <gurobi.Var *Awaiting Model Update*>,\n",
       " <gurobi.Var *Awaiting Model Update*>,\n",
       " <gurobi.Var *Awaiting Model Update*>,\n",
       " <gurobi.Var *Awaiting Model Update*>,\n",
       " <gurobi.Var *Awaiting Model Update*>,\n",
       " <gurobi.Var *Awaiting Model Update*>,\n",
       " <gurobi.Var *Awaiting Model Update*>,\n",
       " <gurobi.Var *Awaiting Model Update*>,\n",
       " <gurobi.Var *Awaiting Model Update*>,\n",
       " <gurobi.Var *Awaiting Model Update*>]"
      ]
     },
     "execution_count": 5,
     "metadata": {},
     "output_type": "execute_result"
    }
   ],
   "source": [
    "x.values()"
   ]
  },
  {
   "cell_type": "markdown",
   "id": "d81fe7ad",
   "metadata": {},
   "source": [
    "In Benders decomposition we separate the assignment problem from the facility selection problem. Set the so-called recourse function to be:\n",
    "\n",
    "$$\n",
    "\\begin{alignat*}{4}\n",
    "& Q(x) \\quad=\\quad\n",
    "    && \\text{minimize}   \\quad && \\sum_{ij} y_{ij} d_{ij} && \\\\\n",
    "&   && \\text{subject to} \\quad && \\sum_j y_{ij} \\geq 1    && \\quad [ \\alpha_i ] \\\\\n",
    "&   &&                         && y_{ij} \\leq x_j         && \\quad [ \\beta_{ij} ] \\\\\n",
    "&   &&                         && y_{ij} \\geq 0           &&\n",
    "\\end{alignat*}\n",
    "$$\n",
    "\n",
    "So that the facility location problem becomes:\n",
    "\n",
    "$$\n",
    "\\begin{alignat*}{3}\n",
    "& Z \\quad=\\quad\n",
    "    && \\text{minimize}   \\quad && \\sum_j c_j x_j + \\theta \\\\\n",
    "&   && \\text{subject to} \\quad && \\theta \\geq Q(x) \\\\\n",
    "&   &&                         && \\sum_j x_j \\leq k \\\\\n",
    "&   &&                         && x_i \\in \\lbrace 0, 1 \\rbrace\n",
    "\\end{alignat*}\n",
    "$$\n",
    "\n",
    "The dual of the recourse function problem features $x$ in the objective, but not in the constraints. Then the solutions of the dual lie on the finite set of extreme points of this polyhedron, whatever the $x$. A consequence of this fact is that there exists a linear formulation of the problem above, where the constraint $\\theta \\geq Q(x)$ is expanded into $V$ contraints, where $V$ is the set of extreme points of the feasibility polyhedron of the problem below:\n",
    "\n",
    "$$\n",
    "\\begin{alignat*}{3}\n",
    "& Q(x) \\quad=\\quad\n",
    "    && \\text{maximize}   \\quad && \\sum_i \\alpha_i - \\sum_{ij} \\beta_{ij} x_j \\\\\n",
    "&   && \\text{subject to} \\quad && \\alpha_i - \\beta_{ij} \\leq d_{ij} \\\\\n",
    "&   &&                         && \\alpha_i, \\beta_{ij} \\geq 0\n",
    "\\end{alignat*}\n",
    "$$\n",
    "\n",
    "$V$ is a very large set, so we add constraints lazily by solving for $x^*$ in the master problem, and eliminating $x^*$ if it is infeasible by computing $Q(x^*)$ (thus obtaining $\\alpha(x^*), \\beta(x^*)$ and adding the constraint $\\theta \\geq \\sum_i \\alpha_i(x^*) - \\sum_{ij} \\beta_{ij}(x^*) x_j$ to the master problem."
   ]
  },
  {
   "cell_type": "code",
   "execution_count": 6,
   "id": "b2f2fbac",
   "metadata": {},
   "outputs": [
    {
     "data": {
      "text/plain": [
       "<gurobi.Model Continuous instance master: 0 constrs, 0 vars, No parameter changes>"
      ]
     },
     "execution_count": 6,
     "metadata": {},
     "output_type": "execute_result"
    }
   ],
   "source": [
    "master = gp.Model(\"master\")\n",
    "\n",
    "x = master.addVars(n, obj=c, vtype=GRB.BINARY)\n",
    "t = master.addVar(lb=0, obj=1)\n",
    "\n",
    "master.addConstr(x.sum() <= k)\n",
    "\n",
    "master"
   ]
  },
  {
   "cell_type": "code",
   "execution_count": 7,
   "id": "06aef1ec",
   "metadata": {},
   "outputs": [
    {
     "data": {
      "text/plain": [
       "<gurobi.Model Continuous instance sub: 0 constrs, 0 vars, No parameter changes>"
      ]
     },
     "execution_count": 7,
     "metadata": {},
     "output_type": "execute_result"
    }
   ],
   "source": [
    "sub = gp.Model(\"sub\")\n",
    "\n",
    "sub.modelsense = GRB.MAXIMIZE\n",
    "alpha = sub.addVars(m, obj=1.0, lb=0)\n",
    "beta = sub.addVars(m, n, obj=0, lb=0)\n",
    "\n",
    "sub.addConstrs(alpha[i] - beta[i, j] <= d[i, j] for i in range(m) for j in range(n))\n",
    "\n",
    "sub"
   ]
  },
  {
   "cell_type": "code",
   "execution_count": null,
   "id": "a180ee89",
   "metadata": {},
   "outputs": [],
   "source": [
    "ub = float(\"inf\")\n",
    "lb = float(\"-inf\")\n",
    "\n",
    "while ub - lb > lb * 1e-4:\n",
    "    master.params.outputflag = 0\n",
    "    master.optimize()\n",
    "\n",
    "    for (i, j), var in beta.items():\n",
    "        var.obj = - x[j].x\n",
    "\n",
    "    sub.params.outputflag = 0\n",
    "    sub.params.infunbdinfo = 1\n",
    "    sub.optimize()\n",
    "    \n",
    "    lb = master.getObjective().getValue()\n",
    "    ub = lb - t.x + sub.getObjective().getValue()\n",
    "    \n",
    "    if lb > 0:\n",
    "        print(f\"Gap: {ub / lb - 1:2.2f}%\\tBound: {ub:3.2f}\")\n",
    "\n",
    "    if sub.status == GRB.UNBOUNDED:\n",
    "        expr = (\n",
    "            gp.quicksum(a.unbdray for a in alpha.values())\n",
    "            + gp.quicksum(- beta[i, j].unbdray * x[j] for i in range(m) for j in range(n)))\n",
    "        master.addConstr(expr <= 0)\n",
    "\n",
    "    elif sub.status == GRB.OPTIMAL:\n",
    "        expr = (\n",
    "            gp.quicksum(a.x for a in alpha.values())\n",
    "            + gp.quicksum(- beta[i, j].x * x[j] for i in range(m) for j in range(n)))\n",
    "        master.addConstr(t >= expr)"
   ]
  }
 ],
 "metadata": {
  "kernelspec": {
   "display_name": "Python 3 (ipykernel)",
   "language": "python",
   "name": "python3"
  },
  "language_info": {
   "codemirror_mode": {
    "name": "ipython",
    "version": 3
   },
   "file_extension": ".py",
   "mimetype": "text/x-python",
   "name": "python",
   "nbconvert_exporter": "python",
   "pygments_lexer": "ipython3",
   "version": "3.10.8"
  }
 },
 "nbformat": 4,
 "nbformat_minor": 5
}
