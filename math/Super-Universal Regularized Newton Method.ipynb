{
 "cells": [
  {
   "cell_type": "markdown",
   "id": "e37c48d0",
   "metadata": {},
   "source": [
    "# Super-Universal Regularized Newton Method\n",
    "\n",
    "Playing around with Nikita Doikov, Konstantin Mishchenko, and Yurii Nesterov's [new Newton Method](https://arxiv.org/pdf/2208.05888.pdf). Implementation based on the [code they published](https://github.com/doikov/super-newton/blob/main/methods.py) published with the paper."
   ]
  },
  {
   "cell_type": "markdown",
   "id": "20d6a243",
   "metadata": {},
   "source": [
    "---\n",
    "\n",
    "## Representing an objective\n",
    "\n",
    "Just some classes to represent functinos and their gradients."
   ]
  },
  {
   "cell_type": "code",
   "execution_count": 1,
   "id": "f7360ab9",
   "metadata": {},
   "outputs": [],
   "source": [
    "import numpy as np\n",
    "\n",
    "from dataclasses import dataclass\n",
    "import abc\n",
    "\n",
    "\n",
    "class Objective(abc.ABC):\n",
    "    @abc.abstractmethod\n",
    "    def f(self, arg):\n",
    "        ...\n",
    "\n",
    "    @abc.abstractmethod\n",
    "    def df(self, arg):\n",
    "        ...\n",
    "\n",
    "    @abc.abstractmethod\n",
    "    def ddf(self, arg):\n",
    "        ...\n",
    "\n",
    "    def __add__(self, other):\n",
    "        if other == 0:\n",
    "            return self\n",
    "        if not isinstance(other, Objective):\n",
    "            other = ConstantObjective(other)\n",
    "        return SumObjective(self, other)\n",
    "\n",
    "    def __radd__(self, other):\n",
    "        return self + other\n",
    "\n",
    "    def __sub__(self, other):\n",
    "        return self + (-other)\n",
    "\n",
    "    def __rsub__(self, other):\n",
    "        return - self + other\n",
    "\n",
    "    def __rmul__(self, lmbda):\n",
    "        return ScalarMulObjective(self, lmbda)\n",
    "    \n",
    "    def __neg__(self):\n",
    "        return ScalarMulObjective(self, -1)\n",
    "\n",
    "\n",
    "@dataclass(slots=True)\n",
    "class ConstantObjective(Objective):\n",
    "    const: np.ndarray | float\n",
    "\n",
    "    def f(self, arg):\n",
    "        return self.const\n",
    "\n",
    "    def df(self, arg):\n",
    "        return np.zeros_like(self.const)\n",
    "    \n",
    "    def ddf(self, arg):\n",
    "        z = np.zeros_like(self.const)\n",
    "        return np.add.outer(z, z)\n",
    "\n",
    "\n",
    "@dataclass(slots=True)\n",
    "class SumObjective(Objective):\n",
    "    left: Objective\n",
    "    right: Objective\n",
    "\n",
    "    def f(self, arg):\n",
    "        return self.left.f(arg) + self.right.f(arg)\n",
    "\n",
    "    def df(self, arg):\n",
    "        return self.left.df(arg) + self.right.df(arg)\n",
    "\n",
    "    def ddf(self, arg):\n",
    "        return self.left.ddf(arg) + self.right.ddf(arg)\n",
    "\n",
    "\n",
    "@dataclass(slots=True)\n",
    "class ScalarMulObjective(Objective):\n",
    "    obj: Objective\n",
    "    lmbda: float\n",
    "\n",
    "    def f(self, arg):\n",
    "        return self.lmbda * self.obj.f(arg)\n",
    "\n",
    "    def df(self, arg):\n",
    "        return self.lmbda * self.obj.df(arg)\n",
    "\n",
    "    def ddf(self, arg):\n",
    "        return self.lmbda * self.obj.ddf(arg)"
   ]
  },
  {
   "cell_type": "markdown",
   "id": "61585e99",
   "metadata": {},
   "source": [
    "---\n",
    "\n",
    "## Minimize routine\n",
    "\n",
    "Implementation of the super universal regularized newton method based on the authors' code. Notice the implementation is ridiculously simple !"
   ]
  },
  {
   "cell_type": "code",
   "execution_count": 2,
   "id": "071a4937",
   "metadata": {},
   "outputs": [],
   "source": [
    "import numpy as np\n",
    "import scipy as sp\n",
    "\n",
    "\n",
    "def minimize(obj, initial, alpha=2/3, tol=1e-15, outer=100, inner=10):\n",
    "    h = 1.0\n",
    "    argmin = initial\n",
    "    eye = np.eye(initial.shape[0])\n",
    "\n",
    "    for _ in range(outer):\n",
    "        hess = obj.ddf(argmin)\n",
    "        ngrad = - obj.df(argmin)\n",
    "        sqnorm = ngrad.dot(ngrad)\n",
    "\n",
    "        if sqnorm < tol ** 2:\n",
    "            break\n",
    "\n",
    "        for _ in range(inner):\n",
    "            l = h * sqnorm ** (alpha / 2)\n",
    "            cho = sp.linalg.cho_factor(hess + l * eye, lower=False)\n",
    "            delta = sp.linalg.cho_solve(cho, ngrad)\n",
    "\n",
    "            if ngrad.dot(delta) >= sqnorm / (4 * l):\n",
    "                h = max(h / 4, 1e-5)\n",
    "                break\n",
    "\n",
    "            h *= 4\n",
    "        \n",
    "        argmin += delta\n",
    "    \n",
    "    return argmin"
   ]
  },
  {
   "cell_type": "markdown",
   "id": "f7d9b851",
   "metadata": {},
   "source": [
    "Minimize squared norm, unconstrained."
   ]
  },
  {
   "cell_type": "code",
   "execution_count": 3,
   "id": "b115ec23",
   "metadata": {},
   "outputs": [],
   "source": [
    "@dataclass\n",
    "class sqdist(Objective):\n",
    "    origin: np.ndarray\n",
    "\n",
    "    def f(self, arg):\n",
    "        x = arg - self.origin\n",
    "        return x.dot(x)\n",
    "\n",
    "    def df(self, arg):\n",
    "        return 2 * arg - 2 * self.origin\n",
    "\n",
    "    def ddf(self, arg):\n",
    "        return np.eye(len(arg))\n",
    "\n",
    "\n",
    "def sqnorm(n):\n",
    "    return sqdist(np.zeros(n))"
   ]
  },
  {
   "cell_type": "code",
   "execution_count": 4,
   "id": "ded37057",
   "metadata": {},
   "outputs": [
    {
     "data": {
      "text/plain": [
       "array([-5.64415714e-17, -5.64415714e-17])"
      ]
     },
     "execution_count": 4,
     "metadata": {},
     "output_type": "execute_result"
    }
   ],
   "source": [
    "minimize(sqnorm(2), np.ones(2))"
   ]
  },
  {
   "cell_type": "markdown",
   "id": "6028db28",
   "metadata": {},
   "source": [
    "---\n",
    "\n",
    "## Barrier method\n",
    "\n",
    "Solving constrained problems."
   ]
  },
  {
   "cell_type": "code",
   "execution_count": 5,
   "id": "2ec4c371",
   "metadata": {},
   "outputs": [],
   "source": [
    "from functools import reduce\n",
    "from operator import add\n",
    "\n",
    "\n",
    "@dataclass(slots=True)\n",
    "class barrier(Objective):\n",
    "    h: Objective\n",
    "    \n",
    "    def f(self, arg):\n",
    "        return - np.log(- self.h.f(arg)).sum()\n",
    "\n",
    "    def df(self, arg):\n",
    "        return - self.h.df(arg) / self.h.f(arg)\n",
    "\n",
    "    def ddf(self, arg):\n",
    "        h = self.h.f(arg)\n",
    "        hdf = self.h.df(arg)\n",
    "        return np.multiply.outer(hdf, hdf) / h ** 2 - self.h.ddf(arg) / h\n",
    "\n",
    "\n",
    "@dataclass(slots=True)\n",
    "class affine(Objective):\n",
    "    A: np.ndarray\n",
    "    b: np.ndarray\n",
    "\n",
    "    def f(self, arg):\n",
    "        return self.A @ arg + self.b\n",
    "    \n",
    "    def df(self, arg):\n",
    "        return self.A.sum(axis=0)\n",
    "    \n",
    "    def ddf(self, arg):\n",
    "        n = self.A.shape[1]\n",
    "        return np.zeros((n, n), dtype=self.A.dtype)\n",
    "\n",
    "\n",
    "def constrained(obj, initial, barriers, mu=1.5, outer=20):\n",
    "    if not barriers:\n",
    "        return minimize(obj, initial)\n",
    "\n",
    "    b = reduce(add, barriers, 0)\n",
    "    argmin = initial\n",
    "\n",
    "    for t in np.logspace(-1, outer, outer, base=mu):\n",
    "        argmin = minimize(t * obj + b, argmin)\n",
    "\n",
    "        if not np.isfinite(b.f(argmin)):\n",
    "            raise RuntimeError(f\"mu too large: {mu}\")\n",
    "\n",
    "    return argmin"
   ]
  },
  {
   "cell_type": "markdown",
   "id": "d7677a7f",
   "metadata": {},
   "source": [
    "Minimize distance objective with linear constraint:"
   ]
  },
  {
   "cell_type": "code",
   "execution_count": 6,
   "id": "f11716e6",
   "metadata": {
    "scrolled": false
   },
   "outputs": [
    {
     "data": {
      "text/plain": [
       "array([0.49994988, 0.49994988])"
      ]
     },
     "execution_count": 6,
     "metadata": {},
     "output_type": "execute_result"
    }
   ],
   "source": [
    "def linearb(A, b):\n",
    "    return barrier(affine(A, -b))\n",
    "\n",
    "A = np.asarray([[1, 1]])\n",
    "b = np.asarray([1])\n",
    "\n",
    "n = 2\n",
    "constrained(\n",
    "    obj=sqdist(2 * np.ones(n)),\n",
    "    initial=np.zeros(n),\n",
    "    barriers=[linearb(A, b)],\n",
    ")"
   ]
  },
  {
   "cell_type": "markdown",
   "id": "28398e94",
   "metadata": {},
   "source": [
    "Minimize distance objective with L2 norm constraint:"
   ]
  },
  {
   "cell_type": "code",
   "execution_count": 7,
   "id": "a18c6367",
   "metadata": {},
   "outputs": [
    {
     "data": {
      "text/plain": [
       "array([0.70685036, 0.70685036])"
      ]
     },
     "execution_count": 7,
     "metadata": {},
     "output_type": "execute_result"
    }
   ],
   "source": [
    "constrained(\n",
    "    obj=sqdist(np.ones(n)),\n",
    "    initial=np.zeros(n),\n",
    "    barriers=[barrier(sqnorm(2) - 1)],\n",
    ")"
   ]
  }
 ],
 "metadata": {
  "authors": [
   {
    "name": "Loan Tricot"
   }
  ],
  "kernelspec": {
   "display_name": "Python 3 (ipykernel)",
   "language": "python",
   "name": "python3"
  },
  "language_info": {
   "codemirror_mode": {
    "name": "ipython",
    "version": 3
   },
   "file_extension": ".py",
   "mimetype": "text/x-python",
   "name": "python",
   "nbconvert_exporter": "python",
   "pygments_lexer": "ipython3",
   "version": "3.10.0"
  },
  "title": "Super-Universal Regularized Newton Method"
 },
 "nbformat": 4,
 "nbformat_minor": 5
}
