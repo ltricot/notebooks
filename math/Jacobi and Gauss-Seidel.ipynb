{
 "cells": [
  {
   "cell_type": "markdown",
   "id": "31dbabb6-0dae-49e7-8745-9b2f0aacbbc7",
   "metadata": {},
   "source": [
    "# Jacobi and Gauss-Seidel\n",
    "\n",
    "Implementing linear solvers with numpy and numba\n",
    "\n",
    "---\n",
    "\n",
    "The conclusions in this notebook can vary with the computer use. Intel architectures and the new Apple M1 chip will see different results. Additionally, processors with few cores (such as those you can get cheaply on cloud platforms) won't see any gains with parallelism. In fact, the overhead of parallelism will actually make the algorithm slower.\n",
    "\n",
    "The behaviour of every implementation also varies with the problem size. I encourage you to use different values of $n$ at very different scales: solving a problem of size $n = 10$ is qualitatively very different from solving a problem of size $n = 2000$ or $n = 10000$.\n",
    "\n",
    "---\n",
    "\n",
    "A little warning: running the line profiler on Apple silicon causes a segmentation fault. The package is probably precompiled for Intel architectures."
   ]
  },
  {
   "cell_type": "code",
   "execution_count": 133,
   "id": "dimensional-heaven",
   "metadata": {
    "scrolled": true
   },
   "outputs": [],
   "source": [
    "%%capture\n",
    "\n",
    "import sys\n",
    "!{sys.executable} -m pip install numpy numba line_profiler scipy matplotlib"
   ]
  },
  {
   "cell_type": "code",
   "execution_count": 134,
   "id": "happy-winner",
   "metadata": {},
   "outputs": [],
   "source": [
    "# %load_ext line_profiler"
   ]
  },
  {
   "cell_type": "code",
   "execution_count": 135,
   "id": "cb721614-25be-4ed2-b2e7-e1199840ad39",
   "metadata": {},
   "outputs": [],
   "source": [
    "import numpy as np\n",
    "from numpy.linalg import norm\n",
    "import numpy.random as rng\n",
    "import matplotlib.pyplot as plt"
   ]
  },
  {
   "cell_type": "markdown",
   "id": "1bbf8af4-724c-46ca-ae91-5b47dd34df71",
   "metadata": {},
   "source": [
    "Always check for correctness of your algorithms before optimizing them !"
   ]
  },
  {
   "cell_type": "code",
   "execution_count": 136,
   "id": "5d70439c-ff32-4dab-89ce-352d1924dc0e",
   "metadata": {},
   "outputs": [],
   "source": [
    "def correct(f):\n",
    "    n = 100\n",
    "    A = rng.normal(size=(n, n)) + np.eye(n) * np.sqrt(n * 3)\n",
    "    b = rng.normal(size=(n))\n",
    "\n",
    "    x = f(A, b)\n",
    "    return np.allclose(np.dot(A, x), b)"
   ]
  },
  {
   "cell_type": "markdown",
   "id": "8602f18d-1f69-4262-ad23-72bdc86618b7",
   "metadata": {},
   "source": [
    "The next function is a utility to plot the time an implementation takes for various problem sizes."
   ]
  },
  {
   "cell_type": "code",
   "execution_count": 137,
   "id": "c5cd09ab-3a79-4ef8-8843-8197e484e6db",
   "metadata": {},
   "outputs": [],
   "source": [
    "def curve(*fs):\n",
    "    x = np.asarray([10, 100, 300, 500, 1000, 2000, 5000, 10000])\n",
    "\n",
    "    # measure on the same problems to avoid more randomness\n",
    "    problems = {\n",
    "        n: ((rng.normal(size=(n, n)) + np.eye(n) * np.sqrt(n * 3)), (rng.normal(size=(n))))\n",
    "        for n in x\n",
    "    }\n",
    "\n",
    "    for f in fs:\n",
    "        print(f.__name__)\n",
    "        avgs = []\n",
    "        for n in x:\n",
    "            A, b = problems[n]\n",
    "            res = %timeit -o f(A, b)\n",
    "            avgs.append(res.average)\n",
    "\n",
    "        plt.loglog(x, avgs, label=f.__name__)\n",
    "        print('---')\n",
    "\n",
    "    plt.legend()\n",
    "    plt.show()"
   ]
  },
  {
   "cell_type": "markdown",
   "id": "c5314299-c014-453d-8f95-a10bfcc363fd",
   "metadata": {},
   "source": [
    "## Jacobi algorithm\n",
    "\n",
    "### Numpy implementation\n",
    "\n",
    "Let's start with a seemingly reasonable numpy implementation of the Jacobi algorithm."
   ]
  },
  {
   "cell_type": "code",
   "execution_count": 138,
   "id": "classical-heaven",
   "metadata": {},
   "outputs": [],
   "source": [
    "MAXIT = 1000\n",
    "\n",
    "\n",
    "def jacobi_np(A, b):\n",
    "    D = np.diag(A)\n",
    "    T = (np.diag(D) - A)\n",
    "    T = T / np.expand_dims(D, 1)\n",
    "    c = b / D\n",
    "\n",
    "    x = np.zeros_like(b)\n",
    "    for _ in range(MAXIT):\n",
    "\n",
    "        ox = x.copy()\n",
    "        x[:] = np.dot(T, x) + c\n",
    "\n",
    "        if norm(x - ox) / norm(x) < 1e-9:\n",
    "            break\n",
    "    \n",
    "    return x"
   ]
  },
  {
   "cell_type": "code",
   "execution_count": 139,
   "id": "leading-making",
   "metadata": {},
   "outputs": [],
   "source": [
    "assert correct(jacobi_np)"
   ]
  },
  {
   "cell_type": "code",
   "execution_count": 114,
   "id": "prescription-watershed",
   "metadata": {
    "tags": []
   },
   "outputs": [
    {
     "name": "stdout",
     "output_type": "stream",
     "text": [
      "jacobi_np\n",
      "163 µs ± 1.07 µs per loop (mean ± std. dev. of 7 runs, 10000 loops each)\n",
      "758 µs ± 210 µs per loop (mean ± std. dev. of 7 runs, 1000 loops each)\n",
      "1.01 ms ± 56.8 µs per loop (mean ± std. dev. of 7 runs, 1000 loops each)\n",
      "1.84 ms ± 244 µs per loop (mean ± std. dev. of 7 runs, 100 loops each)\n",
      "5.77 ms ± 242 µs per loop (mean ± std. dev. of 7 runs, 100 loops each)\n",
      "32.5 ms ± 848 µs per loop (mean ± std. dev. of 7 runs, 10 loops each)\n",
      "208 ms ± 5.51 ms per loop (mean ± std. dev. of 7 runs, 1 loop each)\n",
      "887 ms ± 135 ms per loop (mean ± std. dev. of 7 runs, 1 loop each)\n",
      "---\n"
     ]
    },
    {
     "data": {
      "image/png": "[encoded data removed]",
      "text/plain": [
       "<Figure size 432x288 with 1 Axes>"
      ]
     },
     "metadata": {
      "needs_background": "light"
     },
     "output_type": "display_data"
    }
   ],
   "source": [
    "curve(jacobi_np)"
   ]
  },
  {
   "cell_type": "markdown",
   "id": "personalized-therapy",
   "metadata": {},
   "source": [
    "Intuitively one would think the bottleneck of this algorithm is the iterative phase. It is indeed the core of the computation. However by profiling we discover the slowest part is actually creating the `T` matrix. Indeed, dividing by $D$ is an $\\mathcal{O}(n^2)$ operation."
   ]
  },
  {
   "cell_type": "code",
   "execution_count": 140,
   "id": "basic-ecuador",
   "metadata": {},
   "outputs": [],
   "source": [
    "# %lprun -f jacobi_np jacobi_np(A, b)"
   ]
  },
  {
   "cell_type": "markdown",
   "id": "widespread-invalid",
   "metadata": {},
   "source": [
    "Let's optimize the artificially slow part."
   ]
  },
  {
   "cell_type": "code",
   "execution_count": 141,
   "id": "german-conservation",
   "metadata": {},
   "outputs": [],
   "source": [
    "def jacobi_np_2(A, b):\n",
    "    D = np.diag(A)\n",
    "    c = b\n",
    "\n",
    "    x = np.zeros_like(b)\n",
    "    for _ in range(MAXIT):\n",
    "\n",
    "        ox = x.copy()\n",
    "        x[:] = (- np.dot(A, x) + D * x + c) / D\n",
    "\n",
    "        if norm(x - ox) / norm(x) < 1e-9:\n",
    "            break\n",
    "    \n",
    "    return x"
   ]
  },
  {
   "cell_type": "code",
   "execution_count": 142,
   "id": "placed-gender",
   "metadata": {},
   "outputs": [],
   "source": [
    "assert correct(jacobi_np_2)"
   ]
  },
  {
   "cell_type": "markdown",
   "id": "d6111d25-370d-47d8-b59e-d83e65b10161",
   "metadata": {},
   "source": [
    "On Intel and Apple M1 machines `jacobi_np_2`is twice as fast as `jacobi_np`, and the advantage grows with problem size."
   ]
  },
  {
   "cell_type": "code",
   "execution_count": 143,
   "id": "canadian-selection",
   "metadata": {},
   "outputs": [
    {
     "name": "stdout",
     "output_type": "stream",
     "text": [
      "jacobi_np\n",
      "253 µs ± 1.19 µs per loop (mean ± std. dev. of 7 runs, 1000 loops each)\n",
      "809 µs ± 108 µs per loop (mean ± std. dev. of 7 runs, 1000 loops each)\n",
      "1.07 ms ± 303 µs per loop (mean ± std. dev. of 7 runs, 1000 loops each)\n",
      "2.79 ms ± 611 µs per loop (mean ± std. dev. of 7 runs, 100 loops each)\n",
      "6.05 ms ± 1.18 ms per loop (mean ± std. dev. of 7 runs, 100 loops each)\n",
      "34.6 ms ± 3.15 ms per loop (mean ± std. dev. of 7 runs, 10 loops each)\n",
      "241 ms ± 33.7 ms per loop (mean ± std. dev. of 7 runs, 1 loop each)\n",
      "967 ms ± 155 ms per loop (mean ± std. dev. of 7 runs, 1 loop each)\n",
      "---\n",
      "jacobi_np_2\n",
      "334 µs ± 2.49 µs per loop (mean ± std. dev. of 7 runs, 1000 loops each)\n",
      "1.02 ms ± 230 µs per loop (mean ± std. dev. of 7 runs, 1000 loops each)\n",
      "1.39 ms ± 500 µs per loop (mean ± std. dev. of 7 runs, 100 loops each)\n",
      "1.39 ms ± 57.8 µs per loop (mean ± std. dev. of 7 runs, 1000 loops each)\n",
      "4.17 ms ± 695 µs per loop (mean ± std. dev. of 7 runs, 100 loops each)\n",
      "25.6 ms ± 1.56 ms per loop (mean ± std. dev. of 7 runs, 10 loops each)\n",
      "146 ms ± 402 µs per loop (mean ± std. dev. of 7 runs, 10 loops each)\n",
      "593 ms ± 16.3 ms per loop (mean ± std. dev. of 7 runs, 1 loop each)\n",
      "---\n"
     ]
    },
    {
     "data": {
      "image/png": "[encoded data removed]",
      "text/plain": [
       "<Figure size 432x288 with 1 Axes>"
      ]
     },
     "metadata": {
      "needs_background": "light"
     },
     "output_type": "display_data"
    }
   ],
   "source": [
    "curve(jacobi_np, jacobi_np_2)"
   ]
  },
  {
   "cell_type": "markdown",
   "id": "south-attitude",
   "metadata": {},
   "source": [
    "The results of the line profiler are now much more coherent."
   ]
  },
  {
   "cell_type": "code",
   "execution_count": 119,
   "id": "graphic-representation",
   "metadata": {},
   "outputs": [],
   "source": [
    "# %lprun -f jacobi_np_2 jacobi_np_2(A, b)"
   ]
  },
  {
   "cell_type": "markdown",
   "id": "charming-stations",
   "metadata": {},
   "source": [
    "### Numba comes in\n",
    "\n",
    "Can numba accelerate our function out of the box ? On the machines I tested, the answer seems to be no for large problem sizes, but a resounding yes for smaller problem sizes."
   ]
  },
  {
   "cell_type": "code",
   "execution_count": 144,
   "id": "dental-anthropology",
   "metadata": {},
   "outputs": [],
   "source": [
    "from numba import njit, prange"
   ]
  },
  {
   "cell_type": "code",
   "execution_count": 145,
   "id": "regional-terry",
   "metadata": {},
   "outputs": [
    {
     "name": "stdout",
     "output_type": "stream",
     "text": [
      "jacobi_np_2\n",
      "268 µs ± 3.23 µs per loop (mean ± std. dev. of 7 runs, 1000 loops each)\n",
      "1.29 ms ± 381 µs per loop (mean ± std. dev. of 7 runs, 100 loops each)\n",
      "1.23 ms ± 326 µs per loop (mean ± std. dev. of 7 runs, 1000 loops each)\n",
      "1.88 ms ± 398 µs per loop (mean ± std. dev. of 7 runs, 100 loops each)\n",
      "4.29 ms ± 401 µs per loop (mean ± std. dev. of 7 runs, 100 loops each)\n",
      "26 ms ± 989 µs per loop (mean ± std. dev. of 7 runs, 10 loops each)\n",
      "155 ms ± 3.13 ms per loop (mean ± std. dev. of 7 runs, 10 loops each)\n",
      "578 ms ± 5.53 ms per loop (mean ± std. dev. of 7 runs, 1 loop each)\n",
      "---\n",
      "jacobi_np_numba\n",
      "28 µs ± 1.06 µs per loop (mean ± std. dev. of 7 runs, 10000 loops each)\n",
      "349 µs ± 156 µs per loop (mean ± std. dev. of 7 runs, 1000 loops each)\n",
      "735 µs ± 169 µs per loop (mean ± std. dev. of 7 runs, 1000 loops each)\n",
      "1.23 ms ± 165 µs per loop (mean ± std. dev. of 7 runs, 1000 loops each)\n",
      "3.92 ms ± 593 µs per loop (mean ± std. dev. of 7 runs, 100 loops each)\n",
      "24.6 ms ± 2.01 ms per loop (mean ± std. dev. of 7 runs, 10 loops each)\n",
      "147 ms ± 1.9 ms per loop (mean ± std. dev. of 7 runs, 10 loops each)\n",
      "574 ms ± 7.62 ms per loop (mean ± std. dev. of 7 runs, 1 loop each)\n",
      "---\n"
     ]
    },
    {
     "data": {
      "image/png": "[encoded data removed]",
      "text/plain": [
       "<Figure size 432x288 with 1 Axes>"
      ]
     },
     "metadata": {
      "needs_background": "light"
     },
     "output_type": "display_data"
    }
   ],
   "source": [
    "jacobi_np_numba = njit(jacobi_np_2)\n",
    "jacobi_np_numba.__name__ = 'jacobi_np_numba'\n",
    "assert correct(jacobi_np_numba)\n",
    "\n",
    "curve(jacobi_np_2, jacobi_np_numba)"
   ]
  },
  {
   "cell_type": "code",
   "execution_count": 146,
   "id": "6be6129d-e8fa-44ff-a09a-ecc32bcf1d84",
   "metadata": {},
   "outputs": [],
   "source": [
    "def jacobi_loop(A, b):\n",
    "    x = b.copy()\n",
    "\n",
    "    for _ in range(MAXIT):\n",
    "\n",
    "        z = np.empty(len(b))\n",
    "        for i in prange(b.shape[0]):\n",
    "            z[i] = (- np.sum(A[i] * x) + A[i, i] * x[i] + b[i]) / A[i, i]\n",
    "        \n",
    "        ox = x.copy()\n",
    "        x[:] = z\n",
    "\n",
    "        if norm(x - ox) / norm(x) < 1e-9:\n",
    "            break\n",
    "\n",
    "    return x\n",
    "\n",
    "\n",
    "jacobi_loop_numba = njit(fastmath=True, nogil=True)(jacobi_loop)\n",
    "jacobi_loop_numba.__name__ = 'jacobi_loop_numba'\n",
    "\n",
    "jacobi_loop_numba_parallel = njit(parallel=True, fastmath=True, nogil=True)(jacobi_loop)\n",
    "jacobi_loop_numba_parallel.__name__ = 'jacobi_loop_numba_parallel'"
   ]
  },
  {
   "cell_type": "code",
   "execution_count": 147,
   "id": "9b0b6095-563c-4dac-a595-5a473027b487",
   "metadata": {},
   "outputs": [],
   "source": [
    "assert correct(jacobi_loop_numba)\n",
    "assert correct(jacobi_loop_numba_parallel)"
   ]
  },
  {
   "cell_type": "markdown",
   "id": "alternative-garden",
   "metadata": {},
   "source": [
    "Both of the new functions are faster ! By increasing the size of the problem we can really see the parallel version shine:"
   ]
  },
  {
   "cell_type": "code",
   "execution_count": 148,
   "id": "c64491c4-bf40-483d-b88a-60451f4c700e",
   "metadata": {},
   "outputs": [
    {
     "name": "stdout",
     "output_type": "stream",
     "text": [
      "jacobi_np_2\n",
      "293 µs ± 2.43 µs per loop (mean ± std. dev. of 7 runs, 1000 loops each)\n",
      "904 µs ± 129 µs per loop (mean ± std. dev. of 7 runs, 1000 loops each)\n",
      "1.08 ms ± 86.5 µs per loop (mean ± std. dev. of 7 runs, 1000 loops each)\n",
      "1.63 ms ± 208 µs per loop (mean ± std. dev. of 7 runs, 100 loops each)\n",
      "5.26 ms ± 430 µs per loop (mean ± std. dev. of 7 runs, 100 loops each)\n",
      "27.6 ms ± 1.68 ms per loop (mean ± std. dev. of 7 runs, 10 loops each)\n",
      "159 ms ± 6.36 ms per loop (mean ± std. dev. of 7 runs, 10 loops each)\n",
      "589 ms ± 26.1 ms per loop (mean ± std. dev. of 7 runs, 1 loop each)\n",
      "---\n",
      "jacobi_np_numba\n",
      "29.4 µs ± 1.15 µs per loop (mean ± std. dev. of 7 runs, 10000 loops each)\n",
      "370 µs ± 158 µs per loop (mean ± std. dev. of 7 runs, 1000 loops each)\n",
      "581 µs ± 112 µs per loop (mean ± std. dev. of 7 runs, 1000 loops each)\n",
      "1.3 ms ± 141 µs per loop (mean ± std. dev. of 7 runs, 1000 loops each)\n",
      "3.86 ms ± 1.01 ms per loop (mean ± std. dev. of 7 runs, 100 loops each)\n",
      "24.9 ms ± 2.33 ms per loop (mean ± std. dev. of 7 runs, 10 loops each)\n",
      "152 ms ± 5.22 ms per loop (mean ± std. dev. of 7 runs, 10 loops each)\n",
      "560 ms ± 11 ms per loop (mean ± std. dev. of 7 runs, 1 loop each)\n",
      "---\n",
      "jacobi_loop_numba\n",
      "48.1 µs ± 325 ns per loop (mean ± std. dev. of 7 runs, 10000 loops each)\n",
      "582 µs ± 372 ns per loop (mean ± std. dev. of 7 runs, 1000 loops each)\n",
      "2.89 ms ± 1.88 µs per loop (mean ± std. dev. of 7 runs, 100 loops each)\n",
      "7.89 ms ± 7.9 µs per loop (mean ± std. dev. of 7 runs, 100 loops each)\n",
      "31.2 ms ± 204 µs per loop (mean ± std. dev. of 7 runs, 10 loops each)\n",
      "124 ms ± 647 µs per loop (mean ± std. dev. of 7 runs, 10 loops each)\n",
      "823 ms ± 7.1 ms per loop (mean ± std. dev. of 7 runs, 1 loop each)\n",
      "3.62 s ± 20.2 ms per loop (mean ± std. dev. of 7 runs, 1 loop each)\n",
      "---\n",
      "jacobi_loop_numba_parallel\n",
      "2.25 ms ± 609 µs per loop (mean ± std. dev. of 7 runs, 100 loops each)\n",
      "1.88 ms ± 515 µs per loop (mean ± std. dev. of 7 runs, 100 loops each)\n",
      "2.23 ms ± 403 µs per loop (mean ± std. dev. of 7 runs, 100 loops each)\n",
      "2.46 ms ± 320 µs per loop (mean ± std. dev. of 7 runs, 100 loops each)\n",
      "5.41 ms ± 371 µs per loop (mean ± std. dev. of 7 runs, 100 loops each)\n",
      "28.6 ms ± 1.17 ms per loop (mean ± std. dev. of 7 runs, 10 loops each)\n",
      "188 ms ± 1.88 ms per loop (mean ± std. dev. of 7 runs, 10 loops each)\n",
      "702 ms ± 19.4 ms per loop (mean ± std. dev. of 7 runs, 1 loop each)\n",
      "---\n"
     ]
    },
    {
     "data": {
      "image/png": "[encoded data removed]",
      "text/plain": [
       "<Figure size 432x288 with 1 Axes>"
      ]
     },
     "metadata": {
      "needs_background": "light"
     },
     "output_type": "display_data"
    }
   ],
   "source": [
    "curve(jacobi_np_2, jacobi_np_numba, jacobi_loop_numba, jacobi_loop_numba_parallel)"
   ]
  },
  {
   "cell_type": "markdown",
   "id": "2ea40aea-febb-4e7c-96c6-b40279a6f861",
   "metadata": {},
   "source": [
    "Numba comes with a handy tool to understand the optimizations it applies to parallel algorithms. In our case, it seems the gains come from both parallelization and loop fusion. When we run the following line in numpy:\n",
    "\n",
    "```py\n",
    "x[:] = (- np.dot(A, x) + D * x + c) / D\n",
    "```\n",
    "\n",
    "we loop 3 times for each `x[i]`. Indeed, we loop:\n",
    "1. for the dot product\n",
    "2. for the addition\n",
    "3. for the division\n",
    "\n",
    "Every time we loop over the full array, our CPU stores the values in the cache temporarily and evicts them. The cache is not used optimally as each value is fetched and evicted 3 times ! We can improve \"data locality\" by fusing our loops: looping once and applying the three operations. This is one of the optimizations applied by numba.\n",
    "\n",
    "Writing full loops can sometimes be necessary, notably for parallel code (the parallel loop is marked by `prange`). Numba often has an easier time optimizing our loops than understanding our numpy broadcasts."
   ]
  },
  {
   "cell_type": "code",
   "execution_count": 130,
   "id": "d0f5ab1a-4524-44a9-bb19-0ee1253925fb",
   "metadata": {},
   "outputs": [
    {
     "name": "stdout",
     "output_type": "stream",
     "text": [
      " \n",
      "================================================================================\n",
      " Parallel Accelerator Optimizing:  Function jacobi_loop, <ipython-\n",
      "input-122-9e2ba289b937> (1)  \n",
      "================================================================================\n",
      "\n",
      "\n",
      "Parallel loop listing for  Function jacobi_loop, <ipython-input-122-9e2ba289b937> (1) \n",
      "--------------------------------------------------------------------------------|loop #ID\n",
      "def jacobi_loop(A, b):                                                          | \n",
      "    x = b.copy()                                                                | \n",
      "                                                                                | \n",
      "    for _ in range(MAXIT):                                                      | \n",
      "                                                                                | \n",
      "        z = np.empty(len(b))                                                    | \n",
      "        for i in prange(b.shape[0]):--------------------------------------------| #41\n",
      "            z[i] = (- np.sum(A[i] * x) + A[i, i] * x[i] + b[i]) / A[i, i]-------| #38, 40\n",
      "                                                                                | \n",
      "        ox = x.copy()                                                           | \n",
      "        x[:] = z----------------------------------------------------------------| #37\n",
      "                                                                                | \n",
      "        if norm(x - ox) / norm(x) < 1e-9:---------------------------------------| #39\n",
      "            break                                                               | \n",
      "                                                                                | \n",
      "    return x                                                                    | \n",
      "------------------------------ After Optimisation ------------------------------\n",
      "Parallel region 0:\n",
      "+--41 (parallel)\n",
      "   +--38 (serial, fused with loop(s): 40)\n",
      "\n",
      "\n",
      "Parallel region 1:\n",
      "+--37 (parallel, fused with loop(s): 39)\n",
      "\n",
      "\n",
      " \n",
      "Parallel region 0 (loop #41) had 1 loop(s) fused and 1 loop(s) serialized as \n",
      "part of the larger parallel loop (#41).\n",
      " \n",
      "Parallel region 1 (loop #37) had 1 loop(s) fused.\n",
      "--------------------------------------------------------------------------------\n",
      "--------------------------------------------------------------------------------\n",
      " \n"
     ]
    }
   ],
   "source": [
    "jacobi_loop_numba_parallel.parallel_diagnostics(level=1)"
   ]
  },
  {
   "cell_type": "markdown",
   "id": "ce15e3c3-db38-4090-adc9-0b07b2bdb729",
   "metadata": {},
   "source": [
    "## Gauss-Seidel algorithm\n",
    "\n",
    "The first implementation is a rather reasonable numpy implementation of the Jacobi algorithm. The second is precisely the same code, but JIT compiled by numba. The third is loop based and numba accelerated. The fourth is loop based and numba accelerated with the parallel flag on (numba will attempt to parallelize loops marked with `prange`).\n",
    "\n",
    "The attentive reader will observe the fourth implementation is not a correct implementation of Gauss-Seidel. Indeed, it is impossible to parallelize Gauss-Seidel and preserve the same semantics. But it seems that the (potential) disadvantages to embracing disorder in the updates of `x` is outweighed by the benefits of parallelization."
   ]
  },
  {
   "cell_type": "code",
   "execution_count": 152,
   "id": "0bc18642-0bdd-4798-9fc2-011da5c2bd26",
   "metadata": {},
   "outputs": [],
   "source": [
    "MAXIT = 1000\n",
    "\n",
    "\n",
    "def gauss_seidel_np(A, b):\n",
    "    D = np.diag(A)\n",
    "    T = (np.diag(D) - A)\n",
    "    c = b\n",
    "\n",
    "    x = b.copy()\n",
    "    for _ in range(MAXIT):\n",
    "\n",
    "        ox = x.copy()\n",
    "        for i in range(len(b)):\n",
    "            x[i] = (np.sum(T[i] * x) + c[i]) / D[i]\n",
    "        \n",
    "        if norm(x - ox) / norm(x) < 1e-9:\n",
    "            break\n",
    "    \n",
    "    return x\n",
    "\n",
    "\n",
    "def gauss_seidel_loop(A, b):\n",
    "    x = b.copy()\n",
    "\n",
    "    for _ in range(MAXIT):\n",
    "\n",
    "        ox = x.copy()\n",
    "        for i in prange(b.shape[0]):\n",
    "            x[i] = (- np.sum(A[i] * x) + A[i, i] * x[i] + b[i]) / A[i, i]\n",
    "\n",
    "        if norm(x - ox) / norm(x) < 1e-9:\n",
    "            break\n",
    "\n",
    "    return x\n",
    "\n",
    "\n",
    "gauss_seidel_np_numba = njit(gauss_seidel_np)\n",
    "gauss_seidel_np_numba.__name__ = 'gauss_seidel_np_numba'\n",
    "gauss_seidel_loop_numba = njit(fastmath=True, nogil=True)(gauss_seidel_loop)\n",
    "gauss_seidel_loop_numba.__name__ = 'gauss_seidel_loop_numba'\n",
    "gauss_seidel_loop_numba_parallel = njit(parallel=True, fastmath=True, nogil=True)(gauss_seidel_loop)\n",
    "gauss_seidel_loop_numba_parallel.__name__ = 'gauss_seidel_loop_numba_parallel'"
   ]
  },
  {
   "cell_type": "code",
   "execution_count": 154,
   "id": "c4252d3a-cfe2-4488-a5a4-162745661542",
   "metadata": {},
   "outputs": [],
   "source": [
    "assert correct(gauss_seidel_np)\n",
    "assert correct(gauss_seidel_np_numba)\n",
    "assert correct(gauss_seidel_loop_numba)\n",
    "assert correct(gauss_seidel_loop_numba_parallel)"
   ]
  },
  {
   "cell_type": "code",
   "execution_count": 155,
   "id": "c6f6dffd-0063-4d42-9b59-b8fc5dfff015",
   "metadata": {},
   "outputs": [
    {
     "name": "stdout",
     "output_type": "stream",
     "text": [
      "gauss_seidel_np\n",
      "490 µs ± 12 µs per loop (mean ± std. dev. of 7 runs, 1000 loops each)\n",
      "5.37 ms ± 156 µs per loop (mean ± std. dev. of 7 runs, 100 loops each)\n",
      "17.8 ms ± 144 µs per loop (mean ± std. dev. of 7 runs, 100 loops each)\n",
      "30.4 ms ± 216 µs per loop (mean ± std. dev. of 7 runs, 10 loops each)\n",
      "74.4 ms ± 4.66 ms per loop (mean ± std. dev. of 7 runs, 10 loops each)\n",
      "189 ms ± 14 ms per loop (mean ± std. dev. of 7 runs, 1 loop each)\n",
      "721 ms ± 8.17 ms per loop (mean ± std. dev. of 7 runs, 1 loop each)\n",
      "2.51 s ± 95.4 ms per loop (mean ± std. dev. of 7 runs, 1 loop each)\n",
      "---\n",
      "gauss_seidel_np_numba\n",
      "17.2 µs ± 346 ns per loop (mean ± std. dev. of 7 runs, 100000 loops each)\n",
      "319 µs ± 2.69 µs per loop (mean ± std. dev. of 7 runs, 1000 loops each)\n",
      "1.81 ms ± 33.3 µs per loop (mean ± std. dev. of 7 runs, 1000 loops each)\n",
      "4.94 ms ± 44 µs per loop (mean ± std. dev. of 7 runs, 100 loops each)\n",
      "20 ms ± 273 µs per loop (mean ± std. dev. of 7 runs, 10 loops each)\n",
      "79.6 ms ± 886 µs per loop (mean ± std. dev. of 7 runs, 10 loops each)\n",
      "564 ms ± 15.3 ms per loop (mean ± std. dev. of 7 runs, 1 loop each)\n",
      "2.84 s ± 162 ms per loop (mean ± std. dev. of 7 runs, 1 loop each)\n",
      "---\n",
      "gauss_seidel_loop_numba\n",
      "17.3 µs ± 269 ns per loop (mean ± std. dev. of 7 runs, 100000 loops each)\n",
      "303 µs ± 9.67 µs per loop (mean ± std. dev. of 7 runs, 1000 loops each)\n",
      "1.74 ms ± 11.8 µs per loop (mean ± std. dev. of 7 runs, 1000 loops each)\n",
      "4.63 ms ± 15.6 µs per loop (mean ± std. dev. of 7 runs, 100 loops each)\n",
      "18.9 ms ± 189 µs per loop (mean ± std. dev. of 7 runs, 100 loops each)\n",
      "73.4 ms ± 601 µs per loop (mean ± std. dev. of 7 runs, 10 loops each)\n",
      "481 ms ± 5.53 ms per loop (mean ± std. dev. of 7 runs, 1 loop each)\n",
      "2.18 s ± 7.07 ms per loop (mean ± std. dev. of 7 runs, 1 loop each)\n",
      "---\n",
      "gauss_seidel_loop_numba_parallel\n",
      "418 µs ± 18.7 µs per loop (mean ± std. dev. of 7 runs, 1000 loops each)\n",
      "542 µs ± 157 µs per loop (mean ± std. dev. of 7 runs, 1000 loops each)\n",
      "776 µs ± 7.02 µs per loop (mean ± std. dev. of 7 runs, 1000 loops each)\n",
      "1.26 ms ± 101 µs per loop (mean ± std. dev. of 7 runs, 1000 loops each)\n",
      "2.85 ms ± 108 µs per loop (mean ± std. dev. of 7 runs, 100 loops each)\n",
      "18.7 ms ± 1.25 ms per loop (mean ± std. dev. of 7 runs, 100 loops each)\n",
      "114 ms ± 5.73 ms per loop (mean ± std. dev. of 7 runs, 10 loops each)\n",
      "416 ms ± 8.38 ms per loop (mean ± std. dev. of 7 runs, 1 loop each)\n",
      "---\n"
     ]
    },
    {
     "data": {
      "image/png": "[encoded data removed]",
      "text/plain": [
       "<Figure size 432x288 with 1 Axes>"
      ]
     },
     "metadata": {
      "needs_background": "light"
     },
     "output_type": "display_data"
    }
   ],
   "source": [
    "curve(\n",
    "    gauss_seidel_np,\n",
    "    gauss_seidel_np_numba,\n",
    "    gauss_seidel_loop_numba,\n",
    "    gauss_seidel_loop_numba_parallel\n",
    ")"
   ]
  },
  {
   "cell_type": "markdown",
   "id": "90b8e265-dd26-4002-8721-48a0bd02af45",
   "metadata": {},
   "source": [
    "We have written a parallel version of Gauss-Seidel with different semantics, but which nonetheless converges, and does so quite fast !\n",
    "\n",
    "The graph above tells us 3 things:\n",
    "1. Numba spotted the loop fusions in the numpy code (there is no difference between gauss_seidel_np_numba and gauss_seidel_loop_numba)\n",
    "2. Numba's advantage weakens with problem size\n",
    "3. Parallelism is a game changer for Gauss-Seidel"
   ]
  }
 ],
 "metadata": {
  "kernelspec": {
   "display_name": "Python 3 (ipykernel)",
   "language": "python",
   "name": "python3"
  },
  "language_info": {
   "codemirror_mode": {
    "name": "ipython",
    "version": 3
   },
   "file_extension": ".py",
   "mimetype": "text/x-python",
   "name": "python",
   "nbconvert_exporter": "python",
   "pygments_lexer": "ipython3",
   "version": "3.10.0"
  }
 },
 "nbformat": 4,
 "nbformat_minor": 5
}
