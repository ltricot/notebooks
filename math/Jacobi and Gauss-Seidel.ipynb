{
 "cells": [
  {
   "cell_type": "markdown",
   "id": "31dbabb6-0dae-49e7-8745-9b2f0aacbbc7",
   "metadata": {},
   "source": [
    "# Jacobi and Gauss-Seidel\n",
    "\n",
    "Numba accelerated."
   ]
  },
  {
   "cell_type": "code",
   "execution_count": 1,
   "id": "cb721614-25be-4ed2-b2e7-e1199840ad39",
   "metadata": {},
   "outputs": [],
   "source": [
    "import numpy as np\n",
    "from numpy.linalg import norm\n",
    "from numba import njit, prange"
   ]
  },
  {
   "cell_type": "code",
   "execution_count": 2,
   "id": "5d70439c-ff32-4dab-89ce-352d1924dc0e",
   "metadata": {},
   "outputs": [],
   "source": [
    "def correct(f, A, b):\n",
    "    x = f(A, b)\n",
    "    return np.allclose(np.dot(A, x), b)"
   ]
  },
  {
   "cell_type": "markdown",
   "id": "c5314299-c014-453d-8f95-a10bfcc363fd",
   "metadata": {},
   "source": [
    "## Jacobi algorithm\n",
    "\n",
    "The first implementation is a rather reasonable numpy implementation of the Jacobi algorithm. The second is precisely the same code, but JIT compiled by numba. The third is loop based and numba accelerated. The fourth is loop based and numba accelerated with the parallel flag on (numba will attempt to parallelize loops marked with `prange`)."
   ]
  },
  {
   "cell_type": "code",
   "execution_count": 3,
   "id": "6be6129d-e8fa-44ff-a09a-ecc32bcf1d84",
   "metadata": {},
   "outputs": [],
   "source": [
    "MAXIT = 1000\n",
    "\n",
    "\n",
    "def jacobi_np(A, b):\n",
    "    D = np.diag(A)\n",
    "    T = (np.diag(D) - A) / np.expand_dims(D, 1)\n",
    "    c = b / D\n",
    "\n",
    "    x = np.zeros_like(b)\n",
    "    for _ in range(MAXIT):\n",
    "\n",
    "        ox = x.copy()\n",
    "        x[:] = np.dot(T, x) + c\n",
    "        \n",
    "        if norm(x - ox) / norm(x) < 1e-9:\n",
    "            break\n",
    "    \n",
    "    return x\n",
    "\n",
    "\n",
    "def jacobi_loop(A, b):\n",
    "    x = b.copy()\n",
    "\n",
    "    for _ in range(MAXIT):\n",
    "\n",
    "        z = np.empty(len(b))\n",
    "        for i in prange(b.shape[0]):\n",
    "            z[i] = (- np.sum(A[i] * x) + A[i, i] * x[i] + b[i]) / A[i, i]\n",
    "        \n",
    "        ox = x.copy()\n",
    "        x[:] = z\n",
    "\n",
    "        if norm(x - ox) / norm(x) < 1e-9:\n",
    "            break\n",
    "\n",
    "    return x\n",
    "\n",
    "\n",
    "jacobi_np_numba = njit(fastmath=True, nogil=True)(jacobi_np)\n",
    "jacobi_loop_numba = njit(fastmath=True, nogil=True)(jacobi_loop)\n",
    "jacobi_loop_numba_parallel = njit(parallel=True, fastmath=True, nogil=True)(jacobi_loop)"
   ]
  },
  {
   "cell_type": "code",
   "execution_count": 7,
   "id": "9b0b6095-563c-4dac-a595-5a473027b487",
   "metadata": {},
   "outputs": [],
   "source": [
    "import numpy.random as rng\n",
    "\n",
    "n = 5000\n",
    "A = rng.normal(size=(n, n)) + np.eye(n) * 100\n",
    "b = rng.normal(size=(n))\n",
    "\n",
    "assert correct(jacobi_np, A, b)\n",
    "assert correct(jacobi_np_numba, A, b)\n",
    "assert correct(jacobi_loop_numba, A, b)\n",
    "assert correct(jacobi_loop_numba_parallel, A, b)"
   ]
  },
  {
   "cell_type": "code",
   "execution_count": 5,
   "id": "646d859c-86fd-433d-9ec4-6531ca404cdd",
   "metadata": {},
   "outputs": [
    {
     "name": "stdout",
     "output_type": "stream",
     "text": [
      "4.18 ms ± 265 µs per loop (mean ± std. dev. of 7 runs, 100 loops each)\n"
     ]
    }
   ],
   "source": [
    "%timeit jacobi_np(A, b)"
   ]
  },
  {
   "cell_type": "code",
   "execution_count": 8,
   "id": "5794ab73-95d9-42eb-aacb-7beab5476957",
   "metadata": {},
   "outputs": [
    {
     "name": "stdout",
     "output_type": "stream",
     "text": [
      " "
     ]
    },
    {
     "data": {
      "text/plain": [
       "         1857 function calls (1734 primitive calls) in 0.341 seconds\n",
       "\n",
       "   Ordered by: internal time\n",
       "\n",
       "   ncalls  tottime  percall  cumtime  percall filename:lineno(function)\n",
       "  307/184    0.213    0.001    0.228    0.001 {built-in method numpy.core._multiarray_umath.implement_array_function}\n",
       "        1    0.110    0.110    0.338    0.338 <ipython-input-3-909bf341ce58>:4(jacobi_np)\n",
       "        2    0.013    0.007    0.013    0.007 twodim_base.py:229(diag)\n",
       "        1    0.002    0.002    0.341    0.341 <string>:1(<module>)\n",
       "      120    0.001    0.000    0.002    0.000 linalg.py:2362(norm)\n",
       "      120    0.000    0.000    0.000    0.000 {method 'ravel' of 'numpy.ndarray' objects}\n",
       "        2    0.000    0.000    0.000    0.000 {built-in method numpy.zeros}\n",
       "      180    0.000    0.000    0.213    0.001 <__array_function__ internals>:2(dot)\n",
       "      120    0.000    0.000    0.003    0.000 <__array_function__ internals>:2(norm)\n",
       "       60    0.000    0.000    0.000    0.000 {method 'copy' of 'numpy.ndarray' objects}\n",
       "      124    0.000    0.000    0.000    0.000 {built-in method numpy.array}\n",
       "      120    0.000    0.000    0.000    0.000 _asarray.py:23(asarray)\n",
       "      240    0.000    0.000    0.000    0.000 {built-in method builtins.issubclass}\n",
       "        1    0.000    0.000    0.000    0.000 shape_base.py:512(expand_dims)\n",
       "      120    0.000    0.000    0.000    0.000 linalg.py:112(isComplexType)\n",
       "        1    0.000    0.000    0.341    0.341 {built-in method builtins.exec}\n",
       "        1    0.000    0.000    0.000    0.000 <__array_function__ internals>:2(expand_dims)\n",
       "      180    0.000    0.000    0.000    0.000 multiarray.py:716(dot)\n",
       "      120    0.000    0.000    0.000    0.000 linalg.py:2358(_norm_dispatcher)\n",
       "        1    0.000    0.000    0.000    0.000 fromnumeric.py:1513(diagonal)\n",
       "        4    0.000    0.000    0.000    0.000 _asarray.py:110(asanyarray)\n",
       "        2    0.000    0.000    0.013    0.007 <__array_function__ internals>:2(diag)\n",
       "        1    0.000    0.000    0.000    0.000 {method 'diagonal' of 'numpy.ndarray' objects}\n",
       "        1    0.000    0.000    0.000    0.000 numeric.py:75(zeros_like)\n",
       "        1    0.000    0.000    0.000    0.000 numeric.py:1391(<listcomp>)\n",
       "        1    0.000    0.000    0.000    0.000 <__array_function__ internals>:2(zeros_like)\n",
       "        1    0.000    0.000    0.000    0.000 numeric.py:1341(normalize_axis_tuple)\n",
       "        1    0.000    0.000    0.000    0.000 <__array_function__ internals>:2(diagonal)\n",
       "        1    0.000    0.000    0.000    0.000 {method 'reshape' of 'numpy.ndarray' objects}\n",
       "        1    0.000    0.000    0.000    0.000 shape_base.py:508(_expand_dims_dispatcher)\n",
       "        2    0.000    0.000    0.000    0.000 {built-in method builtins.isinstance}\n",
       "        1    0.000    0.000    0.000    0.000 <__array_function__ internals>:2(empty_like)\n",
       "        6    0.000    0.000    0.000    0.000 {built-in method builtins.len}\n",
       "        1    0.000    0.000    0.000    0.000 {built-in method numpy.core._multiarray_umath.normalize_axis_index}\n",
       "        1    0.000    0.000    0.000    0.000 <__array_function__ internals>:2(copyto)\n",
       "        1    0.000    0.000    0.000    0.000 shape_base.py:600(<listcomp>)\n",
       "        2    0.000    0.000    0.000    0.000 twodim_base.py:225(_diag_dispatcher)\n",
       "        1    0.000    0.000    0.000    0.000 numeric.py:71(_zeros_like_dispatcher)\n",
       "        1    0.000    0.000    0.000    0.000 multiarray.py:75(empty_like)\n",
       "        1    0.000    0.000    0.000    0.000 fromnumeric.py:1509(_diagonal_dispatcher)\n",
       "        1    0.000    0.000    0.000    0.000 {method 'disable' of '_lsprof.Profiler' objects}\n",
       "        1    0.000    0.000    0.000    0.000 {built-in method builtins.next}\n",
       "        1    0.000    0.000    0.000    0.000 {built-in method builtins.abs}\n",
       "        1    0.000    0.000    0.000    0.000 {built-in method builtins.iter}\n",
       "        1    0.000    0.000    0.000    0.000 multiarray.py:1054(copyto)"
      ]
     },
     "metadata": {},
     "output_type": "display_data"
    }
   ],
   "source": [
    "%prun jacobi_np(A, b)"
   ]
  },
  {
   "cell_type": "code",
   "execution_count": 142,
   "id": "6742d9cc-5e2d-48fb-8917-5dbb6c13f845",
   "metadata": {},
   "outputs": [
    {
     "name": "stdout",
     "output_type": "stream",
     "text": [
      "345 ms ± 19.8 ms per loop (mean ± std. dev. of 7 runs, 1 loop each)\n"
     ]
    }
   ],
   "source": [
    "%timeit jacobi_np_numba(A, b)"
   ]
  },
  {
   "cell_type": "code",
   "execution_count": 143,
   "id": "53e61f64-fca0-4793-8145-06215cb9d450",
   "metadata": {},
   "outputs": [
    {
     "name": "stdout",
     "output_type": "stream",
     "text": [
      "1.26 s ± 10.5 ms per loop (mean ± std. dev. of 7 runs, 1 loop each)\n"
     ]
    }
   ],
   "source": [
    "%timeit jacobi_loop_numba(A, b)"
   ]
  },
  {
   "cell_type": "code",
   "execution_count": 144,
   "id": "83d0bb28-1f55-41da-8b8e-4c56213f95d5",
   "metadata": {},
   "outputs": [
    {
     "name": "stdout",
     "output_type": "stream",
     "text": [
      "274 ms ± 7.04 ms per loop (mean ± std. dev. of 7 runs, 1 loop each)\n"
     ]
    }
   ],
   "source": [
    "%timeit jacobi_loop_numba_parallel(A, b)"
   ]
  },
  {
   "cell_type": "markdown",
   "id": "ce15e3c3-db38-4090-adc9-0b07b2bdb729",
   "metadata": {},
   "source": [
    "## Gauss-Seidel algorithm\n",
    "\n",
    "The first implementation is a rather reasonable numpy implementation of the Jacobi algorithm. The second is precisely the same code, but JIT compiled by numba. The third is loop based and numba accelerated. The fourth is loop based and numba accelerated with the parallel flag on (numba will attempt to parallelize loops marked with `prange`).\n",
    "\n",
    "The attentive reader will observe the fourth implementation is not a correct implementation of Gauss-Seidel. Indeed, it is impossible to parallelize Gauss-Seidel and preserve the same semantics. But it seems that the (potential) disadvantages to embracing disorder in the updates of `x` is outweighed by the benefits of parallelization."
   ]
  },
  {
   "cell_type": "code",
   "execution_count": 145,
   "id": "0bc18642-0bdd-4798-9fc2-011da5c2bd26",
   "metadata": {},
   "outputs": [],
   "source": [
    "MAXIT = 1000\n",
    "\n",
    "\n",
    "def gauss_seidel_np(A, b):\n",
    "    D = np.diag(A)\n",
    "    T = (np.diag(D) - A) / np.expand_dims(D, 1)\n",
    "    c = b / D\n",
    "\n",
    "    x = b.copy()\n",
    "    for _ in range(MAXIT):\n",
    "\n",
    "        ox = x.copy()\n",
    "        for i in range(len(b)):\n",
    "            x[i] = np.sum(T[i] * x) + c[i]\n",
    "        \n",
    "        if norm(x - ox) / norm(x) < 1e-9:\n",
    "            break\n",
    "    \n",
    "    return x\n",
    "\n",
    "\n",
    "@njit\n",
    "def gauss_seidel_np_numba(A, b):\n",
    "    D = np.diag(A)\n",
    "    T = (np.diag(D) - A) / np.expand_dims(D, 1)\n",
    "    c = b / D\n",
    "\n",
    "    x = b.copy()\n",
    "    for _ in range(MAXIT):\n",
    "\n",
    "        ox = x.copy()\n",
    "        for i in range(len(b)):\n",
    "            x[i] = np.sum(T[i] * x) + c[i]\n",
    "        \n",
    "        if norm(x - ox) / norm(x) < 1e-9:\n",
    "            break\n",
    "    \n",
    "    return x\n",
    "\n",
    "\n",
    "@njit(fastmath=True, nogil=True)\n",
    "def gauss_seidel_loop_numba(A, b):\n",
    "    x = b.copy()\n",
    "\n",
    "    for _ in range(MAXIT):\n",
    "\n",
    "        ox = x.copy()\n",
    "        for i in prange(b.shape[0]):\n",
    "            x[i] = (- np.sum(A[i] * x) + A[i, i] * x[i] + b[i]) / A[i, i]\n",
    "\n",
    "        if norm(x - ox) / norm(x) < 1e-9:\n",
    "            break\n",
    "\n",
    "    return x\n",
    "\n",
    "\n",
    "@njit(parallel=True, nogil=True)\n",
    "def gauss_seidel_loop_numba_parallel(A, b):\n",
    "    x = b.copy()\n",
    "\n",
    "    for _ in range(MAXIT):\n",
    "\n",
    "        ox = x.copy()\n",
    "        for i in prange(b.shape[0]):\n",
    "            x[i] = (- np.sum(A[i] * x) + A[i, i] * x[i] + b[i]) / A[i, i]\n",
    "\n",
    "        if norm(x - ox) / norm(x) < 1e-9:\n",
    "            break\n",
    "\n",
    "    return x"
   ]
  },
  {
   "cell_type": "code",
   "execution_count": 146,
   "id": "c4252d3a-cfe2-4488-a5a4-162745661542",
   "metadata": {},
   "outputs": [],
   "source": [
    "assert correct(gauss_seidel_np, A, b)\n",
    "assert correct(gauss_seidel_np_numba, A, b)\n",
    "assert correct(gauss_seidel_loop_numba, A, b)\n",
    "assert correct(gauss_seidel_loop_numba_parallel, A, b)\n",
    "\n",
    "None"
   ]
  },
  {
   "cell_type": "code",
   "execution_count": 147,
   "id": "c6f6dffd-0063-4d42-9b59-b8fc5dfff015",
   "metadata": {},
   "outputs": [
    {
     "name": "stdout",
     "output_type": "stream",
     "text": [
      "1.03 s ± 3.57 ms per loop (mean ± std. dev. of 7 runs, 1 loop each)\n"
     ]
    }
   ],
   "source": [
    "%timeit gauss_seidel_np(A, b)"
   ]
  },
  {
   "cell_type": "code",
   "execution_count": 148,
   "id": "65c73dc1-6675-4490-987e-8e45d8b4d06a",
   "metadata": {},
   "outputs": [
    {
     "name": "stdout",
     "output_type": "stream",
     "text": [
      "761 ms ± 2.2 ms per loop (mean ± std. dev. of 7 runs, 1 loop each)\n"
     ]
    }
   ],
   "source": [
    "%timeit gauss_seidel_np_numba(A, b)"
   ]
  },
  {
   "cell_type": "code",
   "execution_count": 149,
   "id": "78e60129-3dcc-41ed-956c-7b8f2d107ee1",
   "metadata": {},
   "outputs": [
    {
     "name": "stdout",
     "output_type": "stream",
     "text": [
      "709 ms ± 1.43 ms per loop (mean ± std. dev. of 7 runs, 1 loop each)\n"
     ]
    }
   ],
   "source": [
    "%timeit gauss_seidel_loop_numba(A, b)"
   ]
  },
  {
   "cell_type": "code",
   "execution_count": 150,
   "id": "e6d13b4f-e16b-4128-ac04-d9841f493293",
   "metadata": {},
   "outputs": [
    {
     "name": "stdout",
     "output_type": "stream",
     "text": [
      "215 ms ± 13 ms per loop (mean ± std. dev. of 7 runs, 1 loop each)\n"
     ]
    }
   ],
   "source": [
    "%timeit gauss_seidel_loop_numba_parallel(A, b)"
   ]
  },
  {
   "cell_type": "markdown",
   "id": "1f646d13-0c14-4e44-8b45-c3830c5d284f",
   "metadata": {},
   "source": [
    "## Results on MBP M1\n",
    "\n",
    "| Implementation | Running time |\n",
    "| -------------- | ------------ |\n",
    "| Jacobi numpy   | 300 ms       |\n",
    "| Jacobi numpy njit | 345 ms    |\n",
    "| Jacobi loop njit | 1.26 s     |\n",
    "| Jacobi loop njit parallel | 274 ms |\n",
    "| GS numpy       | 1.03 s       |\n",
    "| GS numpy njit  | 761 ms       |\n",
    "| GS loop njit   | 709 ms       |\n",
    "| GS loop njit parallel | 215 ms |"
   ]
  }
 ],
 "metadata": {
  "kernelspec": {
   "display_name": "Python 3",
   "language": "python",
   "name": "python3"
  },
  "language_info": {
   "codemirror_mode": {
    "name": "ipython",
    "version": 3
   },
   "file_extension": ".py",
   "mimetype": "text/x-python",
   "name": "python",
   "nbconvert_exporter": "python",
   "pygments_lexer": "ipython3",
   "version": "3.8.8"
  }
 },
 "nbformat": 4,
 "nbformat_minor": 5
}
