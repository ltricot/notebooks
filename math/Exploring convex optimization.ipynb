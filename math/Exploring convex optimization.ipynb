{
 "cells": [
  {
   "cell_type": "markdown",
   "id": "175e511b",
   "metadata": {},
   "source": [
    "# Exploring convex optimization\n",
    "\n",
    "With CVXPY."
   ]
  },
  {
   "cell_type": "code",
   "execution_count": 1,
   "id": "bbea72f5",
   "metadata": {},
   "outputs": [],
   "source": [
    "import cvxpy as cp\n",
    "import numpy as np\n",
    "\n",
    "from pprint import pprint"
   ]
  },
  {
   "cell_type": "markdown",
   "id": "9e2864a4",
   "metadata": {},
   "source": [
    "---\n",
    "\n",
    "Trivial linear program example."
   ]
  },
  {
   "cell_type": "code",
   "execution_count": 2,
   "id": "6f9d76cc",
   "metadata": {},
   "outputs": [
    {
     "name": "stdout",
     "output_type": "stream",
     "text": [
      "{'status': 'optimal', 'value': 4.0, 'x': array(1.), 'y': array(-1.)}\n"
     ]
    }
   ],
   "source": [
    "x, y = cp.Variable(), cp.Variable()\n",
    "\n",
    "constraints = [\n",
    "    x >= 1,\n",
    "    y <= -1,\n",
    "]\n",
    "\n",
    "objective = cp.Minimize((x - y) ** 2)\n",
    "\n",
    "problem = cp.Problem(objective, constraints)\n",
    "problem.solve()\n",
    "\n",
    "pprint({\n",
    "    'status': problem.status,\n",
    "    'value':  problem.value,\n",
    "    'x': x.value,\n",
    "    'y': y.value,\n",
    "})"
   ]
  },
  {
   "cell_type": "markdown",
   "id": "6c7a5684",
   "metadata": {},
   "source": [
    "---\n",
    "\n",
    "Optimal transport linear program."
   ]
  },
  {
   "cell_type": "code",
   "execution_count": 73,
   "id": "fc4af853",
   "metadata": {},
   "outputs": [
    {
     "data": {
      "text/plain": [
       "<matplotlib.image.AxesImage at 0x146a34ca0>"
      ]
     },
     "execution_count": 73,
     "metadata": {},
     "output_type": "execute_result"
    },
    {
     "data": {
      "image/png": "[encoded data removed]",
      "text/plain": [
       "<Figure size 1152x360 with 3 Axes>"
      ]
     },
     "metadata": {
      "needs_background": "light"
     },
     "output_type": "display_data"
    }
   ],
   "source": [
    "import matplotlib.pyplot as plt\n",
    "import seaborn as sns\n",
    "from scipy.stats import norm\n",
    "\n",
    "\n",
    "n, m = 10, 10\n",
    "x = np.linspace(-50, 50, n)\n",
    "y = np.linspace(-50, 50, m)\n",
    "\n",
    "u = norm.pdf(x, loc=-20, scale=7)\n",
    "u /= u.sum()\n",
    "v = norm.pdf(y, loc=20, scale=7)\n",
    "v /= v.sum()\n",
    "\n",
    "C = np.abs(np.subtract.outer(x, y))\n",
    "\n",
    "def ot(u, v, C):\n",
    "    pi = cp.Variable((n, m))\n",
    "\n",
    "    constraints = [\n",
    "        cp.sum(pi, axis=1) == u,\n",
    "        cp.sum(pi, axis=0) == v,\n",
    "        pi >= 0\n",
    "    ]\n",
    "\n",
    "    objective = cp.Minimize(cp.sum_squares(cp.multiply(pi, C)))\n",
    "\n",
    "    problem = cp.Problem(objective, constraints)\n",
    "    problem.solve()\n",
    "\n",
    "    return pi.value\n",
    "\n",
    "pi = ot(u, v, C)\n",
    "\n",
    "fig, (a1, a2, a3) = plt.subplots(1, 3, figsize=(16, 5))\n",
    "a1.plot(x, u)\n",
    "a2.plot(y, v)\n",
    "a3.matshow(pi)"
   ]
  },
  {
   "cell_type": "code",
   "execution_count": 75,
   "id": "72398fde",
   "metadata": {},
   "outputs": [],
   "source": [
    "from numba import njit\n",
    "\n",
    "\n",
    "@njit\n",
    "def argnmax(a: np.ndarray):\n",
    "    i1, i2 = -1, -1\n",
    "    v1, v2 = -np.inf, -np.inf\n",
    "\n",
    "    for i in range(len(a)):\n",
    "        if a[i] > v1:\n",
    "            v2 = v1\n",
    "            i2 = i1\n",
    "\n",
    "            v1 = a[i]\n",
    "            i1 = i\n",
    "\n",
    "    return i1, i2\n",
    "\n",
    "@njit\n",
    "def auction(A: np.ndarray):\n",
    "    N = len(A)\n",
    "    p = np.zeros(N)\n",
    "    eps = 1 / N / 2\n",
    "\n",
    "    assignment = dict()         # obj to person\n",
    "    unassigned = set(range(N))  # unassigned people\n",
    "\n",
    "    while unassigned:\n",
    "        i = unassigned.pop()\n",
    "\n",
    "        m = A[i] - p\n",
    "        v, w = argnmax(m)\n",
    "        p[v] = p[v] + eps + m[v] - m[w]\n",
    "\n",
    "        if v in assignment:\n",
    "            unassigned.add(int(assignment.pop(v)))\n",
    "\n",
    "        assignment[v] = i\n",
    "\n",
    "    # numba doesn't support comprehensions\n",
    "    rev = {}\n",
    "    for k, v in assignment.items():\n",
    "        rev[v] = k\n",
    "\n",
    "    return rev"
   ]
  },
  {
   "cell_type": "code",
   "execution_count": 77,
   "id": "d1a06633",
   "metadata": {},
   "outputs": [
    {
     "name": "stdout",
     "output_type": "stream",
     "text": [
      "420 µs ± 719 ns per loop (mean ± std. dev. of 7 runs, 1000 loops each)\n"
     ]
    }
   ],
   "source": [
    "n = 500\n",
    "A = np.random.randint(10, size=(n, n)).astype(int)\n",
    "\n",
    "%timeit auction(A)"
   ]
  },
  {
   "cell_type": "markdown",
   "id": "ff95d932",
   "metadata": {},
   "source": [
    "Entropic regularized optimal transport problem."
   ]
  },
  {
   "cell_type": "code",
   "execution_count": 78,
   "id": "b1ef2c4a",
   "metadata": {},
   "outputs": [
    {
     "name": "stdout",
     "output_type": "stream",
     "text": [
      "[[0.1 0.  0.  0. ]\n",
      " [0.1 0.1 0.  0. ]\n",
      " [0.1 0.1 0.1 0. ]\n",
      " [0.1 0.1 0.1 0.1]]\n"
     ]
    },
    {
     "data": {
      "image/png": "[encoded data removed]",
      "text/plain": [
       "<Figure size 288x288 with 1 Axes>"
      ]
     },
     "metadata": {
      "needs_background": "light"
     },
     "output_type": "display_data"
    }
   ],
   "source": [
    "def ot(r, c, M, lmbda, eps=1e-5):\n",
    "    K = np.exp(- lmbda * M)\n",
    "    Kt = np.diag(1 / r.ravel()) @ K\n",
    "\n",
    "    u = np.ones((len(r), 1)) / len(r)\n",
    "    lu = u\n",
    "\n",
    "    converged = False\n",
    "    while not converged:\n",
    "        u = 1 / (Kt @ (c[:, np.newaxis] / (K.T @ u)))\n",
    "        converged = np.sum((u - lu) ** 2) < len(r) * eps\n",
    "        lu = u\n",
    "\n",
    "    v = c[:, np.newaxis] / (K.T @ u)\n",
    "    return u * K * v.T\n",
    "\n",
    "\n",
    "r = np.asarray([0.1, 0.2, 0.3, 0.4])\n",
    "c = np.asarray([0.4, 0.3, 0.2, 0.1])\n",
    "x = np.arange(4)\n",
    "M = np.abs(np.subtract.outer(x, x))\n",
    "\n",
    "P = ot(r, c, M, 5)\n",
    "plt.matshow(P)\n",
    "\n",
    "print(P.round(3))"
   ]
  }
 ],
 "metadata": {
  "kernelspec": {
   "display_name": "Python 3",
   "language": "python",
   "name": "python3"
  },
  "language_info": {
   "codemirror_mode": {
    "name": "ipython",
    "version": 3
   },
   "file_extension": ".py",
   "mimetype": "text/x-python",
   "name": "python",
   "nbconvert_exporter": "python",
   "pygments_lexer": "ipython3",
   "version": "3.8.8"
  }
 },
 "nbformat": 4,
 "nbformat_minor": 5
}
