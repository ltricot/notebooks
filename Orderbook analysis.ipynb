{
 "cells": [
  {
   "cell_type": "markdown",
   "id": "e52f41d0",
   "metadata": {},
   "source": [
    "# Orderbook analysis\n",
    "\n",
    "Firstly download an hour of orderbook data from bigquery."
   ]
  },
  {
   "cell_type": "code",
   "execution_count": 1,
   "id": "9611bd66",
   "metadata": {},
   "outputs": [],
   "source": [
    "%load_ext google.cloud.bigquery"
   ]
  },
  {
   "cell_type": "code",
   "execution_count": 2,
   "id": "b9085230",
   "metadata": {},
   "outputs": [
    {
     "name": "stderr",
     "output_type": "stream",
     "text": [
      "/Users/belart/code/conda/miniforge3/envs/ml/lib/python3.8/site-packages/google/auth/_default.py:70: UserWarning: Your application has authenticated using end user credentials from Google Cloud SDK without a quota project. You might receive a \"quota exceeded\" or \"API not enabled\" error. We recommend you rerun `gcloud auth application-default login` and make sure a quota project is added. Or you can use service accounts instead. For more information about service accounts, see https://cloud.google.com/docs/authentication/\n",
      "  warnings.warn(_CLOUD_SDK_CREDENTIALS_WARNING)\n"
     ]
    },
    {
     "data": {
      "text/plain": [
       "(<google.oauth2.credentials.Credentials at 0x105ebee20>, 'markets-301914')"
      ]
     },
     "execution_count": 2,
     "metadata": {},
     "output_type": "execute_result"
    }
   ],
   "source": [
    "import google.auth\n",
    "\n",
    "credentials, project = google.auth.default()\n",
    "credentials, project"
   ]
  },
  {
   "cell_type": "code",
   "execution_count": 24,
   "id": "69d9d65b",
   "metadata": {},
   "outputs": [],
   "source": [
    "%%bigquery df\n",
    "SELECT\n",
    "  side,\n",
    "  CAST(size AS FLOAT64) as qty,\n",
    "  CAST(price AS FLOAT64) AS tick,\n",
    "  updatedAt,\n",
    "  type\n",
    "FROM\n",
    "  `markets-301914.public_data.orderbook`\n",
    "WHERE\n",
    "  DATE(updatedAt) = \"2021-06-12\"\n",
    "  AND EXTRACT(HOUR FROM updatedAt) = 11\n",
    "  AND exchange = 'binance'\n",
    "  AND exchangeType = 'futures'\n",
    "  AND currency1 = 'BTC'\n",
    "  AND currency2 = 'USDT'\n",
    "LIMIT 1000000"
   ]
  },
  {
   "cell_type": "code",
   "execution_count": 33,
   "id": "42230ed9-d667-4117-9407-338ff5939976",
   "metadata": {},
   "outputs": [],
   "source": [
    "import pandas as pd"
   ]
  },
  {
   "cell_type": "code",
   "execution_count": 34,
   "id": "d1ec60c5-747e-403f-93ac-105631856194",
   "metadata": {},
   "outputs": [],
   "source": [
    "import os\n",
    "\n",
    "if os.path.exists('obdata.pkl'):\n",
    "    df = pd.read_pickle('obdata.pkl')"
   ]
  },
  {
   "cell_type": "code",
   "execution_count": 38,
   "id": "249772c5-0d87-4e29-9e02-eee7b5ded7d3",
   "metadata": {},
   "outputs": [],
   "source": [
    "df.to_pickle('obdata.pkl')"
   ]
  },
  {
   "cell_type": "code",
   "execution_count": 39,
   "id": "ad84cea2-3a88-43b5-ba87-11778a9dd9e4",
   "metadata": {},
   "outputs": [
    {
     "data": {
      "text/html": [
       "<div>\n",
       "<style scoped>\n",
       "    .dataframe tbody tr th:only-of-type {\n",
       "        vertical-align: middle;\n",
       "    }\n",
       "\n",
       "    .dataframe tbody tr th {\n",
       "        vertical-align: top;\n",
       "    }\n",
       "\n",
       "    .dataframe thead th {\n",
       "        text-align: right;\n",
       "    }\n",
       "</style>\n",
       "<table border=\"1\" class=\"dataframe\">\n",
       "  <thead>\n",
       "    <tr style=\"text-align: right;\">\n",
       "      <th></th>\n",
       "      <th>side</th>\n",
       "      <th>qty</th>\n",
       "      <th>tick</th>\n",
       "      <th>updatedAt</th>\n",
       "      <th>type</th>\n",
       "    </tr>\n",
       "  </thead>\n",
       "  <tbody>\n",
       "    <tr>\n",
       "      <th>0</th>\n",
       "      <td>buy</td>\n",
       "      <td>0.0</td>\n",
       "      <td>35622.13</td>\n",
       "      <td>2021-06-12 11:08:43.016000+00:00</td>\n",
       "      <td>delete</td>\n",
       "    </tr>\n",
       "    <tr>\n",
       "      <th>1</th>\n",
       "      <td>buy</td>\n",
       "      <td>0.0</td>\n",
       "      <td>35564.84</td>\n",
       "      <td>2021-06-12 11:03:37.846000+00:00</td>\n",
       "      <td>delete</td>\n",
       "    </tr>\n",
       "    <tr>\n",
       "      <th>2</th>\n",
       "      <td>buy</td>\n",
       "      <td>0.0</td>\n",
       "      <td>35630.05</td>\n",
       "      <td>2021-06-12 11:01:36.613000+00:00</td>\n",
       "      <td>delete</td>\n",
       "    </tr>\n",
       "    <tr>\n",
       "      <th>3</th>\n",
       "      <td>buy</td>\n",
       "      <td>0.0</td>\n",
       "      <td>35552.95</td>\n",
       "      <td>2021-06-12 11:02:35.414000+00:00</td>\n",
       "      <td>delete</td>\n",
       "    </tr>\n",
       "    <tr>\n",
       "      <th>4</th>\n",
       "      <td>buy</td>\n",
       "      <td>0.0</td>\n",
       "      <td>35562.92</td>\n",
       "      <td>2021-06-12 11:03:56.911000+00:00</td>\n",
       "      <td>delete</td>\n",
       "    </tr>\n",
       "  </tbody>\n",
       "</table>\n",
       "</div>"
      ],
      "text/plain": [
       "  side  qty      tick                        updatedAt    type\n",
       "0  buy  0.0  35622.13 2021-06-12 11:08:43.016000+00:00  delete\n",
       "1  buy  0.0  35564.84 2021-06-12 11:03:37.846000+00:00  delete\n",
       "2  buy  0.0  35630.05 2021-06-12 11:01:36.613000+00:00  delete\n",
       "3  buy  0.0  35552.95 2021-06-12 11:02:35.414000+00:00  delete\n",
       "4  buy  0.0  35562.92 2021-06-12 11:03:56.911000+00:00  delete"
      ]
     },
     "execution_count": 39,
     "metadata": {},
     "output_type": "execute_result"
    }
   ],
   "source": [
    "df.head()"
   ]
  }
 ],
 "metadata": {
  "kernelspec": {
   "display_name": "Python 3",
   "language": "python",
   "name": "python3"
  },
  "language_info": {
   "codemirror_mode": {
    "name": "ipython",
    "version": 3
   },
   "file_extension": ".py",
   "mimetype": "text/x-python",
   "name": "python",
   "nbconvert_exporter": "python",
   "pygments_lexer": "ipython3",
   "version": "3.8.8"
  }
 },
 "nbformat": 4,
 "nbformat_minor": 5
}
