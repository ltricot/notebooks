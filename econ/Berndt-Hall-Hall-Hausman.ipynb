{
 "cells": [
  {
   "cell_type": "code",
   "execution_count": 2,
   "metadata": {},
   "outputs": [],
   "source": [
    "import numpy as np\n",
    "from numba import njit"
   ]
  },
  {
   "cell_type": "code",
   "execution_count": 147,
   "metadata": {},
   "outputs": [],
   "source": [
    "from scipy.linalg import solve\n",
    "\n",
    "\n",
    "def ls(x, f, df, dx, a=1/3, b=1/2):\n",
    "    t = 1\n",
    "    fx = f(x)\n",
    "    m = np.dot(df, dx)\n",
    "    while fx - f(x + t * dx) > t * a * m:\n",
    "        t = b * t\n",
    "    return t\n",
    "\n",
    "def bhhh(f, fp, x, clamp=None, tol=1e-9, maxiter=1000):\n",
    "    for _ in range(maxiter):\n",
    "        dfn = fp(x)\n",
    "\n",
    "        # expected outer product of scores\n",
    "        ddf = np.zeros((dfn.shape[1], dfn.shape[1]))\n",
    "        for df in dfn:\n",
    "            ddf += np.outer(df, df) / dfn.shape[0]\n",
    "\n",
    "        df = dfn.mean(axis=0)\n",
    "        dx = solve(ddf, df, assume_a='pos')\n",
    "\n",
    "        t = ls(x, f, df, dx)\n",
    "        x = x + t * dx\n",
    "\n",
    "        if clamp is not None:\n",
    "            x = clamp(x)\n",
    "\n",
    "        if np.linalg.norm(t * dx) < tol:\n",
    "            break\n",
    "    \n",
    "    return x"
   ]
  },
  {
   "cell_type": "code",
   "execution_count": 148,
   "metadata": {},
   "outputs": [],
   "source": [
    "from scipy.stats import norm\n",
    "\n",
    "x = np.random.normal(size=3000, loc=-5, scale=np.sqrt(30))\n",
    "\n",
    "@njit\n",
    "def l(theta):\n",
    "    mu, sig2 = theta\n",
    "    n = len(x)\n",
    "    return - n / 2 * np.log(2 * np.pi) - n / 2 * np.log(sig2) - 1 / (2 * sig2) * ((x - mu) ** 2).sum()\n",
    "    return np.log(norm.pdf(x, loc=mu, scale=np.sqrt(sig2))).sum()\n",
    "\n",
    "@njit\n",
    "def scores(theta):\n",
    "    mu, sig2 = theta\n",
    "    dmu  = (1 / sig2) * (x - mu)\n",
    "    dsig = - 1 / (2 * sig2) + 1 / (sig2 ** 2) * (x - mu) ** 2\n",
    "    return np.stack((dmu, dsig)).T"
   ]
  },
  {
   "cell_type": "code",
   "execution_count": 149,
   "metadata": {},
   "outputs": [
    {
     "data": {
      "text/plain": "array([-4.61347147, 31.95809187])"
     },
     "execution_count": 149,
     "metadata": {},
     "output_type": "execute_result"
    }
   ],
   "source": [
    "bhhh(l, scores, np.asarray([2, 2]))"
   ]
  },
  {
   "cell_type": "code",
   "execution_count": 150,
   "metadata": {},
   "outputs": [],
   "source": [
    "def sim(x, p, q, n):\n",
    "    k = max(p, q)\n",
    "    w, a, b = x[0], x[1 : p + 1], x[p + 1 :]\n",
    "\n",
    "    sq = np.random.normal(size=n + 30) ** 2\n",
    "    h = np.zeros_like(sq)\n",
    "\n",
    "    for t in range(k, len(h)):\n",
    "        h[t] = w + np.dot(a, sq[t - p : t]) + np.dot(b, h[t - q : t])\n",
    "        sq[t] *= h[t]\n",
    "\n",
    "    return sq[30:]\n",
    "\n",
    "@njit\n",
    "def _garch_forecast(x, p, q, sq):\n",
    "    k = max(p, q)\n",
    "    w, a, b = x[0], x[1 : p + 1], x[p + 1 :]\n",
    "\n",
    "    h = np.zeros_like(sq)\n",
    "    h[:k] = 0  # w / (1 - a.sum() - b.sum())\n",
    "\n",
    "    for t in range(k, len(h)):\n",
    "        h[t] = w + np.dot(a, sq[t - p : t]) + np.dot(b, h[t - q : t])\n",
    "\n",
    "    return h\n",
    "\n",
    "@njit\n",
    "def _garch_nll(x, p, q, sq):\n",
    "    k = max(p, q)\n",
    "    h = _garch_forecast(x, p, q, sq)\n",
    "    return - 1 / 2 * np.mean(np.log(h[k:]) + sq[k:] / h[k:])\n",
    "\n",
    "def _garch_nll_scores(x, p, q, sq):\n",
    "    n, k = len(sq), max(p, q)\n",
    "    w, a, b = x[0], x[1 : p + 1], x[p + 1 :]\n",
    "\n",
    "    h = np.zeros_like(sq)\n",
    "    h[:k] = sq[:k]\n",
    "\n",
    "    for t in range(k, len(h)):\n",
    "        h[t] = w + np.dot(a, sq[t - p : t]) + np.dot(b, h[t - q : t])\n",
    "\n",
    "    dwh = np.zeros((n, 1))\n",
    "    dah = np.zeros((n, p))\n",
    "    dbh = np.zeros((n, q))\n",
    "    for t in range(k, len(h)):\n",
    "        dwh[t] = 1 + np.dot(b, dwh[t - q : t])\n",
    "        dah[t] = sq[t - p : t] + np.dot(b, dah[t - q : t])\n",
    "        dbh[t] = h[t - q : t] + np.dot(b, dbh[t - q : t])\n",
    "\n",
    "    f = 1 / 2 * 1 / (h[k:] + 1e-18) * (sq[k:] / (h[k:] + 1e-18) - 1)\n",
    "    dw = (f[:, np.newaxis] / (1 - b[0] + 1e-18))\n",
    "    da = (f[:, np.newaxis] * dah[k:])\n",
    "    db = (f[:, np.newaxis] * dbh[k:])\n",
    "\n",
    "    return np.concatenate((dw, da, db), axis=1)"
   ]
  },
  {
   "cell_type": "code",
   "execution_count": 151,
   "metadata": {},
   "outputs": [
    {
     "data": {
      "text/plain": "[<matplotlib.lines.Line2D at 0x1746a74c0>]"
     },
     "execution_count": 151,
     "metadata": {},
     "output_type": "execute_result"
    },
    {
     "data": {
      "image/png": "[encoded data removed]",
      "text/plain": "<Figure size 432x288 with 1 Axes>"
     },
     "metadata": {
      "needs_background": "light"
     },
     "output_type": "display_data"
    }
   ],
   "source": [
    "import matplotlib.pyplot as plt\n",
    "\n",
    "s = sim(np.asarray([1e-3, 0.2, 0.2]), 1, 1, 500)\n",
    "plt.plot(s)"
   ]
  },
  {
   "cell_type": "code",
   "execution_count": 163,
   "metadata": {},
   "outputs": [
    {
     "data": {
      "text/plain": "array([0.12207627, 0.20321693, 0.65666867])"
     },
     "execution_count": 163,
     "metadata": {},
     "output_type": "execute_result"
    }
   ],
   "source": [
    "from functools import partial\n",
    "\n",
    "s = sim(np.asarray([1e-1, 0.2, 0.7]), 1, 1, 1000)\n",
    "l = partial(_garch_nll, p=1, q=1, sq=s)\n",
    "dl = partial(_garch_nll_scores, p=1, q=1, sq=s)\n",
    "\n",
    "bhhh(l, dl, clamp=partial(np.clip, a_min=0, a_max=1), x=np.asarray([0.1, 0.1, 0.1]))"
   ]
  },
  {
   "cell_type": "markdown",
   "metadata": {},
   "source": [
    "Doesn't work for small values of omega. Unsure if I can use barrier method to constrain because of BHHH assumptions about the scores."
   ]
  }
 ],
 "metadata": {
  "kernelspec": {
   "display_name": "Python 3.9.5 64-bit ('base': conda)",
   "name": "python395jvsc74a57bd086d0b6ec9af6d57a95ccc2c8484b0d4a5ba568f94fb8a28f678d4167201b7453"
  },
  "language_info": {
   "codemirror_mode": {
    "name": "ipython",
    "version": 3
   },
   "file_extension": ".py",
   "mimetype": "text/x-python",
   "name": "python",
   "nbconvert_exporter": "python",
   "pygments_lexer": "ipython3",
   "version": "3.9.5"
  },
  "metadata": {
   "interpreter": {
    "hash": "86d0b6ec9af6d57a95ccc2c8484b0d4a5ba568f94fb8a28f678d4167201b7453"
   }
  },
  "orig_nbformat": 2
 },
 "nbformat": 4,
 "nbformat_minor": 2
}