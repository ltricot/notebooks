{
 "cells": [
  {
   "cell_type": "markdown",
   "id": "62a2d803",
   "metadata": {},
   "source": [
    "# Entropic regularized optimal transport\n",
    "\n",
    "Just an implementation of https://papers.nips.cc/paper/2013/file/af21d0c97db2e27e13572cbf59eb343d-Paper.pdf."
   ]
  },
  {
   "cell_type": "code",
   "execution_count": 71,
   "id": "b103a63c",
   "metadata": {},
   "outputs": [
    {
     "name": "stdout",
     "output_type": "stream",
     "text": [
      "[[0.1 0.  0.  0. ]\n",
      " [0.1 0.1 0.  0. ]\n",
      " [0.1 0.1 0.1 0. ]\n",
      " [0.1 0.1 0.1 0.1]]\n"
     ]
    },
    {
     "data": {
      "image/png": "[encoded data removed]",
      "text/plain": [
       "<Figure size 288x288 with 1 Axes>"
      ]
     },
     "metadata": {
      "needs_background": "light"
     },
     "output_type": "display_data"
    }
   ],
   "source": [
    "import matplotlib.pyplot\n",
    "import numpy as np\n",
    "\n",
    "\n",
    "def ot(r, c, M, lmbda, eps=1e-5):\n",
    "    K = np.exp(- lmbda * M)\n",
    "    Kt = np.diag(1 / r.ravel()) @ K\n",
    "\n",
    "    u = np.ones((len(r), 1)) / len(r)\n",
    "    lu = u\n",
    "\n",
    "    converged = False\n",
    "    while not converged:\n",
    "        u = 1 / (Kt @ (c[:, np.newaxis] / (K.T @ u)))\n",
    "        converged = np.sum((u - lu) ** 2) < len(r) * eps\n",
    "        lu = u\n",
    "\n",
    "    v = c[:, np.newaxis] / (K.T @ u)\n",
    "    return u * K * v.T\n",
    "\n",
    "\n",
    "r = np.asarray([0.1, 0.2, 0.3, 0.4])\n",
    "c = np.asarray([0.4, 0.3, 0.2, 0.1])\n",
    "x = np.arange(4)\n",
    "M = np.abs(np.subtract.outer(x, x))\n",
    "\n",
    "P = ot(r, c, M, 5)\n",
    "plt.matshow(P)\n",
    "\n",
    "print(P.round(3))"
   ]
  }
 ],
 "metadata": {
  "kernelspec": {
   "display_name": "Python 3",
   "language": "python",
   "name": "python3"
  },
  "language_info": {
   "codemirror_mode": {
    "name": "ipython",
    "version": 3
   },
   "file_extension": ".py",
   "mimetype": "text/x-python",
   "name": "python",
   "nbconvert_exporter": "python",
   "pygments_lexer": "ipython3",
   "version": "3.8.8"
  }
 },
 "nbformat": 4,
 "nbformat_minor": 5
}
