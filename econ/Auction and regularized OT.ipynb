{
 "cells": [
  {
   "cell_type": "markdown",
   "id": "ca8b9d01-93c3-4a7b-a01e-69f97bae50ee",
   "metadata": {},
   "source": [
    "# Auction algorithm as regularized OT\n",
    "\n",
    "The goal is to find a regularization of the OT problem such that the auction algorithm coincides with the optimization of the dual of this OT problem. The point of this notebook is to illustrate the auction algorithm and understand how it optimizes the dual of the matching problem."
   ]
  },
  {
   "cell_type": "markdown",
   "id": "c0e2f15a-b5b1-49c4-b6e4-460ae19d6679",
   "metadata": {},
   "source": [
    "## Auction algorithm implementation"
   ]
  },
  {
   "cell_type": "code",
   "execution_count": 104,
   "id": "6dbd846a-9da7-4419-b4db-f2e20d7bb508",
   "metadata": {},
   "outputs": [],
   "source": [
    "from numba import njit\n",
    "import numpy as np\n",
    "\n",
    "\n",
    "@njit\n",
    "def argnmax(a: np.ndarray):\n",
    "    i1, i2 = -1, -1\n",
    "    v1, v2 = -np.inf, -np.inf\n",
    "\n",
    "    for i in range(len(a)):\n",
    "        if a[i] > v1:\n",
    "            v2 = v1\n",
    "            i2 = i1\n",
    "\n",
    "            v1 = a[i]\n",
    "            i1 = i\n",
    "\n",
    "    return i1, i2\n",
    "\n",
    "# @njit\n",
    "def auction(A: np.ndarray):\n",
    "    N = len(A)\n",
    "    p = np.zeros(N)\n",
    "    eps = 1 / N / 1e4\n",
    "\n",
    "    assignment = dict()         # obj to person\n",
    "    unassigned = set(range(N))  # unassigned people\n",
    "\n",
    "    while unassigned:\n",
    "        i = unassigned.pop()\n",
    "\n",
    "        m = A[i] - p\n",
    "        v, w = argnmax(m)\n",
    "        p[v] = p[v] + eps + m[v] - m[w]\n",
    "\n",
    "        if v in assignment:\n",
    "            unassigned.add(int(assignment.pop(v)))\n",
    "\n",
    "        assignment[v] = i\n",
    "\n",
    "    # numba doesn't support comprehensions\n",
    "    # rev = {}\n",
    "    # for k, v in assignment.items():\n",
    "    #     rev[v] = k\n",
    "\n",
    "    # return rev\n",
    "    \n",
    "    return p, np.max(A - p, axis=1)"
   ]
  },
  {
   "cell_type": "code",
   "execution_count": 105,
   "id": "53749d0d-7680-44b1-8864-018f4f2429e9",
   "metadata": {},
   "outputs": [
    {
     "data": {
      "text/plain": [
       "(array([2.00003333, 4.00006667, 3.00006667]),\n",
       " array([-1.00003333e+00, -3.33333333e-05, -1.00003333e+00]))"
      ]
     },
     "execution_count": 105,
     "metadata": {},
     "output_type": "execute_result"
    }
   ],
   "source": [
    "A = np.asarray([\n",
    "    [1, 2, 2],\n",
    "    [2, 1, 0],\n",
    "    [1, 3, 1],\n",
    "])\n",
    "\n",
    "auction(A)"
   ]
  },
  {
   "cell_type": "markdown",
   "id": "6e9618f1-c405-4e20-9f5a-7716951381f0",
   "metadata": {},
   "source": [
    "## Regularized OT\n",
    "\n",
    "$F(x) = x \\ln x + (1 - x) \\ln (1 - x)$"
   ]
  },
  {
   "cell_type": "code",
   "execution_count": 119,
   "id": "78368845-5ac6-47e5-8611-62fd855a6969",
   "metadata": {},
   "outputs": [],
   "source": [
    "import cvxpy as cp\n",
    "import numpy as np\n",
    "\n",
    "\n",
    "def rot(C, sig):\n",
    "    n, m = C.shape\n",
    "\n",
    "    u = cp.Variable((n,))\n",
    "    v = cp.Variable((m,))\n",
    "\n",
    "    constraints = []\n",
    "    \n",
    "    # sum(u) + sum(v) + sig * log(1 + exp(pi - u - v))\n",
    "    objective = cp.Minimize(\n",
    "        cp.sum(u) + cp.sum(v)\n",
    "        + sig * cp.sum(cp.logistic((C - u[:, None] - v[None, :]) / sig))\n",
    "    )\n",
    "\n",
    "    problem = cp.Problem(objective, constraints)\n",
    "    problem.solve()\n",
    "\n",
    "    return u.value, v.value"
   ]
  },
  {
   "cell_type": "code",
   "execution_count": 122,
   "id": "0e81ea89-4c02-4c49-9920-0947576e5352",
   "metadata": {},
   "outputs": [
    {
     "name": "stdout",
     "output_type": "stream",
     "text": [
      "[1.08404717 0.43953953 1.08404717] [0.77287287 1.4173805  0.4173805 ]\n"
     ]
    },
    {
     "data": {
      "text/plain": [
       "array([[1.89828368e-04, 6.59860450e-03, 9.93211566e-01],\n",
       "       [9.99620348e-01, 1.89828388e-04, 1.89828385e-04],\n",
       "       [1.89828366e-04, 9.93211566e-01, 6.59860431e-03]])"
      ]
     },
     "execution_count": 122,
     "metadata": {},
     "output_type": "execute_result"
    }
   ],
   "source": [
    "sig = 1e-1\n",
    "\n",
    "u, v = rot(A, sig)\n",
    "print(u, v)\n",
    "1 / (1 + np.exp(- (A - u[:, None] - v[None, :]) / sig))"
   ]
  }
 ],
 "metadata": {
  "kernelspec": {
   "display_name": "Python 3",
   "language": "python",
   "name": "python3"
  },
  "language_info": {
   "codemirror_mode": {
    "name": "ipython",
    "version": 3
   },
   "file_extension": ".py",
   "mimetype": "text/x-python",
   "name": "python",
   "nbconvert_exporter": "python",
   "pygments_lexer": "ipython3",
   "version": "3.8.8"
  }
 },
 "nbformat": 4,
 "nbformat_minor": 5
}
