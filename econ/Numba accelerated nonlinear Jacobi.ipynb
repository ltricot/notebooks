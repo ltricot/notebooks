{
 "cells": [
  {
   "cell_type": "code",
   "execution_count": 2,
   "metadata": {},
   "outputs": [],
   "source": [
    "from numba import njit\n",
    "import numpy as np"
   ]
  },
  {
   "cell_type": "code",
   "execution_count": 36,
   "metadata": {},
   "outputs": [],
   "source": [
    "from scipy.spatial.distance import cdist\n",
    "\n",
    "n = 200\n",
    "z = 3\n",
    "\n",
    "def problem(n, z):\n",
    "    # spot prices\n",
    "    p = np.random.rand(z)\n",
    "\n",
    "    # distances\n",
    "    locs = np.random.normal(size=(z, 2))\n",
    "    locd, locp = np.random.normal(size=(2, n, 2))\n",
    "    Dd = cdist(locd, locs) / 25\n",
    "    Dp = cdist(locp, locs) / 4\n",
    "\n",
    "    # driver parameters\n",
    "    lmbda = 10 * np.random.rand(n)\n",
    "\n",
    "    # passenger parameters\n",
    "    eps = 20 * np.random.rand(n)\n",
    "\n",
    "    return p, Dd, Dp, lmbda, eps\n",
    "\n",
    "p, Dd, Dp, lmbda, eps = problem(n, z)"
   ]
  },
  {
   "cell_type": "code",
   "execution_count": 4,
   "metadata": {},
   "outputs": [
    {
     "name": "stdout",
     "output_type": "stream",
     "text": [
      "(200, 3)\n",
      "(200, 3)\n"
     ]
    }
   ],
   "source": [
    "na = np.newaxis\n",
    "\n",
    "@njit\n",
    "def drivers(p, D, lmbda):\n",
    "    return - lmbda.reshape((-1, 1)) * D + p\n",
    "\n",
    "@njit\n",
    "def passengers(p, D, eps):\n",
    "    return (eps.reshape((-1, 1)) * D) + p\n",
    "\n",
    "\n",
    "print(drivers(p, Dd, lmbda).shape)\n",
    "print(passengers(p, Dp, eps).shape)"
   ]
  },
  {
   "cell_type": "code",
   "execution_count": 5,
   "metadata": {},
   "outputs": [],
   "source": [
    "# %timeit (drivers(p, Dd, lmbda).shape)\n",
    "# %timeit (passengers(p, Dp, eps).shape)"
   ]
  },
  {
   "cell_type": "code",
   "execution_count": 6,
   "metadata": {},
   "outputs": [
    {
     "name": "stdout",
     "output_type": "stream",
     "text": [
      "(3,)\n",
      "(3,)\n"
     ]
    }
   ],
   "source": [
    "from numba import prange\n",
    "\n",
    "\n",
    "def softmax(x, T=1e-1):\n",
    "    xmax = x.max(axis=1, keepdims=True)\n",
    "    lx = np.exp((x - xmax) / T)\n",
    "    return lx / (np.exp(- xmax / T) + lx.sum(axis=-1, keepdims=True))\n",
    "\n",
    "@njit(fastmath=True)\n",
    "def softmax(x, T=1e-1):\n",
    "    xmax = np.empty((x.shape[0], 1), dtype=x.dtype)\n",
    "    for i in prange(x.shape[0]):\n",
    "        xmax[i, 0] = x[i].max()\n",
    "\n",
    "    lx = np.exp((x - xmax) / T)\n",
    "\n",
    "    lxsum = np.empty((lx.shape[0], 1), dtype=lx.dtype)\n",
    "    for i in prange(lx.shape[0]):\n",
    "        lxsum[i, 0] = lx[i].sum()\n",
    "\n",
    "    return lx / (np.exp(- xmax / T) + lxsum)\n",
    "\n",
    "@njit\n",
    "def supply(p, D, lmbda):\n",
    "    u = drivers(p, D, lmbda)\n",
    "    return softmax(u).T.sum(axis=1)\n",
    "\n",
    "@njit\n",
    "def demand(p, D, eps):\n",
    "    c = passengers(p, D, eps)\n",
    "    return softmax(- c).T.sum(axis=1)\n",
    "\n",
    "\n",
    "print(supply(p, Dd, lmbda).shape)\n",
    "print(demand(p, Dp, eps).shape)"
   ]
  },
  {
   "cell_type": "code",
   "execution_count": 7,
   "metadata": {},
   "outputs": [],
   "source": [
    "# %timeit (supply(p, Dd, lmbda))\n",
    "# %timeit (demand(p, Dp, eps))"
   ]
  },
  {
   "cell_type": "code",
   "execution_count": 45,
   "metadata": {},
   "outputs": [],
   "source": [
    "from numba import prange\n",
    "\n",
    "\n",
    "@njit\n",
    "def Q(p):\n",
    "    return supply(p, Dd, lmbda) - demand(p, Dp, eps)\n",
    "\n",
    "def optimize(p, Dd, Dp, lmbda, eps, rtol=1e-18, maxit=10000):\n",
    "    p = p.copy()\n",
    "    def q(p):\n",
    "        return supply(p, Dd, lmbda) - demand(p, Dp, eps)\n",
    "\n",
    "    sh = 1e-6\n",
    "    h = np.eye(p.shape[0]) * sh\n",
    "\n",
    "    for _ in range(maxit):\n",
    "        pc = p.copy()\n",
    "        for s in prange(p.shape[0]):\n",
    "            pc[s] = p[s] - 2 * sh * q(p)[s] / (q(p + h[s]) - q(p - h[s]))[s]\n",
    "        \n",
    "        if np.sum((pc - p) ** 2) < rtol:\n",
    "            break\n",
    "\n",
    "        p[:] = pc\n",
    "    \n",
    "    return pc\n",
    "\n",
    "\n",
    "soptimize = njit(parallel=False, fastmath=True)(optimize)\n",
    "poptimize = njit(parallel=True, fastmath=True)(optimize)\n",
    "\n",
    "op = soptimize(p, Dd, Dp, lmbda, eps)\n",
    "op = poptimize(p, Dd, Dp, lmbda, eps)"
   ]
  },
  {
   "cell_type": "code",
   "execution_count": 46,
   "metadata": {},
   "outputs": [
    {
     "data": {
      "text/plain": "<BarContainer object of 3 artists>"
     },
     "execution_count": 46,
     "metadata": {},
     "output_type": "execute_result"
    },
    {
     "data": {
      "image/png": "[encoded data removed]",
      "text/plain": "<Figure size 432x288 with 1 Axes>"
     },
     "metadata": {
      "needs_background": "light"
     },
     "output_type": "display_data"
    }
   ],
   "source": [
    "import matplotlib.pyplot as plt\n",
    "\n",
    "op = poptimize(p, Dd, Dp, lmbda, eps)\n",
    "plt.bar(range(len(p)), Q(op))"
   ]
  },
  {
   "cell_type": "code",
   "execution_count": 48,
   "metadata": {},
   "outputs": [
    {
     "name": "stdout",
     "output_type": "stream",
     "text": [
      "348 µs ± 1.85 µs per loop (mean ± std. dev. of 7 runs, 1000 loops each)\n",
      "3.12 ms ± 31.8 µs per loop (mean ± std. dev. of 7 runs, 100 loops each)\n",
      "8.6 ms ± 66.3 µs per loop (mean ± std. dev. of 7 runs, 100 loops each)\n",
      "32.1 ms ± 607 µs per loop (mean ± std. dev. of 7 runs, 10 loops each)\n",
      "140 ms ± 723 µs per loop (mean ± std. dev. of 7 runs, 10 loops each)\n",
      "361 ms ± 2.02 ms per loop (mean ± std. dev. of 7 runs, 1 loop each)\n",
      "614 ms ± 8.37 ms per loop (mean ± std. dev. of 7 runs, 1 loop each)\n",
      "1.14 s ± 42.2 ms per loop (mean ± std. dev. of 7 runs, 1 loop each)\n",
      "2.53 s ± 28.3 ms per loop (mean ± std. dev. of 7 runs, 1 loop each)\n",
      "4.89 s ± 42.6 ms per loop (mean ± std. dev. of 7 runs, 1 loop each)\n",
      "8.59 s ± 10.2 ms per loop (mean ± std. dev. of 7 runs, 1 loop each)\n",
      "12.3 s ± 48.4 ms per loop (mean ± std. dev. of 7 runs, 1 loop each)\n"
     ]
    }
   ],
   "source": [
    "zz = (1, 3, 5, 10, 20, 30, 40, 50, 75, 100, 125, 150)\n",
    "\n",
    "scurve = {}\n",
    "for z in zz:\n",
    "    args = problem(n, z)\n",
    "    res = %timeit -o soptimize(*args)\n",
    "    scurve[z] = res.average"
   ]
  },
  {
   "cell_type": "code",
   "execution_count": 49,
   "metadata": {},
   "outputs": [
    {
     "name": "stdout",
     "output_type": "stream",
     "text": [
      "552 µs ± 28.4 µs per loop (mean ± std. dev. of 7 runs, 1000 loops each)\n",
      "3.36 ms ± 200 µs per loop (mean ± std. dev. of 7 runs, 100 loops each)\n",
      "7.88 ms ± 9.79 µs per loop (mean ± std. dev. of 7 runs, 100 loops each)\n",
      "18.5 ms ± 210 µs per loop (mean ± std. dev. of 7 runs, 100 loops each)\n",
      "64 ms ± 496 µs per loop (mean ± std. dev. of 7 runs, 10 loops each)\n",
      "122 ms ± 1.21 ms per loop (mean ± std. dev. of 7 runs, 10 loops each)\n",
      "231 ms ± 5.72 ms per loop (mean ± std. dev. of 7 runs, 1 loop each)\n",
      "345 ms ± 5.34 ms per loop (mean ± std. dev. of 7 runs, 1 loop each)\n",
      "747 ms ± 5.44 ms per loop (mean ± std. dev. of 7 runs, 1 loop each)\n",
      "1.31 s ± 12.8 ms per loop (mean ± std. dev. of 7 runs, 1 loop each)\n",
      "2.07 s ± 11.4 ms per loop (mean ± std. dev. of 7 runs, 1 loop each)\n",
      "3.34 s ± 21.1 ms per loop (mean ± std. dev. of 7 runs, 1 loop each)\n"
     ]
    }
   ],
   "source": [
    "pcurve = {}\n",
    "for z in zz:\n",
    "    args = problem(n, z)\n",
    "    res = %timeit -o poptimize(*args)\n",
    "    pcurve[z] = res.average"
   ]
  },
  {
   "cell_type": "code",
   "execution_count": 50,
   "metadata": {},
   "outputs": [
    {
     "data": {
      "text/plain": "<AxesSubplot:>"
     },
     "execution_count": 50,
     "metadata": {},
     "output_type": "execute_result"
    },
    {
     "data": {
      "image/png": "[encoded data removed]",
      "text/plain": "<Figure size 1152x648 with 1 Axes>"
     },
     "metadata": {
      "needs_background": "light"
     },
     "output_type": "display_data"
    }
   ],
   "source": [
    "import pandas as pd\n",
    "\n",
    "df = pd.DataFrame({'parallel': pcurve, 'sequential': scurve})\n",
    "df.plot(loglog=True, figsize=(16, 9))"
   ]
  }
 ],
 "metadata": {
  "kernelspec": {
   "display_name": "Python 3.9.5 64-bit ('base': conda)",
   "name": "python395jvsc74a57bd086d0b6ec9af6d57a95ccc2c8484b0d4a5ba568f94fb8a28f678d4167201b7453"
  },
  "language_info": {
   "codemirror_mode": {
    "name": "ipython",
    "version": 3
   },
   "file_extension": ".py",
   "mimetype": "text/x-python",
   "name": "python",
   "nbconvert_exporter": "python",
   "pygments_lexer": "ipython3",
   "version": "3.9.5"
  },
  "metadata": {
   "interpreter": {
    "hash": "86d0b6ec9af6d57a95ccc2c8484b0d4a5ba568f94fb8a28f678d4167201b7453"
   }
  },
  "orig_nbformat": 2
 },
 "nbformat": 4,
 "nbformat_minor": 2
}