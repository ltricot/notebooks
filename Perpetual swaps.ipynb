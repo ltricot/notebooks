{
 "cells": [
  {
   "cell_type": "markdown",
   "id": "820f0d81",
   "metadata": {},
   "source": [
    "# Perpetual swaps arbitrage"
   ]
  },
  {
   "cell_type": "markdown",
   "id": "b4d36578",
   "metadata": {},
   "source": [
    "Definition of contract: https://www.deribit.com/pages/docs/perpetual. Importantly, given the mark price (essentially, current trading price) and the index price (essentially, price of underlying), the funding rate is equal to:\n",
    "\n",
    "$$\n",
    "\\begin{align}\n",
    "    r_p &= (\\text{mark price} - \\text{index price}) \\: / \\: \\text{index price} \\\\\n",
    "    r_f &= \\max(0.05\\%, \\: r_p) - \\min(-0.05\\%, \\: r_p)\n",
    "\\end{align}\n",
    "$$\n",
    "\n",
    "And the longs pay the shorts $r_f \\times \\text{ position size}$ at a regular interval. On Deribit, the funding is computed _every milisecond_ but settled every 8 hours. On Binance, the funding is computed and settled every 8 hours. If the funding rate is negative, the shorts pay the longs, but this is empirically rare. The arbitrage is then, using the underlying and cash settled perpetuals:\n",
    "\n",
    "| Long underlying | Short perpetual |\n",
    "| -------------- | -------------- |\n",
    "| $- S_0$ ||\n",
    "|| $+ r_{f1} * S_1$ |\n",
    "|| $+ r_{f2} * S_2$ |\n",
    "|| ... |\n",
    "| $+ S_T$ | $+S_0 - S_T$ |\n",
    "\n",
    "Below we compute the profit of applying this strategy to Ethereum perpetuals on the Deribit exchange. The Deribit exchange offers very low funding rates and therefore is unlikely to be the best exchange on which to apply this strategy."
   ]
  },
  {
   "cell_type": "code",
   "execution_count": 8,
   "id": "b81d1d4c",
   "metadata": {},
   "outputs": [],
   "source": [
    "import websockets\n",
    "import asyncio as aio\n",
    "import json\n",
    "from datetime import datetime"
   ]
  },
  {
   "cell_type": "code",
   "execution_count": 11,
   "id": "8ccb0b56",
   "metadata": {},
   "outputs": [],
   "source": [
    "url = 'wss://www.deribit.com/ws/api/v2'\n",
    "\n",
    "\n",
    "async def api(msg):\n",
    "    async with websockets.connect(url) as ws:\n",
    "        await ws.send(json.dumps(msg))\n",
    "        return json.loads(await ws.recv())\n",
    "\n",
    "async def fr(fm, to):\n",
    "    msg = {\n",
    "        \"jsonrpc\": \"2.0\",\n",
    "        \"method\": \"public/get_funding_rate_history\",\n",
    "        \"id\": 7617,\n",
    "        \"params\": {\n",
    "            \"instrument_name\": \"BTC-PERPETUAL\",\n",
    "            \"start_timestamp\": fm,\n",
    "            \"end_timestamp\": to,\n",
    "        }\n",
    "    }\n",
    "\n",
    "    return await api(msg)\n",
    "\n",
    "def ts(dt):\n",
    "    return int(1000 * dt.timestamp())"
   ]
  },
  {
   "cell_type": "code",
   "execution_count": 15,
   "id": "6fef9f8e",
   "metadata": {
    "scrolled": true
   },
   "outputs": [
    {
     "data": {
      "text/plain": [
       "{'jsonrpc': '2.0',\n",
       " 'id': 7617,\n",
       " 'result': [{'timestamp': 1618786800000,\n",
       "   'prev_index_price': 56386.02,\n",
       "   'interest_8h': 6.609820660874359e-07,\n",
       "   'interest_1h': 7.454314948370582e-07,\n",
       "   'index_price': 56664.59},\n",
       "  {'timestamp': 1618790400000,\n",
       "   'prev_index_price': 56664.59,\n",
       "   'interest_8h': 5.94671748448578e-07,\n",
       "   'interest_1h': 0.0,\n",
       "   'index_price': 56266.31},\n",
       "  {'timestamp': 1618794000000,\n",
       "   'prev_index_price': 56266.31,\n",
       "   'interest_8h': 1.3808492062907436e-07,\n",
       "   'interest_1h': 0.0,\n",
       "   'index_price': 56871.59},\n",
       "  {'timestamp': 1618797600000,\n",
       "   'prev_index_price': 56871.59,\n",
       "   'interest_8h': -1.4917774192780839e-06,\n",
       "   'interest_1h': -1.6776340055097267e-06,\n",
       "   'index_price': 56878.89},\n",
       "  {'timestamp': 1618801200000,\n",
       "   'prev_index_price': 56878.89,\n",
       "   'interest_8h': -4.125932117740075e-06,\n",
       "   'interest_1h': -2.678285318409125e-06,\n",
       "   'index_price': 57004.32},\n",
       "  {'timestamp': 1618804800000,\n",
       "   'prev_index_price': 57004.32,\n",
       "   'interest_8h': -4.8364354339038994e-06,\n",
       "   'interest_1h': -5.599201784749564e-07,\n",
       "   'index_price': 57161.81},\n",
       "  {'timestamp': 1618808400000,\n",
       "   'prev_index_price': 57161.81,\n",
       "   'interest_8h': -2.036637018659053e-06,\n",
       "   'interest_1h': -1.5754300564347236e-07,\n",
       "   'index_price': 57075.63},\n",
       "  {'timestamp': 1618812000000,\n",
       "   'prev_index_price': 57075.63,\n",
       "   'interest_8h': -4.340346973389055e-06,\n",
       "   'interest_1h': -5.885002628274453e-08,\n",
       "   'index_price': 56621.92},\n",
       "  {'timestamp': 1618815600000,\n",
       "   'prev_index_price': 56621.92,\n",
       "   'interest_8h': -5.110904293881013e-06,\n",
       "   'interest_1h': 0.0,\n",
       "   'index_price': 57345.93},\n",
       "  {'timestamp': 1618819200000,\n",
       "   'prev_index_price': 57345.93,\n",
       "   'interest_8h': -6.5413436881714035e-06,\n",
       "   'interest_1h': -1.494498647950568e-06,\n",
       "   'index_price': 57428.64},\n",
       "  {'timestamp': 1618822800000,\n",
       "   'prev_index_price': 57428.64,\n",
       "   'interest_8h': -6.845337556762935e-06,\n",
       "   'interest_1h': -2.3558428656014896e-07,\n",
       "   'index_price': 56878.12},\n",
       "  {'timestamp': 1618826400000,\n",
       "   'prev_index_price': 56878.12,\n",
       "   'interest_8h': -3.1930858832889332e-06,\n",
       "   'interest_1h': 1.9752542505666987e-06,\n",
       "   'index_price': 56756.24},\n",
       "  {'timestamp': 1618830000000,\n",
       "   'prev_index_price': 56756.24,\n",
       "   'interest_8h': 2.4816999923299574e-05,\n",
       "   'interest_1h': 2.5222688040772485e-05,\n",
       "   'index_price': 56594.53},\n",
       "  {'timestamp': 1618833600000,\n",
       "   'prev_index_price': 56594.53,\n",
       "   'interest_8h': 4.555273030153657e-05,\n",
       "   'interest_1h': 1.991878012983615e-05,\n",
       "   'index_price': 57180.52},\n",
       "  {'timestamp': 1618837200000,\n",
       "   'prev_index_price': 57180.52,\n",
       "   'interest_8h': 4.570977896044688e-05,\n",
       "   'interest_1h': 6.860497828681131e-08,\n",
       "   'index_price': 56594.53},\n",
       "  {'timestamp': 1618840800000,\n",
       "   'prev_index_price': 56594.53,\n",
       "   'interest_8h': 4.647253025285351e-05,\n",
       "   'interest_1h': 9.76870318490241e-07,\n",
       "   'index_price': 56690.44},\n",
       "  {'timestamp': 1618844400000,\n",
       "   'prev_index_price': 56690.44,\n",
       "   'interest_8h': 5.1955595774934086e-05,\n",
       "   'interest_1h': 4.910755547146476e-06,\n",
       "   'index_price': 55489.65},\n",
       "  {'timestamp': 1618848000000,\n",
       "   'prev_index_price': 55489.65,\n",
       "   'interest_8h': 7.141696030528045e-05,\n",
       "   'interest_1h': 1.7285754018460318e-05,\n",
       "   'index_price': 54618.75},\n",
       "  {'timestamp': 1618851600000,\n",
       "   'prev_index_price': 54618.75,\n",
       "   'interest_8h': 7.712782930827739e-05,\n",
       "   'interest_1h': 5.917064056777788e-06,\n",
       "   'index_price': 54923.11},\n",
       "  {'timestamp': 1618855200000,\n",
       "   'prev_index_price': 54923.11,\n",
       "   'interest_8h': 7.561416486533747e-05,\n",
       "   'interest_1h': 6.025189611245934e-07,\n",
       "   'index_price': 55446.38}],\n",
       " 'usIn': 1618857079015243,\n",
       " 'usOut': 1618857079020623,\n",
       " 'usDiff': 5380,\n",
       " 'testnet': False}"
      ]
     },
     "execution_count": 15,
     "metadata": {},
     "output_type": "execute_result"
    }
   ],
   "source": [
    "fm = datetime(2021, 4, 19)\n",
    "to = datetime(2021, 4, 20)\n",
    "\n",
    "rates = await fr(ts(fm), ts(to))\n",
    "rates"
   ]
  },
  {
   "cell_type": "code",
   "execution_count": 16,
   "id": "3f0ab374",
   "metadata": {},
   "outputs": [
    {
     "data": {
      "text/plain": [
       "[<matplotlib.lines.Line2D at 0x11d81f5e0>]"
      ]
     },
     "execution_count": 16,
     "metadata": {},
     "output_type": "execute_result"
    },
    {
     "data": {
      "image/png": "[encoded data removed]",
      "text/plain": [
       "<Figure size 1152x648 with 1 Axes>"
      ]
     },
     "metadata": {
      "needs_background": "light"
     },
     "output_type": "display_data"
    }
   ],
   "source": [
    "import matplotlib.pyplot as plt\n",
    "import pandas as pd\n",
    "import numpy as np\n",
    "\n",
    "\n",
    "plt.figure(figsize=(16, 9))\n",
    "df = pd.DataFrame.from_records(rates['result'])\n",
    "plt.plot(pd.to_datetime(df['timestamp'], unit='ms'), df['interest_8h'] * 100)"
   ]
  },
  {
   "cell_type": "code",
   "execution_count": 14,
   "id": "5895ff0a",
   "metadata": {},
   "outputs": [
    {
     "data": {
      "text/plain": [
       "103.77659174672104"
      ]
     },
     "execution_count": 14,
     "metadata": {},
     "output_type": "execute_result"
    }
   ],
   "source": [
    "dts = pd.to_datetime(df['timestamp'], unit='ms')\n",
    "rts = df['interest_1h']\n",
    "\n",
    "start = 100\n",
    "for rt in rts.iloc:\n",
    "    start += rt * start\n",
    "\n",
    "start"
   ]
  }
 ],
 "metadata": {
  "kernelspec": {
   "display_name": "Python 3",
   "language": "python",
   "name": "python3"
  },
  "language_info": {
   "codemirror_mode": {
    "name": "ipython",
    "version": 3
   },
   "file_extension": ".py",
   "mimetype": "text/x-python",
   "name": "python",
   "nbconvert_exporter": "python",
   "pygments_lexer": "ipython3",
   "version": "3.8.8"
  }
 },
 "nbformat": 4,
 "nbformat_minor": 5
}
