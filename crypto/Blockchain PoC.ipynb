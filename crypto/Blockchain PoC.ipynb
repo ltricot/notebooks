{
 "cells": [
  {
   "cell_type": "markdown",
   "id": "767ec4a8",
   "metadata": {},
   "source": [
    "# The simplest blockchain\n",
    "\n",
    "Says it all.\n",
    "\n",
    "We start by finding a difficulty giving 1s block time. We don't care to hash super efficiently since we aren't securing a trillion dollars. Must loop $2^{22}$ times on MBP M1 to get a reasonable block time with one worker."
   ]
  },
  {
   "cell_type": "code",
   "execution_count": 1,
   "id": "38de3319",
   "metadata": {},
   "outputs": [
    {
     "data": {
      "text/plain": [
       "b'\\x00\\x00\\x01\\xb0\\x82\\xb8\\\\\\xe2I\\xc7\\xb3m\\xa8Xp\\x86}9\\xa6\\xc9I\\xa7\\xf3\\x82J\\xed\\xda\\xb6\\xbcr.\\xef'"
      ]
     },
     "execution_count": 1,
     "metadata": {},
     "output_type": "execute_result"
    }
   ],
   "source": [
    "from hashlib import sha256\n",
    "from array import array\n",
    "from random import randint\n",
    "import sys\n",
    "\n",
    "\n",
    "def h(bts):\n",
    "    m = sha256()\n",
    "    m.update(bts)\n",
    "    return m.digest()\n",
    "\n",
    "def good(difficulty):\n",
    "    l, s = divmod(difficulty, 8)\n",
    "    ix = list(range(l))\n",
    "\n",
    "    def inner(_h):\n",
    "        i = 0\n",
    "        for i in ix:\n",
    "            if not _h[i] == 0:\n",
    "                return False\n",
    "\n",
    "        if s and _h[i + 1] >> (8 - s) != 0:\n",
    "            return False\n",
    "        return True\n",
    "    \n",
    "    return inner\n",
    "\n",
    "# don't care about being efficient, we are alone :)\n",
    "def find(bts, difficulty):\n",
    "    nonce = randint(0, 2 << 8 * 4)\n",
    "    a = array('Q')\n",
    "    a.frombytes((nonce).to_bytes(8, sys.byteorder) + bts)  # space for nonce\n",
    "    \n",
    "    g = good(difficulty)\n",
    "    _h = h(a)\n",
    "    while not g(_h):\n",
    "        a[0] += 1\n",
    "        _h = h(a)\n",
    "    \n",
    "    return a[0]\n",
    "\n",
    "difficulty = 21\n",
    "bts = h(randint(0, 2 ** 20).to_bytes(8, sys.byteorder))\n",
    "\n",
    "nonce = find(bts, difficulty)\n",
    "h(nonce.to_bytes(8, sys.byteorder) + bts)"
   ]
  },
  {
   "cell_type": "markdown",
   "id": "3712dec3",
   "metadata": {},
   "source": [
    "We now work bottom up to create a blockchain."
   ]
  },
  {
   "cell_type": "code",
   "execution_count": 4,
   "id": "c5e51975",
   "metadata": {},
   "outputs": [
    {
     "data": {
      "text/plain": [
       "Block(txs=[Tx(utxo=b'12345678', to=b'12345678', ix=0), Tx(utxo=b'12345678', to=b'12345678', ix=0)], last=b'\\x00\\x00\\x00\\x00\\x00\\x00\\x00\\x00', ix=7, nonce=b'\\x00\\x00\\x00\\x00\\x00\\x00\\x00\\x00')"
      ]
     },
     "execution_count": 4,
     "metadata": {},
     "output_type": "execute_result"
    }
   ],
   "source": [
    "from __future__ import annotations\n",
    "\n",
    "from dataclasses import dataclass\n",
    "from typing import List\n",
    "import struct\n",
    "\n",
    "\n",
    "zero = b'\\0' * 8\n",
    "\n",
    "Addr  = bytes  # address on the network\n",
    "THash = bytes  # transaction hash\n",
    "BHash = bytes  # block hash\n",
    "\n",
    "@dataclass\n",
    "class Tx:\n",
    "    utxo: THash\n",
    "    to:   Addr\n",
    "    ix:   int  # block identifier\n",
    "\n",
    "    def __bytes__(self):\n",
    "        return struct.pack('8s8sQ', self.utxo, self.to, self.ix)\n",
    "\n",
    "    @classmethod\n",
    "    def frombytes(cls, bts):\n",
    "        return cls(*struct.unpack('8s8sQ', bts))\n",
    "\n",
    "@dataclass\n",
    "class Block:\n",
    "    txs:   List[Tx]  # notion of order\n",
    "    last:  BHash\n",
    "    ix:    int       # index of block for consensus\n",
    "    nonce: bytes     # len 8\n",
    "\n",
    "    def __bytes__(self):\n",
    "        return (\n",
    "            self.nonce + self.last + self.ix.to_bytes(8, sys.byteorder)\n",
    "            + b''.join(bytes(tx) for tx in self.txs)\n",
    "        )\n",
    "\n",
    "    @classmethod\n",
    "    def frombytes(cls, bts):\n",
    "        nonce, last = bts[:8], bts[8:16]\n",
    "        ix = int.from_bytes(bts[16:24], sys.byteorder)\n",
    "        m = memoryview(bts[24:])\n",
    "        txs = [Tx.frombytes(m[o:o + 24]) for o in range(0, len(m), 24)]\n",
    "        return cls(txs, last, ix, nonce)\n",
    "\n",
    "    # for min-heap sorting\n",
    "    def __le__(self, o: Block):\n",
    "        return self.ix >= o.ix\n",
    "\n",
    "\n",
    "t1 = Tx(b'12345678', b'12345678', 0)\n",
    "t2 = Tx(b'12345678', b'12345678', 0)\n",
    "b  = Block([t1, t2], zero, 7, zero)\n",
    "\n",
    "Block.frombytes(bytes(b))"
   ]
  },
  {
   "cell_type": "code",
   "execution_count": 5,
   "id": "843b038d",
   "metadata": {},
   "outputs": [
    {
     "data": {
      "text/plain": [
       "Blockchain(blocks=[Block(txs=[Tx(utxo=b'\\x00\\x00\\x00\\x00\\x00\\x00\\x00\\x00', to=b'\\x00\\x00\\x00\\x00\\x00\\x00\\x00\\x00', ix=0)], last=b'\\x00\\x00\\x00\\x00\\x00\\x00\\x00\\x00', ix=0, nonce=b'RJf\\xa1\\x01\\x00\\x00\\x00'), Block(txs=[Tx(utxo=b'\\x9d\\x90\\x8e\\xcf\\xb6\\xb2V\\xde\\xf8\\xb4\\x9a|PNl\\x88\\x9cK\\x0eA\\xfel\\xe3\\xe0\\x18c\\xdd{a\\xa2\\n\\xa0', to=b'\\x00\\x00\\x00\\x00\\x00\\x00\\x00\\x00', ix=1)], last=b\"\\x00\\x00\\x01Qs\\x11\\xcb\\x7f\\xd6\\x93w\\x9b\\x95qZ\\x0fR1\\xef\\x0e\\xa9\\xa6g\\xa0\\x9e\\n\\xa0'\\xbca\\xd1J\", ix=1, nonce=b'tF.\\x99\\x00\\x00\\x00\\x00')], txs={b'\\x9d\\x90\\x8e\\xcf\\xb6\\xb2V\\xde\\xf8\\xb4\\x9a|PNl\\x88\\x9cK\\x0eA\\xfel\\xe3\\xe0\\x18c\\xdd{a\\xa2\\n\\xa0', b'a\\x01\\x15\\xca\\x13\\x10\\x1cZ4!\\xccaS-+\\xa3\\x84\\xad\\xea\\xa4\\xa0\\xccVJ\\xa3a\\xbeV\\xe5\\xfa\\x15c'}, spent={b'\\x9d\\x90\\x8e\\xcf\\xb6\\xb2V\\xde\\xf8\\xb4\\x9a|PNl\\x88\\x9cK\\x0eA\\xfel\\xe3\\xe0\\x18c\\xdd{a\\xa2\\n\\xa0'}, pool={})"
      ]
     },
     "execution_count": 5,
     "metadata": {},
     "output_type": "execute_result"
    }
   ],
   "source": [
    "from dataclasses import field\n",
    "from typing import Dict, Set\n",
    "\n",
    "\n",
    "@dataclass\n",
    "class Blockchain:\n",
    "    blocks: List[Block]\n",
    "    txs:    Set[THash]\n",
    "    spent:  Set[THash]\n",
    "    pool:   Dict[THash, Tx] = field(default_factory=dict)\n",
    "\n",
    "    @property\n",
    "    def head(self) -> Block:\n",
    "        return self.blocks[-1]\n",
    "\n",
    "    @classmethod\n",
    "    def genesis(cls, qty: int) -> Blockchain:\n",
    "        txs = list(\n",
    "            Tx(utxo=zero, to=i.to_bytes(8, sys.byteorder), ix=0)\n",
    "            for i in range(qty)\n",
    "        )\n",
    "\n",
    "        genesis = Block(txs, last=zero, ix=0, nonce=zero)\n",
    "        genesis.nonce = find(bytes(genesis)[8:], difficulty).to_bytes(8, sys.byteorder)\n",
    "        return cls([genesis], set(h(bytes(tx)) for tx in txs), set())\n",
    "\n",
    "    def verify(self, b: Block) -> bool:\n",
    "        return (\n",
    "            b.ix == self.head.ix + 1                             # correct block ordering\n",
    "            and good(difficulty)(h(bytes(b)))                    # respect difficulty\n",
    "            and all(tx.utxo in self.pool for tx in b.txs)        # transactions in mempool\n",
    "            and len(set(tx.utxo for tx in b.txs)) == len(b.txs)  # no double spend\n",
    "            and all(tx.utxo not in self.spent for tx in b.txs)   # certainly no double spend\n",
    "            and all(tx.utxo in self.txs for tx in b.txs)         # spend money which exists\n",
    "            and all(tx.ix == b.ix for tx in b.txs)               # valid transaction data\n",
    "            and b.last == h(bytes(self.head))                    # valid block hash\n",
    "        )\n",
    "\n",
    "    def tx(self, utxo: THash, to: Addr):\n",
    "        self.pool[utxo] = to\n",
    "\n",
    "    def mine(self) -> Block:\n",
    "        # transaction data\n",
    "        txs = [\n",
    "            Tx(utxo=utxo, to=to, ix=self.head.ix + 1)\n",
    "            for utxo, to in self.pool.items()\n",
    "        ]\n",
    "\n",
    "        # mine hash\n",
    "        b = Block(txs, last=h(bytes(self.head)), ix=self.head.ix + 1, nonce=zero)\n",
    "        bts = bytes(b)[8:]\n",
    "        b.nonce = find(bts, difficulty).to_bytes(8, sys.byteorder)\n",
    "\n",
    "        return b\n",
    "\n",
    "    def add(self, b: Block):\n",
    "        assert self.verify(b)\n",
    "        self.blocks.append(b)\n",
    "\n",
    "        # add txs to spent, remove from pool, add to unspent\n",
    "        for tx in b.txs:\n",
    "            _h = h(bytes(tx))\n",
    "            self.spent.add(tx.utxo)\n",
    "            del self.pool[tx.utxo]\n",
    "            self.txs.add(_h)\n",
    "\n",
    "\n",
    "bc = Blockchain.genesis(1)\n",
    "bc.tx(utxo=h(bytes(bc.head.txs[0])), to=zero)\n",
    "bc.add(bc.mine())\n",
    "\n",
    "bc"
   ]
  },
  {
   "cell_type": "code",
   "execution_count": 6,
   "id": "6043489f",
   "metadata": {},
   "outputs": [
    {
     "data": {
      "text/plain": [
       "b'\\x00\\x00\\x00\\x88\\x9c\\xba\\xf3\\xa9\\x10\\x12\\x8a\\x05k\\x90\\x13\\x7fh\\xd4\\xf9\\x17\\xa2\\x91\\xec\\x15\\xa9`\\xcfZ\\t\\xc8\\xc1k'"
      ]
     },
     "execution_count": 6,
     "metadata": {},
     "output_type": "execute_result"
    }
   ],
   "source": [
    "h(bytes(bc.head))"
   ]
  },
  {
   "cell_type": "markdown",
   "id": "765f0b1b",
   "metadata": {},
   "source": [
    "Now that we have a functioning blockchain, we can work on a toy network layer. It has two responsibilities: propagating transactions and blocks, and forming consensus (longest chain). All clients are full clients. All clients broadcast to all (known) clients."
   ]
  },
  {
   "cell_type": "code",
   "execution_count": 12,
   "id": "23977bb7",
   "metadata": {},
   "outputs": [
    {
     "data": {
      "text/plain": [
       "Block(txs=[], last=b'\\x00\\x00\\x00\\x00\\x00\\x00\\x00\\x00', ix=7, nonce=b'\\x00\\x00\\x00\\x00\\x00\\x00\\x00\\x00')"
      ]
     },
     "execution_count": 12,
     "metadata": {},
     "output_type": "execute_result"
    }
   ],
   "source": [
    "import asyncio as aio\n",
    "\n",
    "\n",
    "bc = Blockchain.genesis(1)\n",
    "heads = {h(bytes(bc.head)): bc}\n",
    "\n",
    "@dataclass\n",
    "class Msg:\n",
    "    tp:  int\n",
    "    bts: bytes\n",
    "\n",
    "    def __bytes__(self):\n",
    "        return (\n",
    "            (len(self.bts) + 16).to_bytes(8, sys.byteorder)\n",
    "            + self.tp.to_bytes(8, sys.byteorder)\n",
    "            + self.bts\n",
    "        )\n",
    "    \n",
    "    @classmethod\n",
    "    def frombytes(cls, bts: bytes):\n",
    "        l, tp = struct.unpack('QQ', bts[:16])\n",
    "        return cls(tp, bts[16:l])\n",
    "\n",
    "@dataclass\n",
    "class Protocol:\n",
    "    def connection_made(self, transport):\n",
    "        self.t = transport\n",
    "\n",
    "    def datagram_received(self, data, addr):\n",
    "        msg = Msg.frombytes(data)\n",
    "\n",
    "        if msg.tp == 0:    # tx\n",
    "            tx = Tx.frombytes(msg.bts)\n",
    "            bc.tx(tx.utxo, tx.to)\n",
    "\n",
    "        elif msg.tp == 1:  # block\n",
    "            b = Block.frombytes(msg.bts)\n",
    "\n",
    "            for head, bc in heads.items():\n",
    "                if b.last == head:\n",
    "                    if bc.verify(b):\n",
    "                        bc.add(b)\n",
    "                    else:\n",
    "                        ...\n",
    "\n",
    "                    break\n",
    "            else:  # head not found\n",
    "                ...\n",
    "\n",
    "        elif msg.tp == 2:  # request chain\n",
    "            ix = struct.unpack('Q', msg.bts)\n",
    "            bc = max(heads, key=lambda _h: len(heads[_h].blocks))\n",
    "\n",
    "            # send all blocks of longest blockchain\n",
    "            for b in bc.blocks:\n",
    "                self.sendblock(b)\n",
    "        \n",
    "        else:\n",
    "            ...\n",
    "    \n",
    "    def connection_lost(self, exc):\n",
    "        ...\n",
    "\n",
    "    def sendblock(self, b: Block):\n",
    "        self.t.sendto(Msg(1, bytes(b)))\n",
    "    \n",
    "    def getchain(self):\n",
    "        self.t.sendto(Msg(2, b''))\n",
    "\n",
    "\n",
    "b  = Block([], zero, 7, zero)\n",
    "\n",
    "m = Msg(1, bytes(b))\n",
    "Block.frombytes(Msg.frombytes(bytes(m)).bts)"
   ]
  },
  {
   "cell_type": "code",
   "execution_count": 8,
   "id": "913e7fd2",
   "metadata": {},
   "outputs": [],
   "source": [
    "async def main(*peers):\n",
    "    ts = []\n",
    "    loop = aio.get_running_loop()\n",
    "\n",
    "    if not peers:\n",
    "        t, protocol = await loop.create_datagram_endpoint(\n",
    "            lambda: Protocol(),\n",
    "            local_addr=('127.0.0.1', 9999))\n",
    "        \n",
    "        ts.append(t)\n",
    "\n",
    "    else:\n",
    "        for addr, port in peers:\n",
    "            t, protocol = await loop.create_connection(\n",
    "                lambda: Protocol(),\n",
    "                addr, port)\n",
    "            \n",
    "            ts.append(t)\n",
    "        \n",
    "        print('get chain')\n",
    "        aio.create_task(protocol.getchain())\n",
    "\n",
    "    try:\n",
    "        while True:\n",
    "            await aio.sleep(3600)\n",
    "    finally:\n",
    "        for t in ts:\n",
    "            t.close()"
   ]
  },
  {
   "cell_type": "code",
   "execution_count": null,
   "id": "e1cd3dc5",
   "metadata": {},
   "outputs": [],
   "source": [
    "aio.create_task(main())\n",
    "aio.create_task(main(('127.0.0.1', 9999)))"
   ]
  },
  {
   "cell_type": "code",
   "execution_count": null,
   "id": "c0309518",
   "metadata": {},
   "outputs": [],
   "source": [
    "aio.all_tasks(aio.get_running_loop())"
   ]
  }
 ],
 "metadata": {
  "kernelspec": {
   "display_name": "Python 3",
   "language": "python",
   "name": "python3"
  },
  "language_info": {
   "codemirror_mode": {
    "name": "ipython",
    "version": 3
   },
   "file_extension": ".py",
   "mimetype": "text/x-python",
   "name": "python",
   "nbconvert_exporter": "python",
   "pygments_lexer": "ipython3",
   "version": "3.8.8"
  }
 },
 "nbformat": 4,
 "nbformat_minor": 5
}
