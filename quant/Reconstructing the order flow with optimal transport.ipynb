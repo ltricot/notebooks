{
 "cells": [
  {
   "cell_type": "markdown",
   "id": "a1013346",
   "metadata": {
    "slideshow": {
     "slide_type": "slide"
    }
   },
   "source": [
    "# Matching trades to order book updates"
   ]
  },
  {
   "cell_type": "markdown",
   "id": "9105b5ee",
   "metadata": {
    "slideshow": {
     "slide_type": "fragment"
    }
   },
   "source": [
    "## Plan\n",
    "\n",
    "1. [Introduction](#introduction)\n",
    "2. [Modeling the order book](#modeling)\n",
    "3. [A simplifying assumption](#simplifying)\n",
    "4. [Experiments](#experiments)\n",
    "5. [Graphs](#graphs)"
   ]
  },
  {
   "cell_type": "markdown",
   "id": "467c51df",
   "metadata": {
    "slideshow": {
     "slide_type": "slide"
    }
   },
   "source": [
    "---\n",
    "\n",
    "## Introduction <a name=\"introduction\"></a>\n",
    "\n",
    "Exchanges receive three types of orders:\n",
    "- **Limit orders**, making liquidity\n",
    "- **Market orders**, taking liquidity\n",
    "- **Cancel orders**, taking liquidity\n",
    "\n",
    "Limit orders are standing offers to buy (sell) a defined amount at a defined price. They can be cancelled using Cancel orders. Market orders are orders to buy a defined amount at market price: the best price which can be achieved using standing offers. Limit orders are accumulated and aggregated into a tick level order book, which contains the size of aggregated standing offers at each price. Market orders trigger one or more trades when they are matched with one or more Limit orders."
   ]
  },
  {
   "cell_type": "markdown",
   "id": "86be311b",
   "metadata": {
    "slideshow": {
     "slide_type": "subslide"
    }
   },
   "source": [
    "<img src=\"https://upload.wikimedia.org/wikipedia/commons/1/14/Order_book_depth_chart.gif\" style=\"width: auto; margin: auto\">\n",
    "\n",
    "Exchanges stream the order book updates and the trades flow to market participants, but never stream the order flow. The order flow is valuable data which can be used to study agents' behavior on the market, and possibly design algorithmic trading strategies. We attempt to reconstruct the order flow from the order book updates and trades flow."
   ]
  },
  {
   "cell_type": "markdown",
   "id": "687e485b",
   "metadata": {
    "slideshow": {
     "slide_type": "slide"
    }
   },
   "source": [
    "---\n",
    "\n",
    "## Modeling the order book <a name=\"modeling\"></a>\n",
    "\n",
    "We begin by studying the order flow for a given price and direction (buy / sell), on a given time interval $I$. Fixing these variables, we may study the changes in liquidity as a measure over time:\n",
    "\n",
    "$$\n",
    "\\begin{align}\n",
    "      & L(t) : \\text{ the liquidity at time $t \\in I$}  \\\\\n",
    "      & \\ell : \\text{ the borel measure associated to $L$}  \\\\\n",
    "      & \\ell( (t_0, t_1] ) = L(t_1) - L(t_0)\n",
    "\\end{align}\n",
    "$$\n",
    "\n",
    "We also observe the trades at this price, and in this direction (taker buys, maker sells, or inversely). We model it the same way:\n",
    "\n",
    "$$\n",
    "\\begin{align}\n",
    "      & A(t) : \\text{ the accumulated traded amount at time $t \\in I$}  \\\\\n",
    "      & a : \\text{ the borel measure associated to $L$}  \\\\\n",
    "      & a( (t_0, t_1] ) = A(t_1) - A(t_0)\n",
    "\\end{align}\n",
    "$$"
   ]
  },
  {
   "cell_type": "markdown",
   "id": "8f699de7",
   "metadata": {
    "slideshow": {
     "slide_type": "subslide"
    }
   },
   "source": [
    "We are dealing with discrete information, and letting $\\ell_t$ ($a_t$) represent the liquidity (acummulated traded amount), we may represent our measures as\n",
    "\n",
    "$$\n",
    "\\begin{align}\n",
    "    \\ell &= \\sum_i l_{t_i} \\delta_{t_i}  \\\\\n",
    "       a &= \\sum_i a_{t_i} \\delta_{t_i}\n",
    "\\end{align}\n",
    "$$\n",
    "\n",
    "These measures represent the information streamed by the exchange. They are therefore imperfect representations of the true changes in liquidity and trade flow. Inaccuracies may come from:\n",
    "- Aggregation of order book updates\n",
    "- Aggregation of trades\n",
    "- Timestamp inaccuracies: trade timestamps may be unequal to that of the order book update they caused\n",
    "\n",
    "Additionally, trades do not map one to one with market orders, due to\n",
    "- Possible trade aggregation when several market orders are passed at the same time\n",
    "- Market order decomposition to match with several different limit orders at the same price\n",
    "- As above, but at different prices (cannot be studied when only considering one price as we currently do)"
   ]
  },
  {
   "cell_type": "markdown",
   "id": "f52a4944",
   "metadata": {
    "slideshow": {
     "slide_type": "subslide"
    }
   },
   "source": [
    "We wish to decompose the changes in liquidity into the limit ($r$), market ($m$) and cancel ($c$) order flows, all of which are represented as unsigned (positive) measures.\n",
    "\n",
    "$$\n",
    "\\ell = r - m - c\n",
    "$$\n",
    "\n",
    "In this model $m$ isn't really the market order flow, but rather the consequence of the market order flow on the liquidity at the given price level."
   ]
  },
  {
   "cell_type": "markdown",
   "id": "dded225a",
   "metadata": {
    "slideshow": {
     "slide_type": "slide"
    }
   },
   "source": [
    "---\n",
    "\n",
    "## A simplifying assumption <a name=\"simplifying\"></a>\n",
    "\n",
    "There exists a decomposition of $\\ell$ such that $\\ell^+ = r$ and $\\ell^- = m + c$. There is no guarantee, however, that this is the jordan decomposition of $\\ell$ (such that $\\text{supp } \\ell^- \\cap \\text{supp } \\ell^+ = \\varnothing$). In fact, it will often be the case that trades appear in positive order book updates when exchanges aggregate data.\n",
    "\n",
    "In this section we make the simplifying assumption that the jordan decomposition coincides with the proposed decomposition. This is only valid in the case where exchanged do not aggregate order book updates and trades. Under this hypothesis, our problem reduces to decomposing\n",
    "\n",
    "$$\n",
    "\\ell^- = m + c\n",
    "$$\n",
    "\n",
    "that is, decomposing negative liquidity updates into market orders and cancel orders."
   ]
  },
  {
   "cell_type": "markdown",
   "id": "0e8e92bc",
   "metadata": {
    "slideshow": {
     "slide_type": "subslide"
    }
   },
   "source": [
    "We assume $a(I) = m(I)$. This comes from the local nature of inaccuracies. The constraints on $m$ are then:\n",
    "\n",
    "$$\n",
    "\\begin{align}\n",
    "    & m(I) = a(I)  \\\\\n",
    "    & 0    \\leq m \\leq \\ell^-\n",
    "\\end{align}\n",
    "$$\n",
    "\n",
    "We would like to find an $m$ so that market orders are found temporally very close to trades modeled by $a$. Precisely, we wish to find some $m$ with minimal earth mover distance from $a$. Letting $n = \\# \\text{supp } a$, $k = \\# \\text{supp } m$, this gives the following optimization problem:\n",
    "\n",
    "$$\n",
    "\\begin{align}\n",
    "    \\min_{T \\geq 0, m \\geq 0} & \\sum_{i \\leq n, j \\leq k} T_{ij} C_{ij}  \\\\\n",
    "                         s.t. & \\sum_{j \\leq k} T_{ij} = a_{t_i}  \\\\\n",
    "                              & \\sum_{i \\leq n} T_{ij} = m_{t_j}\n",
    "\\end{align}\n",
    "$$"
   ]
  },
  {
   "cell_type": "markdown",
   "id": "1b766646",
   "metadata": {
    "slideshow": {
     "slide_type": "subslide"
    }
   },
   "source": [
    "We can substitute $m_{t_j} = \\ell^-_{t_j} - c_j$ and find\n",
    "\n",
    "$$\n",
    "\\begin{align}\n",
    "    \\min_{T \\geq 0, c \\geq 0} & \\sum_{i \\leq n, j \\leq k} T_{ij} C_{ij}  \\\\\n",
    "                         s.t. & \\sum_{j \\leq k} T_{ij} = a_{t_i}  \\\\\n",
    "                              & \\sum_{i \\leq n} T_{ij} + c_j = \\ell^-_{t_j}\n",
    "\\end{align}\n",
    "$$\n",
    "\n",
    "Finally defining $a_{t_{n + 1}} = \\sum_{j \\leq k} c_j$, $T_{n + 1, j} = c_j$, and $C_{n + 1, j} = 0$ (pardon the abuse of notation), we find a Kantorovich OT problem:\n",
    "\n",
    "$$\n",
    "\\begin{align}\n",
    "    \\min_{T \\geq 0} & \\sum_{i \\leq n + 1, j \\leq k} T_{ij} C_{ij}  \\\\\n",
    "                         s.t. & \\sum_{j \\leq k} T_{ij} = a_{t_i}  \\\\\n",
    "                              & \\sum_{i \\leq n + 1} T_{ij} = \\ell^-_{t_j}\n",
    "\\end{align}\n",
    "$$\n",
    "\n",
    "This problem is a transport problem which matches trades to negative liquidity changes, with a cost which we can define to be the absolute value of the difference in timestamp at which th information was received. Negative liquidity changes which cannot be explained by trades are explained by cancellations: we have effectively created a virtual trade accounting for all cancel orders.\n",
    "\n",
    "Finding the transport plan $T$ amounts to finding both $m$ and $c$ and solving our problem in the simplified case."
   ]
  },
  {
   "cell_type": "markdown",
   "id": "653169e8",
   "metadata": {
    "slideshow": {
     "slide_type": "subslide"
    }
   },
   "source": [
    "By letting the underlying measure space be two-dimensional, so that it represents both time and price, we can compute the matching for several prices at the same time by setting an infinite cost for matching trades and liquidity changes at different prices. The solution to the OT problem will yield an $m$ in two dimensions, which can be analyzed to recover a likely market order flow. When the data is not aggregated, the problem of reconstructing the market order flow from the trades is timestamp clustering."
   ]
  },
  {
   "cell_type": "markdown",
   "id": "880348ee",
   "metadata": {
    "slideshow": {
     "slide_type": "slide"
    }
   },
   "source": [
    "---\n",
    "\n",
    "## Experiments <a name=\"experiments\"></a>\n",
    "\n",
    "We collect 10 minutes of data from the [Deribit crypto derivatives exchange](https://www.deribit.com)."
   ]
  },
  {
   "cell_type": "code",
   "execution_count": 14,
   "id": "a88f88d2",
   "metadata": {
    "slideshow": {
     "slide_type": "skip"
    }
   },
   "outputs": [
    {
     "name": "stdout",
     "output_type": "stream",
     "text": [
      "Number of trades streamed: 196\n",
      "Number of book updates streamed: 55192\n"
     ]
    }
   ],
   "source": [
    "import websockets\n",
    "\n",
    "from itertools import count\n",
    "import datetime as dt\n",
    "import asyncio as aio\n",
    "import json\n",
    "\n",
    "\n",
    "_id = count().__next__\n",
    "\n",
    "async def trades():\n",
    "    msg = \\\n",
    "    {\n",
    "        \"jsonrpc\": \"2.0\",\n",
    "        \"method\": \"public/subscribe\",\n",
    "        \"id\": _id(),\n",
    "        \"params\": {\n",
    "            \"channels\": [\"trades.BTC-PERPETUAL.raw\"]\n",
    "        }\n",
    "    }\n",
    "    \n",
    "    async with websockets.connect('wss://www.deribit.com/ws/api/v2') as ws:\n",
    "        await ws.send(json.dumps(msg))\n",
    "        while ws.open:\n",
    "            r = json.loads(await ws.recv())\n",
    "            if 'method' in r:\n",
    "                yield r\n",
    "\n",
    "async def book():\n",
    "    msg = \\\n",
    "    {\n",
    "        \"jsonrpc\" : \"2.0\",\n",
    "        \"id\" : _id(),\n",
    "        \"method\" : \"public/subscribe\",\n",
    "        \"params\" : {\n",
    "            \"channels\" : [\"book.BTC-PERPETUAL.raw\"]\n",
    "        }\n",
    "    }\n",
    "\n",
    "    async with websockets.connect('wss://www.deribit.com/ws/api/v2') as ws:\n",
    "        await ws.send(json.dumps(msg))\n",
    "        while ws.open:\n",
    "            r = json.loads(await ws.recv())\n",
    "            if 'method' in r:\n",
    "                yield r\n",
    "\n",
    "async def harvest(stream, duration):\n",
    "    dat = []\n",
    "    start = dt.datetime.now()\n",
    "\n",
    "    async for e in stream:\n",
    "        dat.append(e)\n",
    "        if (dt.datetime.now() - start).total_seconds() > duration:\n",
    "            return dat\n",
    "\n",
    "interval = 600\n",
    "t, b = await aio.gather(harvest(trades(), interval), harvest(book(), interval))\n",
    "\n",
    "print(f'Number of trades streamed: {len(t)}\\nNumber of book updates streamed: {len(b)}')"
   ]
  },
  {
   "cell_type": "markdown",
   "id": "d8716053",
   "metadata": {
    "slideshow": {
     "slide_type": "fragment"
    }
   },
   "source": [
    "We transform the raw JSON data into `pandas` dataframes that we can work with."
   ]
  },
  {
   "cell_type": "code",
   "execution_count": 15,
   "id": "28fdd6cc",
   "metadata": {
    "scrolled": true,
    "slideshow": {
     "slide_type": "skip"
    }
   },
   "outputs": [
    {
     "name": "stderr",
     "output_type": "stream",
     "text": [
      "<ipython-input-15-44b058a94b8d>:28: SettingWithCopyWarning: \n",
      "A value is trying to be set on a copy of a slice from a DataFrame\n",
      "\n",
      "See the caveats in the documentation: https://pandas.pydata.org/pandas-docs/stable/user_guide/indexing.html#returning-a-view-versus-a-copy\n",
      "  updates.change[pd.isnull(updates.change)] = 0\n"
     ]
    }
   ],
   "source": [
    "import pandas as pd\n",
    "from operator import itemgetter\n",
    "\n",
    "\n",
    "columns = ('timestamp', 'direction', 'price', 'amount')\n",
    "\n",
    "tds, _t = [], itemgetter(*columns)\n",
    "for r in t:\n",
    "    for tr in r['params']['data']:\n",
    "        tds.append(_t(tr))\n",
    "trades = pd.DataFrame(tds, columns=columns)\n",
    "\n",
    "obu = []\n",
    "for r in b:\n",
    "    for _, price, amount in r['params']['data']['bids']:\n",
    "        obu.append((r['params']['data']['timestamp'], 'buy', price, amount))\n",
    "    for _, price, amount in r['params']['data']['asks']:\n",
    "        obu.append((r['params']['data']['timestamp'], 'sell', price, amount))\n",
    "updates = pd.DataFrame(obu, columns=columns)\n",
    "\n",
    "trades.timestamp = pd.to_datetime(trades.timestamp, unit='ms')\n",
    "updates.timestamp = pd.to_datetime(updates.timestamp, unit='ms')\n",
    "trades.sort_values(by='timestamp', inplace=True)\n",
    "updates.sort_values(by='timestamp', inplace=True)\n",
    "\n",
    "# we consider updates, deribit feeds us absolute values\n",
    "updates['change'] = updates.groupby(['direction', 'price']).amount.diff()\n",
    "updates.change[pd.isnull(updates.change)] = 0\n",
    "trades['change'] = trades.amount"
   ]
  },
  {
   "cell_type": "code",
   "execution_count": 16,
   "id": "639cdcab",
   "metadata": {
    "slideshow": {
     "slide_type": "skip"
    }
   },
   "outputs": [],
   "source": [
    "# only work on one side of the order book\n",
    "direction = 'buy'\n",
    "trades = trades[trades.direction == direction]\n",
    "updates = updates[updates.direction == ('buy' if direction == 'sell' else 'sell')]\n",
    "\n",
    "# all positive updates are limit orders\n",
    "posupdates = updates[updates.change >= 0]\n",
    "updates = updates[updates.change < 0]"
   ]
  },
  {
   "cell_type": "markdown",
   "id": "422ef453",
   "metadata": {
    "slideshow": {
     "slide_type": "fragment"
    }
   },
   "source": [
    "The `trades` and `updates` dataframes have the same structure. We show `updates` below for reference. A `buy` trade results from a market order fulfilling a limit sell order. Therefore `buy` trades must be matched with `sell` negative updates."
   ]
  },
  {
   "cell_type": "code",
   "execution_count": 17,
   "id": "85b2d05b",
   "metadata": {
    "scrolled": false,
    "slideshow": {
     "slide_type": "fragment"
    }
   },
   "outputs": [
    {
     "data": {
      "text/html": [
       "<div>\n",
       "<style scoped>\n",
       "    .dataframe tbody tr th:only-of-type {\n",
       "        vertical-align: middle;\n",
       "    }\n",
       "\n",
       "    .dataframe tbody tr th {\n",
       "        vertical-align: top;\n",
       "    }\n",
       "\n",
       "    .dataframe thead th {\n",
       "        text-align: right;\n",
       "    }\n",
       "</style>\n",
       "<table border=\"1\" class=\"dataframe\">\n",
       "  <thead>\n",
       "    <tr style=\"text-align: right;\">\n",
       "      <th></th>\n",
       "      <th>timestamp</th>\n",
       "      <th>direction</th>\n",
       "      <th>price</th>\n",
       "      <th>amount</th>\n",
       "      <th>change</th>\n",
       "    </tr>\n",
       "  </thead>\n",
       "  <tbody>\n",
       "    <tr>\n",
       "      <th>2690</th>\n",
       "      <td>2021-06-17 10:58:03.544</td>\n",
       "      <td>sell</td>\n",
       "      <td>39294.0</td>\n",
       "      <td>240.0</td>\n",
       "      <td>-18050.0</td>\n",
       "    </tr>\n",
       "    <tr>\n",
       "      <th>2692</th>\n",
       "      <td>2021-06-17 10:58:03.553</td>\n",
       "      <td>sell</td>\n",
       "      <td>39577.0</td>\n",
       "      <td>0.0</td>\n",
       "      <td>-258580.0</td>\n",
       "    </tr>\n",
       "    <tr>\n",
       "      <th>2700</th>\n",
       "      <td>2021-06-17 10:58:03.626</td>\n",
       "      <td>sell</td>\n",
       "      <td>39285.0</td>\n",
       "      <td>19090.0</td>\n",
       "      <td>-1830.0</td>\n",
       "    </tr>\n",
       "    <tr>\n",
       "      <th>2706</th>\n",
       "      <td>2021-06-17 10:58:03.699</td>\n",
       "      <td>sell</td>\n",
       "      <td>39285.0</td>\n",
       "      <td>18090.0</td>\n",
       "      <td>-1000.0</td>\n",
       "    </tr>\n",
       "    <tr>\n",
       "      <th>2713</th>\n",
       "      <td>2021-06-17 10:58:03.768</td>\n",
       "      <td>sell</td>\n",
       "      <td>39334.5</td>\n",
       "      <td>7270.0</td>\n",
       "      <td>-150.0</td>\n",
       "    </tr>\n",
       "    <tr>\n",
       "      <th>...</th>\n",
       "      <td>...</td>\n",
       "      <td>...</td>\n",
       "      <td>...</td>\n",
       "      <td>...</td>\n",
       "      <td>...</td>\n",
       "    </tr>\n",
       "    <tr>\n",
       "      <th>80483</th>\n",
       "      <td>2021-06-17 11:08:03.217</td>\n",
       "      <td>sell</td>\n",
       "      <td>39280.0</td>\n",
       "      <td>39050.0</td>\n",
       "      <td>-8000.0</td>\n",
       "    </tr>\n",
       "    <tr>\n",
       "      <th>80485</th>\n",
       "      <td>2021-06-17 11:08:03.227</td>\n",
       "      <td>sell</td>\n",
       "      <td>39306.5</td>\n",
       "      <td>0.0</td>\n",
       "      <td>-26260.0</td>\n",
       "    </tr>\n",
       "    <tr>\n",
       "      <th>80487</th>\n",
       "      <td>2021-06-17 11:08:03.228</td>\n",
       "      <td>sell</td>\n",
       "      <td>39287.5</td>\n",
       "      <td>0.0</td>\n",
       "      <td>-100.0</td>\n",
       "    </tr>\n",
       "    <tr>\n",
       "      <th>80489</th>\n",
       "      <td>2021-06-17 11:08:03.237</td>\n",
       "      <td>sell</td>\n",
       "      <td>39308.5</td>\n",
       "      <td>40.0</td>\n",
       "      <td>-20.0</td>\n",
       "    </tr>\n",
       "    <tr>\n",
       "      <th>80491</th>\n",
       "      <td>2021-06-17 11:08:03.245</td>\n",
       "      <td>sell</td>\n",
       "      <td>39259.5</td>\n",
       "      <td>0.0</td>\n",
       "      <td>-1000.0</td>\n",
       "    </tr>\n",
       "  </tbody>\n",
       "</table>\n",
       "<p>18584 rows × 5 columns</p>\n",
       "</div>"
      ],
      "text/plain": [
       "                    timestamp direction    price   amount    change\n",
       "2690  2021-06-17 10:58:03.544      sell  39294.0    240.0  -18050.0\n",
       "2692  2021-06-17 10:58:03.553      sell  39577.0      0.0 -258580.0\n",
       "2700  2021-06-17 10:58:03.626      sell  39285.0  19090.0   -1830.0\n",
       "2706  2021-06-17 10:58:03.699      sell  39285.0  18090.0   -1000.0\n",
       "2713  2021-06-17 10:58:03.768      sell  39334.5   7270.0    -150.0\n",
       "...                       ...       ...      ...      ...       ...\n",
       "80483 2021-06-17 11:08:03.217      sell  39280.0  39050.0   -8000.0\n",
       "80485 2021-06-17 11:08:03.227      sell  39306.5      0.0  -26260.0\n",
       "80487 2021-06-17 11:08:03.228      sell  39287.5      0.0    -100.0\n",
       "80489 2021-06-17 11:08:03.237      sell  39308.5     40.0     -20.0\n",
       "80491 2021-06-17 11:08:03.245      sell  39259.5      0.0   -1000.0\n",
       "\n",
       "[18584 rows x 5 columns]"
      ]
     },
     "execution_count": 17,
     "metadata": {},
     "output_type": "execute_result"
    }
   ],
   "source": [
    "updates"
   ]
  },
  {
   "cell_type": "markdown",
   "id": "a35e0770",
   "metadata": {
    "slideshow": {
     "slide_type": "subslide"
    }
   },
   "source": [
    "To solve our problem we now only need to create the $a$ and $l$ vectors, and the $C$ cost matrix. We can then invoke an optimal transport package and reconstruct $T$."
   ]
  },
  {
   "cell_type": "code",
   "execution_count": 18,
   "id": "50792350-acbf-49e7-afc8-891a8382e276",
   "metadata": {
    "slideshow": {
     "slide_type": "fragment"
    }
   },
   "outputs": [],
   "source": [
    "import numpy as np\n",
    "import ot\n",
    "\n",
    "def bookot(trades, updates):\n",
    "    nu = updates[updates.change < 0]\n",
    "    \n",
    "    # compute trades and negative update amounts\n",
    "    a  = trades.change.values\n",
    "    lm = - nu.change.values\n",
    "\n",
    "    # compute cost matrix\n",
    "    pinf = 1e9  # pseudo infinity\n",
    "    pdiff = np.where(np.subtract.outer(trades.price.values, nu.price.values) == 0, 0, pinf)\n",
    "    tdiff = np.abs(np.subtract.outer(trades.timestamp.values, nu.timestamp.values).astype(float))\n",
    "    C = tdiff + pdiff\n",
    "\n",
    "    # add virtual trade\n",
    "    a = np.append(a, (lm.sum() - a.sum()))\n",
    "    C = np.vstack((C, [np.zeros_like(lm)]))\n",
    "\n",
    "    # compute optimal transport\n",
    "    T = ot.emd(a, lm, C)\n",
    "    return T"
   ]
  },
  {
   "cell_type": "code",
   "execution_count": 19,
   "id": "bc9415d7-3579-415b-9a48-817674ce8dde",
   "metadata": {
    "slideshow": {
     "slide_type": "subslide"
    }
   },
   "outputs": [],
   "source": [
    "T = bookot(trades, updates)"
   ]
  },
  {
   "cell_type": "code",
   "execution_count": 20,
   "id": "6cd07d43",
   "metadata": {
    "slideshow": {
     "slide_type": "skip"
    }
   },
   "outputs": [],
   "source": [
    "orders = [\n",
    "    ('limit', row.timestamp, row.price, row.change)\n",
    "    for _, row in posupdates.iterrows()\n",
    "]\n",
    "\n",
    "for i, j in zip(*T.nonzero()):\n",
    "    timestamp = updates.timestamp.iat[j]\n",
    "    price = updates.price.iat[j]\n",
    "    amount = updates.change.iat[j]\n",
    "\n",
    "    if i + 1 == T.shape[0]:\n",
    "        orders.append(('cancel', timestamp, price, -amount))\n",
    "    else:\n",
    "        orders.append(('market', timestamp, price, -amount))\n",
    "\n",
    "\n",
    "orders = pd.DataFrame(orders, columns=('order', 'timestamp', 'price', 'amount'))\n",
    "orders = orders.sort_values(by='timestamp')"
   ]
  },
  {
   "cell_type": "code",
   "execution_count": 21,
   "id": "6147d6cf",
   "metadata": {
    "slideshow": {
     "slide_type": "fragment"
    }
   },
   "outputs": [
    {
     "data": {
      "text/html": [
       "<div>\n",
       "<style scoped>\n",
       "    .dataframe tbody tr th:only-of-type {\n",
       "        vertical-align: middle;\n",
       "    }\n",
       "\n",
       "    .dataframe tbody tr th {\n",
       "        vertical-align: top;\n",
       "    }\n",
       "\n",
       "    .dataframe thead th {\n",
       "        text-align: right;\n",
       "    }\n",
       "</style>\n",
       "<table border=\"1\" class=\"dataframe\">\n",
       "  <thead>\n",
       "    <tr style=\"text-align: right;\">\n",
       "      <th></th>\n",
       "      <th>order</th>\n",
       "      <th>timestamp</th>\n",
       "      <th>price</th>\n",
       "      <th>amount</th>\n",
       "    </tr>\n",
       "  </thead>\n",
       "  <tbody>\n",
       "    <tr>\n",
       "      <th>2087</th>\n",
       "      <td>limit</td>\n",
       "      <td>2021-06-17 10:58:27.404</td>\n",
       "      <td>39309.0</td>\n",
       "      <td>150.0</td>\n",
       "    </tr>\n",
       "    <tr>\n",
       "      <th>20843</th>\n",
       "      <td>cancel</td>\n",
       "      <td>2021-06-17 10:58:27.466</td>\n",
       "      <td>39280.5</td>\n",
       "      <td>100.0</td>\n",
       "    </tr>\n",
       "    <tr>\n",
       "      <th>2088</th>\n",
       "      <td>limit</td>\n",
       "      <td>2021-06-17 10:58:27.466</td>\n",
       "      <td>39281.0</td>\n",
       "      <td>100.0</td>\n",
       "    </tr>\n",
       "    <tr>\n",
       "      <th>2089</th>\n",
       "      <td>limit</td>\n",
       "      <td>2021-06-17 10:58:27.556</td>\n",
       "      <td>39292.0</td>\n",
       "      <td>8000.0</td>\n",
       "    </tr>\n",
       "    <tr>\n",
       "      <th>2090</th>\n",
       "      <td>limit</td>\n",
       "      <td>2021-06-17 10:58:27.613</td>\n",
       "      <td>39269.0</td>\n",
       "      <td>50000.0</td>\n",
       "    </tr>\n",
       "    <tr>\n",
       "      <th>20844</th>\n",
       "      <td>cancel</td>\n",
       "      <td>2021-06-17 10:58:27.613</td>\n",
       "      <td>39270.5</td>\n",
       "      <td>50000.0</td>\n",
       "    </tr>\n",
       "    <tr>\n",
       "      <th>20845</th>\n",
       "      <td>cancel</td>\n",
       "      <td>2021-06-17 10:58:27.736</td>\n",
       "      <td>39258.5</td>\n",
       "      <td>1830.0</td>\n",
       "    </tr>\n",
       "    <tr>\n",
       "      <th>2091</th>\n",
       "      <td>limit</td>\n",
       "      <td>2021-06-17 10:58:27.736</td>\n",
       "      <td>39263.0</td>\n",
       "      <td>1830.0</td>\n",
       "    </tr>\n",
       "    <tr>\n",
       "      <th>20846</th>\n",
       "      <td>cancel</td>\n",
       "      <td>2021-06-17 10:58:27.764</td>\n",
       "      <td>39277.5</td>\n",
       "      <td>29000.0</td>\n",
       "    </tr>\n",
       "    <tr>\n",
       "      <th>2092</th>\n",
       "      <td>limit</td>\n",
       "      <td>2021-06-17 10:58:27.764</td>\n",
       "      <td>39283.5</td>\n",
       "      <td>29000.0</td>\n",
       "    </tr>\n",
       "    <tr>\n",
       "      <th>20847</th>\n",
       "      <td>cancel</td>\n",
       "      <td>2021-06-17 10:58:27.773</td>\n",
       "      <td>39263.0</td>\n",
       "      <td>1830.0</td>\n",
       "    </tr>\n",
       "    <tr>\n",
       "      <th>2093</th>\n",
       "      <td>limit</td>\n",
       "      <td>2021-06-17 10:58:27.773</td>\n",
       "      <td>39266.5</td>\n",
       "      <td>1830.0</td>\n",
       "    </tr>\n",
       "    <tr>\n",
       "      <th>20848</th>\n",
       "      <td>cancel</td>\n",
       "      <td>2021-06-17 10:58:27.791</td>\n",
       "      <td>39266.5</td>\n",
       "      <td>1830.0</td>\n",
       "    </tr>\n",
       "    <tr>\n",
       "      <th>2094</th>\n",
       "      <td>limit</td>\n",
       "      <td>2021-06-17 10:58:27.791</td>\n",
       "      <td>39264.5</td>\n",
       "      <td>1830.0</td>\n",
       "    </tr>\n",
       "    <tr>\n",
       "      <th>2095</th>\n",
       "      <td>limit</td>\n",
       "      <td>2021-06-17 10:58:27.814</td>\n",
       "      <td>39250.5</td>\n",
       "      <td>10.0</td>\n",
       "    </tr>\n",
       "    <tr>\n",
       "      <th>2096</th>\n",
       "      <td>limit</td>\n",
       "      <td>2021-06-17 10:58:27.832</td>\n",
       "      <td>39253.0</td>\n",
       "      <td>0.0</td>\n",
       "    </tr>\n",
       "    <tr>\n",
       "      <th>2097</th>\n",
       "      <td>limit</td>\n",
       "      <td>2021-06-17 10:58:27.852</td>\n",
       "      <td>39250.5</td>\n",
       "      <td>42700.0</td>\n",
       "    </tr>\n",
       "    <tr>\n",
       "      <th>20849</th>\n",
       "      <td>cancel</td>\n",
       "      <td>2021-06-17 10:58:27.860</td>\n",
       "      <td>39276.5</td>\n",
       "      <td>10000.0</td>\n",
       "    </tr>\n",
       "    <tr>\n",
       "      <th>2098</th>\n",
       "      <td>limit</td>\n",
       "      <td>2021-06-17 10:58:27.860</td>\n",
       "      <td>39272.0</td>\n",
       "      <td>10000.0</td>\n",
       "    </tr>\n",
       "    <tr>\n",
       "      <th>20850</th>\n",
       "      <td>cancel</td>\n",
       "      <td>2021-06-17 10:58:27.862</td>\n",
       "      <td>39264.5</td>\n",
       "      <td>1830.0</td>\n",
       "    </tr>\n",
       "  </tbody>\n",
       "</table>\n",
       "</div>"
      ],
      "text/plain": [
       "        order               timestamp    price   amount\n",
       "2087    limit 2021-06-17 10:58:27.404  39309.0    150.0\n",
       "20843  cancel 2021-06-17 10:58:27.466  39280.5    100.0\n",
       "2088    limit 2021-06-17 10:58:27.466  39281.0    100.0\n",
       "2089    limit 2021-06-17 10:58:27.556  39292.0   8000.0\n",
       "2090    limit 2021-06-17 10:58:27.613  39269.0  50000.0\n",
       "20844  cancel 2021-06-17 10:58:27.613  39270.5  50000.0\n",
       "20845  cancel 2021-06-17 10:58:27.736  39258.5   1830.0\n",
       "2091    limit 2021-06-17 10:58:27.736  39263.0   1830.0\n",
       "20846  cancel 2021-06-17 10:58:27.764  39277.5  29000.0\n",
       "2092    limit 2021-06-17 10:58:27.764  39283.5  29000.0\n",
       "20847  cancel 2021-06-17 10:58:27.773  39263.0   1830.0\n",
       "2093    limit 2021-06-17 10:58:27.773  39266.5   1830.0\n",
       "20848  cancel 2021-06-17 10:58:27.791  39266.5   1830.0\n",
       "2094    limit 2021-06-17 10:58:27.791  39264.5   1830.0\n",
       "2095    limit 2021-06-17 10:58:27.814  39250.5     10.0\n",
       "2096    limit 2021-06-17 10:58:27.832  39253.0      0.0\n",
       "2097    limit 2021-06-17 10:58:27.852  39250.5  42700.0\n",
       "20849  cancel 2021-06-17 10:58:27.860  39276.5  10000.0\n",
       "2098    limit 2021-06-17 10:58:27.860  39272.0  10000.0\n",
       "20850  cancel 2021-06-17 10:58:27.862  39264.5   1830.0"
      ]
     },
     "execution_count": 21,
     "metadata": {},
     "output_type": "execute_result"
    }
   ],
   "source": [
    "orders.iloc[3140:3160]"
   ]
  },
  {
   "cell_type": "markdown",
   "id": "f294898d",
   "metadata": {
    "slideshow": {
     "slide_type": "slide"
    }
   },
   "source": [
    "---\n",
    "\n",
    "## Graphs <a name=\"graphs\"></a>"
   ]
  },
  {
   "cell_type": "markdown",
   "id": "019379d3",
   "metadata": {
    "slideshow": {
     "slide_type": "fragment"
    }
   },
   "source": [
    "From our transport plan we can count how many trades are matched with order book updates with different timestamps. Below is a histogram of timestamp differences for matches. The majority of trades appear in negative order book updates with the same timestamp, but a significant amount appear a few milliseconds later."
   ]
  },
  {
   "cell_type": "code",
   "execution_count": 22,
   "id": "e4e8060f",
   "metadata": {
    "slideshow": {
     "slide_type": "skip"
    }
   },
   "outputs": [],
   "source": [
    "import matplotlib.pylab as pl"
   ]
  },
  {
   "cell_type": "code",
   "execution_count": 23,
   "id": "3a83848a",
   "metadata": {
    "slideshow": {
     "slide_type": "fragment"
    }
   },
   "outputs": [
    {
     "data": {
      "image/png": "[encoded data removed]",
      "text/plain": [
       "<Figure size 576x360 with 1 Axes>"
      ]
     },
     "metadata": {
      "needs_background": "light"
     },
     "output_type": "display_data"
    }
   ],
   "source": [
    "matches = []\n",
    "for i, j in zip(*T.nonzero()):\n",
    "    if i + 1 != T.shape[0]:  # skip cancel\n",
    "        matches.append((trades.timestamp.iat[i], updates.timestamp.iat[j]))\n",
    "\n",
    "matches = np.asarray(matches)\n",
    "diffs   = (matches[:, 1] - matches[:, 0]).astype('timedelta64[ms]').astype(float) / 1000\n",
    "pl.figure(figsize=(8, 5))\n",
    "pl.hist(diffs, bins=50)\n",
    "_ = pl.xticks(rotation=54, ha='right')"
   ]
  },
  {
   "cell_type": "markdown",
   "id": "28883be3",
   "metadata": {
    "slideshow": {
     "slide_type": "subslide"
    }
   },
   "source": [
    "---\n",
    "\n",
    "Our transport plan also allows us to count the number of trades with which each order book negative update is matched. In the following histogram we disregard matches with the virtual (cancel) trade. The majority of updates are explained by only 1 trade but a significant amount aggregate several trades."
   ]
  },
  {
   "cell_type": "code",
   "execution_count": 24,
   "id": "3f835e78",
   "metadata": {
    "slideshow": {
     "slide_type": "fragment"
    }
   },
   "outputs": [
    {
     "data": {
      "image/png": "[encoded data removed]",
      "text/plain": [
       "<Figure size 576x360 with 1 Axes>"
      ]
     },
     "metadata": {
      "needs_background": "light"
     },
     "output_type": "display_data"
    }
   ],
   "source": [
    "ij = np.asarray(T.nonzero()).T\n",
    "ij = ij[ij[:, 0] != T.shape[0] - 1]  # skip cancel\n",
    "unique, counts = np.unique(ij, return_counts=True)\n",
    "\n",
    "pl.figure(figsize=(8, 5))\n",
    "pl.hist(counts, bins=np.arange(counts.max()))\n",
    "pl.xticks(rotation=54, ha='right')\n",
    "\n",
    "None"
   ]
  },
  {
   "cell_type": "code",
   "execution_count": 25,
   "id": "44600ec1-ab26-4ccc-8d33-6382506a3599",
   "metadata": {
    "slideshow": {
     "slide_type": "skip"
    }
   },
   "outputs": [],
   "source": [
    "import warnings\n",
    "warnings.filterwarnings('ignore')"
   ]
  }
 ],
 "metadata": {
  "celltoolbar": "Slideshow",
  "kernelspec": {
   "display_name": "Python 3",
   "language": "python",
   "name": "python3"
  },
  "language_info": {
   "codemirror_mode": {
    "name": "ipython",
    "version": 3
   },
   "file_extension": ".py",
   "mimetype": "text/x-python",
   "name": "python",
   "nbconvert_exporter": "python",
   "pygments_lexer": "ipython3",
   "version": "3.8.8"
  }
 },
 "nbformat": 4,
 "nbformat_minor": 5
}
