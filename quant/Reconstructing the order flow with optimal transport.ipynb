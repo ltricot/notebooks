{
 "cells": [
  {
   "cell_type": "markdown",
   "id": "86be311b",
   "metadata": {},
   "source": [
    "# Matching trades to order book updates\n",
    "\n",
    "## Introduction\n",
    "\n",
    "Exchanges receive three types of orders:\n",
    "- **Limit orders**, making liquidity\n",
    "- **Market orders**, taking liquidity\n",
    "- **Cancel orders**, taking liquidity\n",
    "\n",
    "Limit orders are standing offers to buy (sell) a defined amount at a defined price. They can be cancelled using Cancel orders. Market orders are orders to buy a defined amount at market price: the best price which can be achieved using standing offers. Limit orders are accumulated and aggregated into a tick level order book, which contains the size of aggregated standing offers at each price. Market orders trigger one or more trades when they are matched with one or more Limit orders.\n",
    "\n",
    "---\n",
    "\n",
    "![Order book GIF](https://upload.wikimedia.org/wikipedia/commons/1/14/Order_book_depth_chart.gif)\n",
    "\n",
    "---\n",
    "\n",
    "Exchanges stream the order book updates and the trades flow to market participants, but never stream the order flow. The order flow is valuable data which can be used to study agents' behavior on the market, and possibly design algorithmic trading strategies. We attempt to reconstruct the order flow from the order book updates and trades flow."
   ]
  },
  {
   "cell_type": "markdown",
   "id": "f52a4944",
   "metadata": {},
   "source": [
    "---\n",
    "\n",
    "## Modeling the order book\n",
    "\n",
    "We begin by studying the order flow for a given price and direction (buy / sell), on a given time interval $I$. Fixing these variables, we may study the changes in liquidity as a measure over time:\n",
    "\n",
    "$$\n",
    "\\begin{align}\n",
    "      & L(t) : \\text{ the liquidity at time $t \\in I$}  \\\\\n",
    "      & \\ell : \\text{ the borel measure associated to $L$}  \\\\\n",
    "      & \\ell( (t_0, t_1] ) = L(t_1) - L(t_0)\n",
    "\\end{align}\n",
    "$$\n",
    "\n",
    "We also observe the trades at this price, and in this direction (taker buys, maker sells, or inversely). We model it the same way:\n",
    "\n",
    "$$\n",
    "\\begin{align}\n",
    "      & A(t) : \\text{ the accumulated traded amount at time $t \\in I$}  \\\\\n",
    "      & a : \\text{ the borel measure associated to $L$}  \\\\\n",
    "      & a( (t_0, t_1] ) = A(t_1) - A(t_0)\n",
    "\\end{align}\n",
    "$$\n",
    "\n",
    "We are dealing with discrete information, and letting $\\ell_t$ ($a_t$) represent the liquidity (acummulated traded amount), we may represent our measures as\n",
    "\n",
    "$$\n",
    "\\begin{align}\n",
    "    \\ell &= \\sum_i l_{t_i} \\delta_{t_i}  \\\\\n",
    "       a &= \\sum_i a_{t_i} \\delta_{t_i}\n",
    "\\end{align}\n",
    "$$\n",
    "\n",
    "These measures represent the information streamed by the exchange. They are therefore imperfect representations of the true changes in liquidity and trade flow. Inaccuracies may come from:\n",
    "- Aggregation of order book updates\n",
    "- Aggregation of trades\n",
    "- Timestamp inaccuracies: trade timestamps may be unequal to that of the order book update they caused\n",
    "\n",
    "Additionally, trades do not map one to one with market orders, due to\n",
    "- Possible trade aggregation when several market orders are passed at the same time\n",
    "- Market order decomposition to match with several different limit orders at the same price\n",
    "- As above, but at different prices (cannot be studied when only considering one price as we currently do)\n",
    "\n",
    "We may now express the problem: we wish to decompose the changes in liquidity into the limit ($r$), market ($m$) and cancel ($c$) order flows, all of which are represented as unsigned (positive) measures.\n",
    "\n",
    "$$\n",
    "\\ell = r - m - c\n",
    "$$\n",
    "\n",
    "In this model $m$ isn't really the market order flow, but rather the consequence of the market order flow on the liquidity at the given price level."
   ]
  },
  {
   "cell_type": "markdown",
   "id": "653169e8",
   "metadata": {},
   "source": [
    "---\n",
    "\n",
    "## A simplifying assumption\n",
    "\n",
    "There exists a decomposition of $\\ell$ such that $\\ell^+ = r$ and $\\ell^- = m + c$. There is no guarantee, however, that this is the jordan decomposition of $\\ell$ (such that $\\text{supp } \\ell^- \\cap \\text{supp } \\ell^+ = \\varnothing$). In fact, it will often be the case that trades appear in positive order book updates when exchanges aggregate data.\n",
    "\n",
    "In this section we make the simplifying assumption that the jordan decomposition coincides with the proposed decomposition. This is only valid in the case where exchanged do not aggregate order book updates and trades. Under this hypothesis, our problem reduces to decomposing\n",
    "\n",
    "$$\n",
    "\\ell^- = m + c\n",
    "$$\n",
    "\n",
    "that is, decomposing negative liquidity updates into market orders and cancel orders.\n",
    "\n",
    "---\n",
    "\n",
    "We assume $a(I) = m(I)$. This comes from the local nature of inaccuracies. The constraints on $m$ are then:\n",
    "\n",
    "$$\n",
    "\\begin{align}\n",
    "    & m(I) = a(I)  \\\\\n",
    "    & 0    \\leq m \\leq \\ell^-\n",
    "\\end{align}\n",
    "$$\n",
    "\n",
    "We would like to find an $m$ so that market orders are found temporally very close to trades modeled by $a$. Precisely, we wish to find some $m$ with minimal earth mover distance from $a$. Letting $n = \\text{supp } a$, $k = \\text{supp } m$, this gives the following optimization problem:\n",
    "\n",
    "$$\n",
    "\\begin{align}\n",
    "    \\min_{T \\geq 0, m \\geq 0} & \\sum_{i \\leq n, j \\leq k} T_{ij} C_{ij}  \\\\\n",
    "                         s.t. & \\sum_{j \\leq k} T_{ij} = a_{t_i}  \\\\\n",
    "                              & \\sum_{i \\leq n} T_{ij} = m_{t_j}\n",
    "\\end{align}\n",
    "$$\n",
    "\n",
    "We can substitute $m_{t_j} = \\ell^-_{t_j} - c_j$ and find\n",
    "\n",
    "$$\n",
    "\\begin{align}\n",
    "    \\min_{T \\geq 0, c \\geq 0} & \\sum_{i \\leq n, j \\leq k} T_{ij} C_{ij}  \\\\\n",
    "                         s.t. & \\sum_{j \\leq k} T_{ij} = a_{t_i}  \\\\\n",
    "                              & \\sum_{i \\leq n} T_{ij} + c_j = \\ell^-_{t_j}\n",
    "\\end{align}\n",
    "$$\n",
    "\n",
    "Finally defining $a_{t_{n + 1}} = \\sum_{j \\leq k} c_j$, $T_{n + 1, j} = c_j$, and $C_{n + 1, j} = 0$ (pardon the abuse of notation), we find a Kantorovich OT problem:\n",
    "\n",
    "$$\n",
    "\\begin{align}\n",
    "    \\min_{T \\geq 0} & \\sum_{i \\leq n + 1, j \\leq k} T_{ij} C_{ij}  \\\\\n",
    "                         s.t. & \\sum_{j \\leq k} T_{ij} = a_{t_i}  \\\\\n",
    "                              & \\sum_{i \\leq n + 1} T_{ij} = \\ell^-_{t_j}\n",
    "\\end{align}\n",
    "$$\n",
    "\n",
    "This problem is a transport problem which matches trades to negative liquidity changes, with a cost which we can define to be the absolute value of the difference in timestamp at which th information was received. Negative liquidity changes which cannot be explained by trades are explained by cancellations: we have effectively created a virtual trade accounting for all cancel orders.\n",
    "\n",
    "Finding the transport plan $T$ amounts to finding both $m$ and $c$ and solving our problem in the simplified case.\n",
    "\n",
    "---\n",
    "\n",
    "By letting the underlying measure space be two-dimensional, so that it represents both time and price, we can compute the matching for several prices at the same time by setting an infinite cost for matching trades and liquidity changes at different prices. The solution to the OT problem will yield an $m$ in two dimensions, which can be analyzed to recover a likely market order flow. When the data is not aggregated, the problem of reconstructing the market order flow from the trades is timestamp clustering."
   ]
  },
  {
   "cell_type": "markdown",
   "id": "880348ee",
   "metadata": {},
   "source": [
    "### Experiments\n",
    "\n",
    "We collect 10 minutes of data from the [Deribit crypto derivatives exchange](https://www.deribit.com)."
   ]
  },
  {
   "cell_type": "code",
   "execution_count": 1,
   "id": "a88f88d2",
   "metadata": {},
   "outputs": [
    {
     "name": "stdout",
     "output_type": "stream",
     "text": [
      "Number of trades streamed: 728\n",
      "Number of book updates streamed: 123971\n"
     ]
    }
   ],
   "source": [
    "import websockets\n",
    "\n",
    "from itertools import count\n",
    "import datetime as dt\n",
    "import asyncio as aio\n",
    "import json\n",
    "\n",
    "\n",
    "_id = count().__next__\n",
    "\n",
    "async def trades():\n",
    "    msg = \\\n",
    "    {\n",
    "        \"jsonrpc\": \"2.0\",\n",
    "        \"method\": \"public/subscribe\",\n",
    "        \"id\": _id(),\n",
    "        \"params\": {\n",
    "            \"channels\": [\"trades.BTC-PERPETUAL.raw\"]\n",
    "        }\n",
    "    }\n",
    "    \n",
    "    async with websockets.connect('wss://www.deribit.com/ws/api/v2') as ws:\n",
    "        await ws.send(json.dumps(msg))\n",
    "        while ws.open:\n",
    "            r = json.loads(await ws.recv())\n",
    "            if 'method' in r:\n",
    "                yield r\n",
    "\n",
    "async def book():\n",
    "    msg = \\\n",
    "    {\n",
    "        \"jsonrpc\" : \"2.0\",\n",
    "        \"id\" : _id(),\n",
    "        \"method\" : \"public/subscribe\",\n",
    "        \"params\" : {\n",
    "            \"channels\" : [\"book.BTC-PERPETUAL.raw\"]\n",
    "        }\n",
    "    }\n",
    "\n",
    "    async with websockets.connect('wss://www.deribit.com/ws/api/v2') as ws:\n",
    "        await ws.send(json.dumps(msg))\n",
    "        while ws.open:\n",
    "            r = json.loads(await ws.recv())\n",
    "            if 'method' in r:\n",
    "                yield r\n",
    "\n",
    "async def harvest(stream, duration):\n",
    "    dat = []\n",
    "    start = dt.datetime.now()\n",
    "\n",
    "    async for e in stream:\n",
    "        dat.append(e)\n",
    "        if (dt.datetime.now() - start).total_seconds() > duration:\n",
    "            return dat\n",
    "\n",
    "interval = 600\n",
    "t, b = await aio.gather(harvest(trades(), interval), harvest(book(), interval))\n",
    "\n",
    "print(f'Number of trades streamed: {len(t)}\\nNumber of book updates streamed: {len(b)}')"
   ]
  },
  {
   "cell_type": "markdown",
   "id": "d8716053",
   "metadata": {},
   "source": [
    "---\n",
    "\n",
    "We transform the raw JSON data into `pandas` dataframes that we can work with."
   ]
  },
  {
   "cell_type": "code",
   "execution_count": 2,
   "id": "28fdd6cc",
   "metadata": {
    "scrolled": true
   },
   "outputs": [
    {
     "name": "stderr",
     "output_type": "stream",
     "text": [
      "<ipython-input-2-44b058a94b8d>:28: SettingWithCopyWarning: \n",
      "A value is trying to be set on a copy of a slice from a DataFrame\n",
      "\n",
      "See the caveats in the documentation: https://pandas.pydata.org/pandas-docs/stable/user_guide/indexing.html#returning-a-view-versus-a-copy\n",
      "  updates.change[pd.isnull(updates.change)] = 0\n"
     ]
    }
   ],
   "source": [
    "import pandas as pd\n",
    "from operator import itemgetter\n",
    "\n",
    "\n",
    "columns = ('timestamp', 'direction', 'price', 'amount')\n",
    "\n",
    "tds, _t = [], itemgetter(*columns)\n",
    "for r in t:\n",
    "    for tr in r['params']['data']:\n",
    "        tds.append(_t(tr))\n",
    "trades = pd.DataFrame(tds, columns=columns)\n",
    "\n",
    "obu = []\n",
    "for r in b:\n",
    "    for _, price, amount in r['params']['data']['bids']:\n",
    "        obu.append((r['params']['data']['timestamp'], 'buy', price, amount))\n",
    "    for _, price, amount in r['params']['data']['asks']:\n",
    "        obu.append((r['params']['data']['timestamp'], 'sell', price, amount))\n",
    "updates = pd.DataFrame(obu, columns=columns)\n",
    "\n",
    "trades.timestamp = pd.to_datetime(trades.timestamp, unit='ms')\n",
    "updates.timestamp = pd.to_datetime(updates.timestamp, unit='ms')\n",
    "trades.sort_values(by='timestamp', inplace=True)\n",
    "updates.sort_values(by='timestamp', inplace=True)\n",
    "\n",
    "# we consider updates, deribit feeds us absolute values\n",
    "updates['change'] = updates.groupby(['direction', 'price']).amount.diff()\n",
    "updates.change[pd.isnull(updates.change)] = 0\n",
    "trades['change'] = trades.amount"
   ]
  },
  {
   "cell_type": "markdown",
   "id": "422ef453",
   "metadata": {},
   "source": [
    "---\n",
    "\n",
    "The `trades` and `updates` dataframes have the same structure. We show `updates` below for reference. A `buy` trade results from a market order fulfilling a limit sell order. Therefore `buy` trades must be matched with `sell` negative updates."
   ]
  },
  {
   "cell_type": "code",
   "execution_count": 3,
   "id": "85b2d05b",
   "metadata": {
    "scrolled": false
   },
   "outputs": [
    {
     "data": {
      "text/html": [
       "<div>\n",
       "<style scoped>\n",
       "    .dataframe tbody tr th:only-of-type {\n",
       "        vertical-align: middle;\n",
       "    }\n",
       "\n",
       "    .dataframe tbody tr th {\n",
       "        vertical-align: top;\n",
       "    }\n",
       "\n",
       "    .dataframe thead th {\n",
       "        text-align: right;\n",
       "    }\n",
       "</style>\n",
       "<table border=\"1\" class=\"dataframe\">\n",
       "  <thead>\n",
       "    <tr style=\"text-align: right;\">\n",
       "      <th></th>\n",
       "      <th>timestamp</th>\n",
       "      <th>direction</th>\n",
       "      <th>price</th>\n",
       "      <th>amount</th>\n",
       "      <th>change</th>\n",
       "    </tr>\n",
       "  </thead>\n",
       "  <tbody>\n",
       "    <tr>\n",
       "      <th>0</th>\n",
       "      <td>2021-05-10 14:24:07.263</td>\n",
       "      <td>buy</td>\n",
       "      <td>57438.0</td>\n",
       "      <td>29790.0</td>\n",
       "      <td>0.0</td>\n",
       "    </tr>\n",
       "    <tr>\n",
       "      <th>2054</th>\n",
       "      <td>2021-05-10 14:24:07.263</td>\n",
       "      <td>sell</td>\n",
       "      <td>57654.5</td>\n",
       "      <td>20000.0</td>\n",
       "      <td>0.0</td>\n",
       "    </tr>\n",
       "    <tr>\n",
       "      <th>2055</th>\n",
       "      <td>2021-05-10 14:24:07.263</td>\n",
       "      <td>sell</td>\n",
       "      <td>57657.0</td>\n",
       "      <td>110.0</td>\n",
       "      <td>0.0</td>\n",
       "    </tr>\n",
       "    <tr>\n",
       "      <th>2056</th>\n",
       "      <td>2021-05-10 14:24:07.263</td>\n",
       "      <td>sell</td>\n",
       "      <td>57658.0</td>\n",
       "      <td>280.0</td>\n",
       "      <td>0.0</td>\n",
       "    </tr>\n",
       "    <tr>\n",
       "      <th>2057</th>\n",
       "      <td>2021-05-10 14:24:07.263</td>\n",
       "      <td>sell</td>\n",
       "      <td>57658.5</td>\n",
       "      <td>150.0</td>\n",
       "      <td>0.0</td>\n",
       "    </tr>\n",
       "    <tr>\n",
       "      <th>...</th>\n",
       "      <td>...</td>\n",
       "      <td>...</td>\n",
       "      <td>...</td>\n",
       "      <td>...</td>\n",
       "      <td>...</td>\n",
       "    </tr>\n",
       "    <tr>\n",
       "      <th>188553</th>\n",
       "      <td>2021-05-10 14:34:07.044</td>\n",
       "      <td>sell</td>\n",
       "      <td>57472.5</td>\n",
       "      <td>0.0</td>\n",
       "      <td>-40000.0</td>\n",
       "    </tr>\n",
       "    <tr>\n",
       "      <th>188552</th>\n",
       "      <td>2021-05-10 14:34:07.044</td>\n",
       "      <td>sell</td>\n",
       "      <td>57473.0</td>\n",
       "      <td>56100.0</td>\n",
       "      <td>40000.0</td>\n",
       "    </tr>\n",
       "    <tr>\n",
       "      <th>188554</th>\n",
       "      <td>2021-05-10 14:34:07.062</td>\n",
       "      <td>buy</td>\n",
       "      <td>57381.0</td>\n",
       "      <td>0.0</td>\n",
       "      <td>-5730.0</td>\n",
       "    </tr>\n",
       "    <tr>\n",
       "      <th>188555</th>\n",
       "      <td>2021-05-10 14:34:07.072</td>\n",
       "      <td>buy</td>\n",
       "      <td>980.0</td>\n",
       "      <td>0.0</td>\n",
       "      <td>-10.0</td>\n",
       "    </tr>\n",
       "    <tr>\n",
       "      <th>188556</th>\n",
       "      <td>2021-05-10 14:34:07.072</td>\n",
       "      <td>buy</td>\n",
       "      <td>981.0</td>\n",
       "      <td>10.0</td>\n",
       "      <td>10.0</td>\n",
       "    </tr>\n",
       "  </tbody>\n",
       "</table>\n",
       "<p>188557 rows × 5 columns</p>\n",
       "</div>"
      ],
      "text/plain": [
       "                     timestamp direction    price   amount   change\n",
       "0      2021-05-10 14:24:07.263       buy  57438.0  29790.0      0.0\n",
       "2054   2021-05-10 14:24:07.263      sell  57654.5  20000.0      0.0\n",
       "2055   2021-05-10 14:24:07.263      sell  57657.0    110.0      0.0\n",
       "2056   2021-05-10 14:24:07.263      sell  57658.0    280.0      0.0\n",
       "2057   2021-05-10 14:24:07.263      sell  57658.5    150.0      0.0\n",
       "...                        ...       ...      ...      ...      ...\n",
       "188553 2021-05-10 14:34:07.044      sell  57472.5      0.0 -40000.0\n",
       "188552 2021-05-10 14:34:07.044      sell  57473.0  56100.0  40000.0\n",
       "188554 2021-05-10 14:34:07.062       buy  57381.0      0.0  -5730.0\n",
       "188555 2021-05-10 14:34:07.072       buy    980.0      0.0    -10.0\n",
       "188556 2021-05-10 14:34:07.072       buy    981.0     10.0     10.0\n",
       "\n",
       "[188557 rows x 5 columns]"
      ]
     },
     "execution_count": 3,
     "metadata": {},
     "output_type": "execute_result"
    }
   ],
   "source": [
    "updates"
   ]
  },
  {
   "cell_type": "code",
   "execution_count": 4,
   "id": "70913551",
   "metadata": {},
   "outputs": [],
   "source": [
    "# only work on one side of the order book\n",
    "direction = 'buy'\n",
    "trades = trades[trades.direction == direction]\n",
    "updates = updates[updates.direction == ('buy' if direction == 'sell' else 'sell')]\n",
    "\n",
    "# all positive updates are limit orders\n",
    "updates = updates[updates.change < 0]\n",
    "updates.change = - updates.change"
   ]
  },
  {
   "cell_type": "markdown",
   "id": "a35e0770",
   "metadata": {},
   "source": [
    "---\n",
    "\n",
    "To solve our problem we now only need to create the $a$ and $l$ vectors, and the $C$ cost matrix. We can then invoke an optimal transport package and reconstruct $T$."
   ]
  },
  {
   "cell_type": "code",
   "execution_count": 5,
   "id": "bc414b4a",
   "metadata": {},
   "outputs": [
    {
     "data": {
      "text/plain": [
       "((852,), (47051,), (852, 47051))"
      ]
     },
     "execution_count": 5,
     "metadata": {},
     "output_type": "execute_result"
    }
   ],
   "source": [
    "import numpy as np\n",
    "\n",
    "# n and m are negative updates and trades (including virtual)\n",
    "n = updates.change.to_numpy()\n",
    "m = trades.change.to_numpy()\n",
    "m = np.append(m, (n.sum() - m.sum(),))  #  add enough cancel potential to explain all updates\n",
    "assert n.sum() == m.sum()\n",
    "\n",
    "# loss matrix C is abs(time difference) + inf * abs(price difference)\n",
    "tdiff = (trades.timestamp.values[:, np.newaxis] - updates.timestamp.values[np.newaxis, :])\n",
    "pdiff = (trades.price.values[:, np.newaxis] - updates.price.values[np.newaxis, :])\n",
    "C = np.abs(tdiff.astype(float)) + np.where(np.abs(pdiff.astype(float)) == 0, 0, 100000000000)\n",
    "\n",
    "# add virtual trade cost (0)\n",
    "C = np.vstack((C, [np.zeros_like(n)]))\n",
    "\n",
    "m.shape, n.shape, C.shape"
   ]
  },
  {
   "cell_type": "code",
   "execution_count": 6,
   "id": "769159ae",
   "metadata": {},
   "outputs": [
    {
     "data": {
      "text/plain": [
       "(852, 47051)"
      ]
     },
     "execution_count": 6,
     "metadata": {},
     "output_type": "execute_result"
    }
   ],
   "source": [
    "import ot\n",
    "\n",
    "T = ot.emd(m, n, C)  # transport plan\n",
    "T.shape"
   ]
  },
  {
   "cell_type": "markdown",
   "id": "019379d3",
   "metadata": {},
   "source": [
    "---\n",
    "\n",
    "From our transport plan we can count how many trades are matched with order book updates with different timestamps. Below is a histogram of timestamp differences for matches. The majority of trades appear in negative order book updates with the same timestamp, but a significant amount appear a few milliseconds later."
   ]
  },
  {
   "cell_type": "code",
   "execution_count": 7,
   "id": "3a83848a",
   "metadata": {},
   "outputs": [
    {
     "data": {
      "image/png": "[encoded data removed]",
      "text/plain": [
       "<Figure size 720x432 with 1 Axes>"
      ]
     },
     "metadata": {
      "needs_background": "light"
     },
     "output_type": "display_data"
    }
   ],
   "source": [
    "import matplotlib.pylab as pl\n",
    "\n",
    "matches = []\n",
    "for i, j in zip(*T.nonzero()):\n",
    "    if i + 1 == T.shape[0]:  # skip cancel\n",
    "        continue\n",
    "    matches.append((trades.timestamp.iat[i], updates.timestamp.iat[j]))\n",
    "\n",
    "matches = np.asarray(matches)\n",
    "diffs   = (matches[:, 1] - matches[:, 0]).astype('timedelta64[ms]').astype(float) / 1000\n",
    "\n",
    "pl.figure(figsize=(10, 6))\n",
    "pl.hist(diffs, bins=50)\n",
    "# pl.hist(diffs, bins=np.arange(diffs.max()))\n",
    "pl.xticks(rotation=54, ha='right')\n",
    "\n",
    "None"
   ]
  },
  {
   "cell_type": "markdown",
   "id": "28883be3",
   "metadata": {},
   "source": [
    "---\n",
    "\n",
    "Our transport plan also allows us to count the number of trades with which each order book negative update is matched. In the following histogram we disregard matches with the virtual (cancel) trade. The majority of updates are explained by only 1 trade but a significant amount aggregate several trades."
   ]
  },
  {
   "cell_type": "code",
   "execution_count": 8,
   "id": "3f835e78",
   "metadata": {
    "scrolled": false
   },
   "outputs": [
    {
     "data": {
      "image/png": "[encoded data removed]",
      "text/plain": [
       "<Figure size 720x432 with 1 Axes>"
      ]
     },
     "metadata": {
      "needs_background": "light"
     },
     "output_type": "display_data"
    }
   ],
   "source": [
    "ij = np.asarray(T.nonzero()).T\n",
    "ij = ij[ij[:, 0] != T.shape[0] - 1]  # skip cancel\n",
    "unique, counts = np.unique(ij, return_counts=True)\n",
    "\n",
    "pl.figure(figsize=(10, 6))\n",
    "pl.hist(counts, bins=np.arange(counts.max()))\n",
    "pl.xticks(rotation=54, ha='right')\n",
    "\n",
    "None"
   ]
  },
  {
   "cell_type": "markdown",
   "id": "728b25b4",
   "metadata": {},
   "source": [
    "We now observe the recovered $m$ to understand how we may analyze it to recover the true market order flow. $m$ is the transport from $a$ to $\\ell$ without considering the cancel virtual trade."
   ]
  },
  {
   "cell_type": "markdown",
   "id": "18ee30ca",
   "metadata": {},
   "source": [
    "The above table represents the solution our optimal transport method found. It is a list of orders as they could have arrived to the exchange, which resulted in the trades and order book updates we observed."
   ]
  },
  {
   "cell_type": "code",
   "execution_count": 9,
   "id": "6ff626e1",
   "metadata": {},
   "outputs": [
    {
     "data": {
      "text/plain": [
       "<matplotlib.collections.PathCollection at 0x17f5f2640>"
      ]
     },
     "execution_count": 9,
     "metadata": {},
     "output_type": "execute_result"
    },
    {
     "data": {
      "image/png": "[encoded data removed]",
      "text/plain": [
       "<Figure size 720x432 with 1 Axes>"
      ]
     },
     "metadata": {
      "needs_background": "light"
     },
     "output_type": "display_data"
    }
   ],
   "source": [
    "from collections import defaultdict\n",
    "\n",
    "\n",
    "m = defaultdict(list)\n",
    "for i, j in zip(*T.nonzero()):\n",
    "    if i + 1 == T.shape[0]:  # skip cancel\n",
    "        continue\n",
    "\n",
    "    # at the timestamp and price of trade i, add the contribution to update j\n",
    "    # there can be multiple trades at the same timestamp and price\n",
    "    m[trades.timestamp.iat[i], trades.price.iat[i]].append(T[i, j])\n",
    "\n",
    "pl.figure(figsize=(10, 6))\n",
    "pl.scatter(*zip(*m.keys()))"
   ]
  },
  {
   "cell_type": "code",
   "execution_count": 111,
   "id": "8130ecf3",
   "metadata": {},
   "outputs": [],
   "source": [
    "def bookot(trades, updates):\n",
    "    '''Match trades to negative order book updates.\n",
    "    \n",
    "    Parameters\n",
    "    ----------\n",
    "    trades:  pd.DataFrame with columns ('timestamp', 'amount', 'price')\n",
    "    updates: pd.DataFrame with columns ('timestamp', 'amount', 'price')\n",
    "    \n",
    "    Returns\n",
    "    -------\n",
    "    ...\n",
    "    '''\n",
    "    \n",
    "    nu = updates[updates.amount < 0]\n",
    "    \n",
    "    # compute trades and negative update amounts\n",
    "    a  = trades.amount.values\n",
    "    lm = - nu.amount.values\n",
    "\n",
    "    # compute cost matrix\n",
    "    pinf = 1e9  # pseudo infinity\n",
    "    pdiff = np.where(np.subtract.outer(trades.price.values, updates.price.values) != 0, pinf, 0)\n",
    "    tdiff = np.abs(np.subtract.outer(trades.timestamp.values, updates.timestamp.values).astype(float))\n",
    "    C = tdiff + pdiff\n",
    "    \n",
    "    # add virtual trade\n",
    "    a = np.append(a, (lm.sum() - a.sum()))\n",
    "    C = np.vstack((C, np.zeros_like(n)))\n",
    "\n",
    "    # compute optimal transport\n",
    "    T = ot.emd(a, lm, C)\n",
    "    return T"
   ]
  },
  {
   "cell_type": "markdown",
   "id": "81d6445d",
   "metadata": {},
   "source": [
    "---\n",
    "\n",
    "## Accounting for aggregations\n",
    "\n",
    "There are two major dynamics our model does not account for. The first one is data aggregation: the possibility of an overlap between negative and positive liquidity changes ($\\ell^+ \\neq r$). The second is an implicit assumption we made about market orders: those are always fulfilled at a unique price. In reality market orders can be decomposed to match with several limit orders at different prices when a tick level's liquidity is exhausted.\n",
    "\n",
    "Both our model and our transport problem must be adpated. The measures we use should be two-dimensional ($time$ and $price$). The optimal transport problem must be signed. The cost $C_{ij}$ must be adapted to reflect both proximity in time and proximity in price."
   ]
  },
  {
   "cell_type": "markdown",
   "id": "d1fb396b",
   "metadata": {},
   "source": [
    "without aggregation:\n",
    "\n",
    "set of trades  (t, tick, qty)\n",
    "set of updates (t, tick, qty)\n",
    "\n",
    "set of limits  (t, tick, qty) = updates with qty > 0\n",
    "set of markets (t, qty) transported to updates - limits with T\n",
    "set of cancels (t, tick, qty) = updates - limits - T(markets)"
   ]
  }
 ],
 "metadata": {
  "kernelspec": {
   "display_name": "Python 3",
   "language": "python",
   "name": "python3"
  },
  "language_info": {
   "codemirror_mode": {
    "name": "ipython",
    "version": 3
   },
   "file_extension": ".py",
   "mimetype": "text/x-python",
   "name": "python",
   "nbconvert_exporter": "python",
   "pygments_lexer": "ipython3",
   "version": "3.8.8"
  }
 },
 "nbformat": 4,
 "nbformat_minor": 5
}
