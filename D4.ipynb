{
 "cells": [
  {
   "cell_type": "markdown",
   "metadata": {},
   "source": [
    "# <center>Day 4: matching models with nontransferable utility</center>\n",
    "### <center>Alfred Galichon (NYU+ScPo)</center>\n",
    "## <center>'math+econ+code' masterclass on equilibrium transport and matching models in economics</center>\n",
    "<center>© 2020-2021 by Alfred Galichon.  Support from  NSF DMS-1716489 and ERC CoG-866274 EQUIPRICE grants is acknowledged.</center>\n",
    "\n",
    "#### <center>with Python code</center>\n",
    "\n",
    "**If you reuse material from this masterclass, please cite as:**<br>\n",
    "Alfred Galichon, 'math+econ+code' masterclass on equilibrium transport and matching models in economics, June 2021. https://github.com/math-econ-code/mec_equil"
   ]
  },
  {
   "cell_type": "markdown",
   "metadata": {},
   "source": [
    "\n",
    "# References\n",
    "\n",
    "## Textbooks\n",
    "\n",
    "* [RS90] Alvin Roth and Marilda Sotomayor (1990). *Two-sided matching*. Econometric Society Monographs, Cambridge University Press.\n",
    "\n",
    "## Papers\n",
    "\n",
    "* [GS62] David Gale and Lloyd Shapley (1962). \"College Admissions and the Stability of Marriage.\" *American Mathematical Monthly* 69 (1), pp. 9–14.\n",
    "\n",
    "* [A00] Hiroyuki Adachi (2000). \"On a characterization of stable matchings.\" *Economics Letters* 68 pp. 43–49.\n",
    "\n",
    "* [GH19] Alfred Galichon and Yu-Wei Hsieh (2019).\"Aggregate stable matching with money burning.\" SSRN id=2887732. "
   ]
  },
  {
   "cell_type": "markdown",
   "metadata": {},
   "source": [
    "\n",
    "# Setting up the model\n",
    "\n",
    "## Populations\n",
    "\n",
    "* As yesterday we consider a population of workers $x\\in\\mathcal{X}$ and firms $y\\in\\mathcal{Y}$, and assume that $n_x$ is the number of workers of type $x$, while $m_y$ is the number of firms of type $y$.\n",
    "* We shall sometimes assume that there is one individual per type, that is $n_x = 1$ and $m_y = 1$, in which case we shall talk about *invidividual matching,* and sometimes allow for more than one agent per type, a situation we shall refer to as *aggregate matching*. "
   ]
  },
  {
   "cell_type": "markdown",
   "metadata": {},
   "source": [
    "## Preferences\n",
    "\n",
    "* Assume the wages are set. We describe the preferences as follows:<br>\n",
    "    $\\alpha_{xy}$ = valuation of an $xy$ match by $x$<br>\n",
    "    $\\gamma_{xy}$ = valuation of an $xy$ match by $y$<br>\n",
    "    If $x$ and $y$ remain unmatched, they get respective utilities $\\alpha_{x0}$ and $\\gamma_{0y}$.<br>\n",
    "* As before we denote $\\mathcal{X}_0 = \\mathcal{X} \\cup \\{0\\}$ and $\\mathcal{Y}_0 = \\mathcal{Y} \\cup \\{0\\}$.\n",
    "* Assume strict preferences:<br>\n",
    "    $\\alpha_{xy} \\neq \\alpha_{xy^\\prime}$ for $y\\neq y^\\prime$<br>\n",
    "    $\\gamma_{xy} \\neq \\gamma_{x^\\prime y}$ for $x \\neq x^\\prime$.\n",
    "\n",
    "* The preferences are usually described in an ordinal way, by specifying a order relation for each agent on the other side of the market."
   ]
  },
  {
   "cell_type": "markdown",
   "metadata": {},
   "source": [
    "\n",
    "## Representing the model\n",
    "\n",
    "Let's first load the libraries we will need."
   ]
  },
  {
   "cell_type": "code",
   "execution_count": 1,
   "metadata": {},
   "outputs": [],
   "source": [
    "import numpy as np\n",
    "import networkx as nx"
   ]
  },
  {
   "cell_type": "markdown",
   "metadata": {},
   "source": [
    "We create the `NTU_market` class to encompass that information and store it in a convenient way:"
   ]
  },
  {
   "cell_type": "code",
   "execution_count": 2,
   "metadata": {},
   "outputs": [],
   "source": [
    "class NTU_market:\n",
    "    def __init__(self,α_x_y,γ_x_y,n_x = np.array([]), m_y = np.array([])):\n",
    "        nbx = α_x_y.shape[0]\n",
    "        nby = α_x_y.shape[1]\n",
    "        self.α_x_y = np.hstack((α_x_y,np.zeros((nbx,1) )))\n",
    "        self.γ_x_y = np.vstack((γ_x_y,np.zeros( (1,nby) )))\n",
    "        if n_x.size == 0:\n",
    "            n_x = np.ones(nbx)\n",
    "        if m_y.size ==  0:\n",
    "            m_y = np.ones(nby) \n",
    "        self.n_x,self.m_y = n_x, m_y\n",
    "        self.largex,self.largey = nby+1, nbx+1\n",
    "        self.smallx,self.smally = -1, -1\n",
    "        self.nbx,self.nby = nbx, nby\n",
    "        self.αo_x_y = np.zeros((nbx,nby+1), dtype = 'int64') \n",
    "        self.γo_x_y = np.zeros((nbx+1,nby), dtype = 'int64') \n",
    "        self.prefslistα_x_y = np.zeros((nbx,nby+1), dtype = 'int64') \n",
    "        self.prefslistγ_x_y = np.zeros((nbx+1,nby), dtype = 'int64') \n",
    "        self.traceu0_x_t = np.array([])\n",
    "\n",
    "        for x in range(nbx):\n",
    "            thelistx = (- self.α_x_y )[x,:].argsort()\n",
    "            self.αo_x_y[x, thelistx] =  nby  - np.arange(nby+1)\n",
    "            self.prefslistα_x_y[x,:] = (thelistx+1) % (self.nby+1) - 1\n",
    "        for y in range(nby):\n",
    "            thelisty = ( - self.γ_x_y)[:,y].argsort()\n",
    "            self.γo_x_y[thelisty, y] = nbx  - np.arange(nbx+1)\n",
    "            self.prefslistγ_x_y[:,y] = (thelisty+1) % (self.nbx+1) - 1\n",
    "        self.comp_nbsteps = -1\n",
    "        self.comp_time = -1\n",
    "        self.eq_μ_x_y = np.array([])                "
   ]
  },
  {
   "cell_type": "markdown",
   "metadata": {},
   "source": [
    "The following `print_prefs` method prints the ordinal preferences of the agents:"
   ]
  },
  {
   "cell_type": "code",
   "execution_count": 3,
   "metadata": {},
   "outputs": [],
   "source": [
    "def list_prefs(x,xletter,yletter,αo_y):\n",
    "    nby = len(αo_y) - 1\n",
    "    xsprefs = xletter + str(x) +' : ' \n",
    "    for y in range(nby):\n",
    "        ind = np.where(αo_y== (nby - y ))[0][0]\n",
    "        if (ind == nby):\n",
    "            break        \n",
    "        xsprefs = xsprefs + yletter + str( ind ) + ' > '\n",
    "    return(xsprefs[:-3])\n",
    "\n",
    "def print_prefs(self,xs=[],ys=[]):\n",
    "    if xs == [] and ys==[] :\n",
    "        xs = range(self.nbx)\n",
    "        ys = range(self.nby)\n",
    "    if xs != [] :\n",
    "        for x in xs :\n",
    "            print(list_prefs(x,'x','y',self.αo_x_y[x,:]))\n",
    "        \n",
    "    if xs != [] and ys != [] :\n",
    "        print('===')\n",
    "        \n",
    "    if ys != [] :\n",
    "        for y in ys :\n",
    "            print(list_prefs(y,'y','x',self.γo_x_y[:,y]))\n",
    "\n",
    "NTU_market.print_prefs = print_prefs"
   ]
  },
  {
   "cell_type": "markdown",
   "metadata": {},
   "source": [
    "We simulate such a market and print the corresponding preferences:"
   ]
  },
  {
   "cell_type": "code",
   "execution_count": 4,
   "metadata": {},
   "outputs": [
    {
     "name": "stdout",
     "output_type": "stream",
     "text": [
      "x0 : y0 > y1\n",
      "x1 : y0 > y1\n",
      "x2 : y0 > y1\n",
      "===\n",
      "y0 : x1 > x2\n",
      "y1 : x1 > x2 > x0\n"
     ]
    }
   ],
   "source": [
    "np.random.seed(seed=1000)\n",
    "running_mkt = NTU_market(np.random.rand(3,2)-0.1,np.random.rand(3,2)-0.2)\n",
    "running_mkt.print_prefs()"
   ]
  },
  {
   "cell_type": "markdown",
   "metadata": {},
   "source": [
    "The following example is taken from [RS90], example 2.17"
   ]
  },
  {
   "cell_type": "code",
   "execution_count": 5,
   "metadata": {},
   "outputs": [
    {
     "name": "stdout",
     "output_type": "stream",
     "text": [
      "x0 : y3 > y2 > y1 > y0\n",
      "x1 : y2 > y3 > y0 > y1\n",
      "x2 : y1 > y0 > y3 > y2\n",
      "x3 : y0 > y1 > y2 > y3\n",
      "===\n",
      "y0 : x0 > x1 > x2 > x3\n",
      "y1 : x1 > x0 > x3 > x2\n",
      "y2 : x2 > x3 > x0 > x1\n",
      "y3 : x3 > x2 > x1 > x0\n"
     ]
    }
   ],
   "source": [
    "# example 2.17 in [RS90]\n",
    "α_x_y = np.array([[0,1,2,3],[1,0,3,2],[2,3,0,1],[3,2,1,0]])\n",
    "γ_x_y = np.array([[3,2,1,0],[2,3,0,1],[1,0,3,2],[0,1,2,3]])\n",
    "rs_ex_2_17 =  NTU_market(α_x_y,γ_x_y)\n",
    "rs_ex_2_17.print_prefs()"
   ]
  },
  {
   "cell_type": "markdown",
   "metadata": {},
   "source": [
    "# Stable matchings\n",
    "\n",
    "We shall see two notions of stable matchings with non-transferable utility (NTU):<br> \n",
    "* First, the historical notion (due to Gale and Shapley) of *Gale-Shapley NTU stable matchings*. \n",
    "* Next, a related notion of stability that will fit into the framework we saw yesteray, which we shall call *aggregate NTU stable matchings*, following Galichon and Hsieh (2019)."
   ]
  },
  {
   "cell_type": "markdown",
   "metadata": {},
   "source": [
    "## Stability in the Gale-Shapley sense\n",
    "\n",
    "**Assume that there is one individual per type:**<br>\n",
    "$n_x = 1$ and $m_y = 1$ for all $x\\in\\mathcal{X}$ and $y\\in\\mathcal{Y}$.<br>\n",
    "\n",
    "As before, $\\mu_{xy}\\in\\{0,1\\}$ will be a dummy variable equal to 1 iff $x$ is matched with $y$,<br>\n",
    "    and $u_x$ and $v_y$ are the payoffs of worker $x$ and firm $y$ at equilibrium.\n",
    "\n",
    "**Definition.** $(\\mu,u,v)$ is a stable outcome in the Gale-Shapley sense if:\n",
    "\n",
    "(i) Population constraints are satisfied<br>\n",
    "$\\left\\{\n",
    "\\begin{array}[l]\n",
    "~\\sum_{y} \\mu_{xy} + \\mu_{x0} = n_{x}=1 \\\\\n",
    "\\sum_{x}\\mu_{xy} + \\mu_{0y} = m_{y}=1\n",
    "\\end{array}\n",
    "\\right.$<br>\n",
    "    \n",
    "(ii) There is no blocking pair and all individuals are rational:<br>\n",
    "$ \\max \\{ u_x - \\alpha_{xy},v_y - \\gamma_{xy} \\} \\geq 0$, and<br>\n",
    "$u_x \\geq 0$ and $v_y \\geq 0$\n",
    "\n",
    " \n",
    "(iii) Strong complementarity:<br>\n",
    "$\\mu_{xy}>0$ implies $u_x = \\alpha_{xy}$ and $v_y = \\gamma_{xy}$<br>\n",
    "$\\mu_{x0}>0$ implies $u_x = 0$<br>\n",
    "$\\mu_{0y}>0$ implies $v_y = 0$"
   ]
  },
  {
   "cell_type": "markdown",
   "metadata": {},
   "source": [
    "### Remark\n",
    "\n",
    "* In the Gale-Shapley definition:<br>\n",
    "$\\mu_{xy}>0$ implies $u_x = \\alpha_{xy}$ and $v_y = \\gamma_{xy}$<br>\n",
    "\n",
    "* This is stronger than assuming<br>\n",
    "$\\mu_{xy}>0$ implies $\\max \\{ u_x - \\alpha_{xy},v_y - \\gamma_{xy} \\} \\geq 0$<br>\n",
    "Indeed, in the latter case, $(u_x,v_y)$ needs to be on the NTU frontier but doesn't have to be the efficient point $(\\alpha_{xy},\\gamma_{xy})$ as required in Gale-Shapley.\n",
    "\n",
    "* Galichon-Hsieh impose the latter condition as the definition of stability, which is weaker than Gale-Shapley. We shall see later why it may make sense not to impose the outcome to be Pareto efficient. \n"
   ]
  },
  {
   "cell_type": "markdown",
   "metadata": {},
   "source": [
    "The following function detects stable matchings."
   ]
  },
  {
   "cell_type": "code",
   "execution_count": 6,
   "metadata": {},
   "outputs": [],
   "source": [
    "def is_stable(self, μ_x_y = None, output=0 ):\n",
    "    if (μ_x_y is None):\n",
    "        μ_x_y = self.eq_μ_x_y\n",
    "    μext_x_y0 = np.hstack([μ_x_y, 1-np.sum(μ_x_y,axis = 1).reshape(-1,1) ])\n",
    "    μext_x0_y = np.vstack([μ_x_y, 1-np.sum(μ_x_y,axis = 0).reshape(1,-1) ])\n",
    "    if (np.logical_and(μext_x_y0 != 0  , μext_x_y0 != 1 )).any() or (np.logical_and(μext_x0_y != 0  , μext_x0_y != 1 )).any():\n",
    "        if output > 0 :\n",
    "            print('The μ is not feasible.')\n",
    "        return(False)\n",
    "    uo_x = np.sum(μext_x_y0 * self.αo_x_y, axis = 1)\n",
    "    vo_y = np.sum(μext_x0_y * self.γo_x_y, axis = 0)\n",
    "    for x in range(self.nbx):\n",
    "        for y in range(self.nby):\n",
    "            if (self.αo_x_y[x,y] > uo_x[x]) and (self.γo_x_y[x,y] > vo_y[y]):\n",
    "                if output > 0 :\n",
    "                    print('The matching is not stable. One blocking pair is: x'+str(x)+',y'+str(y)+'.')\n",
    "                return(False)\n",
    "    # end for x and y\n",
    "    if output > 0 :\n",
    "        print('The matching is stable.')\n",
    "    return (True)\n",
    "\n",
    "NTU_market.is_stable = is_stable"
   ]
  },
  {
   "cell_type": "markdown",
   "metadata": {},
   "source": [
    "Let's go back to example 2.17 in [RS90], and let's check the stability of the following matching: "
   ]
  },
  {
   "cell_type": "code",
   "execution_count": 7,
   "metadata": {},
   "outputs": [
    {
     "name": "stdout",
     "output_type": "stream",
     "text": [
      "The matching is not stable. One blocking pair is: x1,y3.\n"
     ]
    },
    {
     "data": {
      "text/plain": [
       "False"
      ]
     },
     "execution_count": 7,
     "metadata": {},
     "output_type": "execute_result"
    }
   ],
   "source": [
    "μ_x_y = np.array([[0,0,0,1],[1,0,0,0],[0,1,0,0],[0,0,1,0]])\n",
    "rs_ex_2_17.is_stable(μ_x_y,output=1)"
   ]
  },
  {
   "cell_type": "code",
   "execution_count": 8,
   "metadata": {},
   "outputs": [
    {
     "data": {
      "text/plain": [
       "array([[ 0,  1,  2],\n",
       "       [-1, -1,  5]])"
      ]
     },
     "execution_count": 8,
     "metadata": {},
     "output_type": "execute_result"
    }
   ],
   "source": [
    "tst = np.array([[0,1,2],[3,4,5]])\n",
    "tst[1,range(2)]=-1\n",
    "tst"
   ]
  },
  {
   "cell_type": "code",
   "execution_count": 9,
   "metadata": {},
   "outputs": [
    {
     "data": {
      "text/plain": [
       "array([[ 0,  1,  2],\n",
       "       [-1, -1,  5]])"
      ]
     },
     "execution_count": 9,
     "metadata": {},
     "output_type": "execute_result"
    }
   ],
   "source": [
    "tst = np.array([[0,1,2],[3,4,5]])\n",
    "tst[1,0:2]=-1\n",
    "tst"
   ]
  },
  {
   "cell_type": "markdown",
   "metadata": {},
   "source": [
    "Let's try again with the following alternative matching:"
   ]
  },
  {
   "cell_type": "code",
   "execution_count": 10,
   "metadata": {},
   "outputs": [
    {
     "name": "stdout",
     "output_type": "stream",
     "text": [
      "The matching is stable.\n"
     ]
    },
    {
     "data": {
      "text/plain": [
       "True"
      ]
     },
     "execution_count": 10,
     "metadata": {},
     "output_type": "execute_result"
    }
   ],
   "source": [
    "μ_x_y = np.array([[1,0,0,0],[0,1,0,0],[0,0,1,0],[0,0,0,1]])\n",
    "rs_ex_2_17.is_stable(μ_x_y,output=1)"
   ]
  },
  {
   "cell_type": "markdown",
   "metadata": {},
   "source": [
    "## Deferred acceptance: Gale and Shapley's algorithm\n",
    "\n",
    "\n",
    "The reference for this section is [GS62].\n",
    "\n",
    "**Principle:** Workers make offers to firms that have not rejected them yet. Define:\n",
    "\n",
    "* $A^{t} \\subseteq \\mathcal{X} \\times \\mathcal{Y} =$set of available firms to worker at\n",
    "time $t$\n",
    "\n",
    "* $P^{t} \\subseteq \\mathcal{X} \\times \\mathcal{Y} =$set of proposals made by workers at\n",
    "time $t$ \n",
    "\n",
    "* $E^{t}\\subseteq \\mathcal{X} \\times \\mathcal{Y} =$set of proposals kept by firms at the\n",
    "end of round $t$ \n",
    "\n",
    "For  $B \\subseteq \\mathcal{X} \\times \\mathcal{Y}$, we introduce the following notations:\n",
    "\n",
    "* for $x \\in \\mathcal{X}$, denote $B(x)$ the set of $y \\in \\mathcal{Y}$ such that $xy \\in B$.\n",
    "\n",
    "* for $y \\in \\mathcal{Y}$, denote $B(y)$ the set of $x \\in \\mathcal{X}$ such that $xy \\in B$.\n",
    "\n",
    "\n",
    "**Deferred acceptance algorithm of Gale and Shapley.** \n",
    "\n",
    "At time $t=0$, all firms are avaiable to anyone $A^{0} =\\mathcal{X} \\times \\mathcal{Y}$.\n",
    "\n",
    "Iterate over $t$:\n",
    "\n",
    "$\n",
    "\\left\\{\n",
    "\\begin{array}{l}\n",
    "P^{t}=\\left\\{ xy\\in \\mathcal{X}\\times \\mathcal{Y}:y\\in \\arg \\max_{y\\in\n",
    "A^{t}\\left( x\\right) \\cup \\left\\{ 0\\right\\} }\\left\\{ \\alpha _{xy}\\right\\}\n",
    "\\right\\} \\\\\n",
    "E^{t}=\\left\\{ xy\\in \\mathcal{X}\\times \\mathcal{Y}:x\\in \\arg \\max_{x\\in\n",
    "P^{t}\\left( y\\right) \\cup \\left\\{ 0\\right\\} }\\left\\{ \\gamma _{xy}\\right\\}\n",
    "\\right\\} \\\\\n",
    "A^{t+1} =A^{t} \\backslash \\left\\{ P^{t} \\backslash  E^{t} \\right\\} \n",
    "\\end{array}\n",
    "\\right.\n",
    "$\n",
    "\n",
    "\n",
    "\n",
    "Repeat until $P^{t} =E^{t} $, i.e. no offer is rejected."
   ]
  },
  {
   "cell_type": "markdown",
   "metadata": {},
   "source": [
    "Let's implement as follows:"
   ]
  },
  {
   "cell_type": "code",
   "execution_count": 11,
   "metadata": {},
   "outputs": [],
   "source": [
    "def solveGaleShapley(self,output=0, trace=False):\n",
    "    if (output>=2):\n",
    "        print(\"Offers made and kept are denoted +1; offers made and rejected are denoted -1.\")\n",
    "    self.comp_nbsteps = 0\n",
    "    tracemax = self.nbx*self.nby\n",
    "    if trace:\n",
    "        self.traceu0_x_t = np.zeros((tracemax,self.nbx))    \n",
    "    μA_x_y = np.ones((self.nbx+1, self.nby+1), dtype = 'int64') # initially all offers are non rejected\n",
    "    while True :\n",
    "        μP_x_y = np.zeros((self.nbx+1, self.nby+1), dtype = 'int64')\n",
    "        props_x = np.ma.masked_array(self.αo_x_y, μA_x_y[0:-1,:] ==0).argmax(axis = 1) # x's makes an offer to their favorite y\n",
    "        μP_x_y[range(self.nbx),props_x] = 1 \n",
    "        μP_x_y[self.nbx,0:self.nby] = 1\n",
    "        \n",
    "        \n",
    "        μE_x_y = np.zeros((self.nbx+1, self.nby+1), dtype = 'int64') # y's retains their favorite offer among those made:\n",
    "        rets_y = np.ma.masked_array(self.γo_x_y, μP_x_y[:,0:-1] ==0).argmax(axis = 0)\n",
    "        μE_x_y[rets_y,range(self.nby)] = 1\n",
    "\n",
    "        rej_x_y = μP_x_y - μE_x_y # compute rejected offers\n",
    "        rej_x_y[self.nbx,:] = 0\n",
    "        rej_x_y[:,self.nby] = 0\n",
    "        \n",
    "\n",
    "        μA_x_y = μA_x_y - rej_x_y  # offers from x that have been rejected are no longer available to x\n",
    "        if output >= 2:\n",
    "            print(\"Round \"+str(self.comp_nbsteps)+\":\\n\" , ( (2*μE_x_y-1) * μP_x_y)[0:-1,0:-1])\n",
    "        if trace and self.comp_nbsteps<tracemax:\n",
    "            for x in range(self.nbx):\n",
    "                self.traceu0_x_t[self.comp_nbsteps,x] = np.sum(self.αo_x_y [x,:] * μP_x_y[x,:])\n",
    "        self.comp_nbsteps +=1\n",
    "        self.eq_μ_x_y = μE_x_y[0:-1,0:-1]\n",
    "        if np.max(np.abs(rej_x_y)) == 0: \n",
    "            if trace:\n",
    "                self.traceu0_x_t = self.traceu0_x_t[0:min(self.comp_nbsteps,tracemax),:]\n",
    "            break # if all offers have been accepted, then algorithm stops\n",
    "    return (0)\n",
    "\n",
    "NTU_market.solveGaleShapley = solveGaleShapley \n"
   ]
  },
  {
   "cell_type": "markdown",
   "metadata": {},
   "source": [
    "Test on our example:"
   ]
  },
  {
   "cell_type": "code",
   "execution_count": 12,
   "metadata": {
    "scrolled": true
   },
   "outputs": [
    {
     "name": "stdout",
     "output_type": "stream",
     "text": [
      "Offers made and kept are denoted +1; offers made and rejected are denoted -1.\n",
      "Round 0:\n",
      " [[-1  0]\n",
      " [ 1  0]\n",
      " [-1  0]]\n",
      "Round 1:\n",
      " [[ 0 -1]\n",
      " [ 1  0]\n",
      " [ 0  1]]\n",
      "Round 2:\n",
      " [[0 0]\n",
      " [1 0]\n",
      " [0 1]]\n"
     ]
    },
    {
     "data": {
      "text/plain": [
       "True"
      ]
     },
     "execution_count": 12,
     "metadata": {},
     "output_type": "execute_result"
    }
   ],
   "source": [
    "running_mkt.solveGaleShapley(output=2,trace=True)\n",
    "running_mkt.is_stable()"
   ]
  },
  {
   "cell_type": "markdown",
   "metadata": {},
   "source": [
    "We investigate a bit more systematically:"
   ]
  },
  {
   "cell_type": "code",
   "execution_count": 13,
   "metadata": {},
   "outputs": [
    {
     "name": "stdout",
     "output_type": "stream",
     "text": [
      "Stable = True; nb of steps = 71\n",
      "Stable = True; nb of steps = 73\n",
      "Stable = True; nb of steps = 83\n",
      "Stable = True; nb of steps = 83\n",
      "Stable = True; nb of steps = 93\n",
      "Stable = True; nb of steps = 96\n",
      "Stable = True; nb of steps = 78\n",
      "Stable = True; nb of steps = 63\n",
      "Stable = True; nb of steps = 69\n",
      "Stable = True; nb of steps = 105\n"
     ]
    }
   ],
   "source": [
    "np.random.seed(seed=77)\n",
    "nbx,nby=50,35\n",
    "for i in range(10):\n",
    "    tstmkt = NTU_market(np.random.rand(nbx,nby)-0.3,np.random.rand(nbx,nby)-0.2)\n",
    "    tstmkt.solveGaleShapley()\n",
    "    print('Stable = '+str(tstmkt.is_stable())+'; nb of steps = '+str(tstmkt.comp_nbsteps))\n"
   ]
  },
  {
   "cell_type": "markdown",
   "metadata": {},
   "source": [
    "## Deferred acceptance revisited: Adachi's algorithm\n",
    "\n",
    "The reference for this section is [A00].\n",
    "\n",
    "**Adachi's algorithm.**\n",
    "\n",
    "Set initially $v^0_y$: say $v^0_y < \\min_{x\\in \\mathcal{X}_0} \\left\\{ \\gamma_{xy} \\right\\}$.\n",
    "\n",
    "Iterate over t:\n",
    "\n",
    "$\\left\\{ \n",
    "\\begin{array}{l}\n",
    "u_{x}^{t+1}=\\max \\left\\{ \\max_{y\\in \\mathcal{Y}}\\left\\{ \\alpha _{xy}:\\gamma\n",
    "_{xy}\\geq v_{y}^{t}\\right\\} ,\\alpha _{x0}\\right\\}  \\\\ \n",
    "v_{y}^{t+1}=\\max \\left\\{ \\max_{x\\in \\mathcal{X}}\\left\\{ \\gamma _{xy}:\\alpha\n",
    "_{xy}\\geq u_{x}^{t+1}\\right\\} ,\\gamma _{0y}\\right\\}\n",
    "\\end{array}\n",
    "\\right. $\n",
    "\n",
    "until $u^{t+1} = u^{t}$. "
   ]
  },
  {
   "cell_type": "markdown",
   "metadata": {},
   "source": [
    "We now implement Adachi's algorithm. It will be based on a pair of functions `u_from_v` and `v_from_u` which implement the maximization problem above, namely:<br>\n",
    "$\\max \\left\\{ \\max_{y\\in \\mathcal{Y}}\\left\\{ \\alpha _{xy}:\\gamma_{xy}\\geq v_{y}\\right\\} ,\\alpha _{x0}\\right\\}$, and<br>\n",
    "$\\max \\left\\{ \\max_{x\\in \\mathcal{X}}\\left\\{ \\gamma _{xy}:\\alpha\n",
    "_{xy}\\geq u_{x}\\right\\} ,\\gamma _{0y}\\right\\}$.\n"
   ]
  },
  {
   "cell_type": "code",
   "execution_count": 14,
   "metadata": {},
   "outputs": [],
   "source": [
    "def u_from_v(self,vo_y):\n",
    "    excluded = np.hstack([(self.γo_x_y < vo_y)[0:-1,:],np.zeros((self.nbx,1))])\n",
    "    return(np.ma.masked_array(self.αo_x_y,  excluded ).max(axis = 1).data)\n",
    "\n",
    "NTU_market.u_from_v = u_from_v\n",
    "\n",
    "def  v_from_u(self,uo_x):\n",
    "    excluded = np.vstack([(self.αo_x_y < uo_x.reshape((-1,1)))[:,0:-1],np.zeros((1,self.nby))])\n",
    "    return(np.ma.masked_array(self.γo_x_y,  excluded ).max(axis = 0).data)\n",
    "\n",
    "NTU_market.v_from_u = v_from_u\n",
    "\n",
    "def μ_from_u(self, uo_x):\n",
    "    return np.where( (self.αo_x_y == uo_x.reshape((-1,1))) , 1 , 0 )[:,0:-1]\n",
    "\n",
    "NTU_market.μ_from_u = μ_from_u\n",
    "\n",
    "def μ_from_v(self, vo_y):\n",
    "    return np.where( self.γo_x_y == vo_y , 1 , 0 )[0:-1,:]\n",
    "\n",
    "NTU_market.μ_from_v = μ_from_v\n"
   ]
  },
  {
   "cell_type": "markdown",
   "metadata": {},
   "source": [
    "Adachi's algorithm iterates the loop above:"
   ]
  },
  {
   "cell_type": "code",
   "execution_count": 15,
   "metadata": {},
   "outputs": [],
   "source": [
    "def solveAdachi(self,output=0,trace=False, startu_x = None, startv_y = None ):\n",
    "    self.comp_nbsteps = 0\n",
    "    tracemax = self.nbx*self.nby\n",
    "    if trace:\n",
    "        self.traceu0_x_t = np.zeros((tracemax,self.nbx))    \n",
    "    if startu_x is None:\n",
    "        uo_x = self.largex * np.ones(self.nbx, dtype = 'int64') # x's utilities are highest\n",
    "    else:\n",
    "        uo_x = startu_x\n",
    "    if startv_y is None:\n",
    "        vo_y = self.smally * np.ones(self.nby, dtype = 'int64') # y's utilities are lowest\n",
    "    else:\n",
    "        vo_y = startv_y\n",
    "    while True :\n",
    "        uonew_x = self.u_from_v(vo_y) # each x proposes to favorite y among those willing to consider them\n",
    "        if (uonew_x == uo_x).all() :\n",
    "            if trace:\n",
    "                self.traceu0_x_t = self.traceu0_x_t[0:min(self.comp_nbsteps,tracemax),:]\n",
    "            break\n",
    "        uo_x = uonew_x      \n",
    "        vo_y = self.v_from_u(uo_x) # each y proposes to favorite x among those willing to consider them\n",
    "        if output >= 2:\n",
    "            μP_x_y = self.μ_from_u(uo_x)\n",
    "            μE_x_y = self.μ_from_v(vo_y)\n",
    "            print(\"Round \"+str(self.comp_nbsteps)+\":\\n\",\"μ_P=\\n\" ,μP_x_y,\"\\n μ_E=\\n\", μE_x_y)\n",
    "        if trace and self.comp_nbsteps<tracemax:\n",
    "            self.traceu0_x_t[self.comp_nbsteps,:] = uo_x\n",
    "        self.comp_nbsteps += 1\n",
    "    self.eq_μ_x_y = self.μ_from_v(vo_y)\n",
    "    return(0)\n",
    "\n",
    "NTU_market.solveAdachi = solveAdachi "
   ]
  },
  {
   "cell_type": "markdown",
   "metadata": {},
   "source": [
    "We try it on `running_mkt`:"
   ]
  },
  {
   "cell_type": "code",
   "execution_count": 16,
   "metadata": {},
   "outputs": [
    {
     "data": {
      "text/plain": [
       "True"
      ]
     },
     "execution_count": 16,
     "metadata": {},
     "output_type": "execute_result"
    }
   ],
   "source": [
    "running_mkt.solveAdachi()\n",
    "running_mkt.is_stable()"
   ]
  },
  {
   "cell_type": "markdown",
   "metadata": {},
   "source": [
    "Next, we investigate a bit more Adachi's algorithm similarly to what we did above with Gale and Shapley's algorithm, and in comparison with the latter:"
   ]
  },
  {
   "cell_type": "code",
   "execution_count": 17,
   "metadata": {},
   "outputs": [
    {
     "name": "stdout",
     "output_type": "stream",
     "text": [
      "Times: Gale-Shapley; Adachi\n",
      "GS steps = 71\t; A steps = 10\n",
      "GS steps = 73\t; A steps = 12\n",
      "GS steps = 83\t; A steps = 10\n",
      "GS steps = 83\t; A steps = 10\n",
      "GS steps = 93\t; A steps = 12\n",
      "GS steps = 96\t; A steps = 13\n",
      "GS steps = 78\t; A steps = 11\n",
      "GS steps = 63\t; A steps = 10\n",
      "GS steps = 69\t; A steps = 11\n",
      "GS steps = 105\t; A steps = 14\n",
      "All matching outcomes from Gale-Shapley and Adachi are stable and coincide.\n"
     ]
    }
   ],
   "source": [
    "print(\"Times: Gale-Shapley; Adachi\")\n",
    "\n",
    "np.random.seed(seed=77)\n",
    "nbx,nby=50,35\n",
    "for i in range(10):\n",
    "    tstmkt = NTU_market(np.random.rand(nbx,nby)-0.3,np.random.rand(nbx,nby)-0.2)\n",
    "    res=tstmkt.solveGaleShapley()\n",
    "    if not tstmkt.is_stable() :\n",
    "        raise Exception('Output of Gale Shapley is not stable')\n",
    "    i1 = tstmkt.comp_nbsteps\n",
    "    t1 = tstmkt.comp_time\n",
    "    mu1 = tstmkt.eq_μ_x_y\n",
    "    res=tstmkt.solveAdachi()\n",
    "    i2 = tstmkt.comp_nbsteps\n",
    "    t2 = tstmkt.comp_time\n",
    "    mu2 = tstmkt.eq_μ_x_y\n",
    "    if not tstmkt.is_stable() :\n",
    "        raise Exception('Output of Adachi is not stable')\n",
    "    if  np.max(np.abs(mu1 - mu2)) != 0:\n",
    "        raise Exception(seed,': results differ.')\n",
    "    print(\"GS steps = \"+ str(i1)+\"\\t; A steps = \"+str(i2))\n",
    "print('All matching outcomes from Gale-Shapley and Adachi are stable and coincide.')\n"
   ]
  },
  {
   "cell_type": "markdown",
   "metadata": {},
   "source": [
    "# Testing an alternative representation of Adachi"
   ]
  },
  {
   "cell_type": "markdown",
   "metadata": {},
   "source": [
    "In this section, we show experimentally that Adachi's algorithm can equivalently be expressed by the following formulation:\n",
    "\n",
    "**Adachi Bis algorithm.**\n",
    "\n",
    "Set initially $v^0_y$: say $v^0_y < \\min_{x\\in \\mathcal{X}_0} \\left\\{ \\gamma_{xy} \\right\\}$.\n",
    "\n",
    "Iterate over t:\n",
    "\n",
    "$\\left\\{ \n",
    "\\begin{array}{l}\n",
    "u_{x}^{t+1}=\\max \\left\\{ \\max_{y\\in \\mathcal{Y}}\\left\\{ \\alpha _{xy}:\\gamma\n",
    "_{xy}\\geq v_{y}^{t}\\right\\} ,\\alpha _{x0}\\right\\}  \\\\ \n",
    "v_{y}^{t+1}=\\max \\left\\{ \\max_{x\\in \\mathcal{X}}\\left\\{ \\gamma _{xy}:\\alpha\n",
    "_{xy}= u_{x}^{t+1}\\right\\} ,\\gamma _{0y}\\right\\}\n",
    "\\end{array}\n",
    "\\right. $\n",
    "\n",
    "until $u^{t+1} = u^{t}$. "
   ]
  },
  {
   "cell_type": "code",
   "execution_count": 18,
   "metadata": {},
   "outputs": [],
   "source": [
    "def  v_from_u_bis(self,uo_x):\n",
    "    excluded = np.vstack([(self.αo_x_y != uo_x.reshape((-1,1)))[:,0:-1],np.zeros((1,self.nby))])\n",
    "    return(np.ma.masked_array(self.γo_x_y,  excluded ).max(axis = 0).data)\n",
    "\n",
    "NTU_market.v_from_u_bis = v_from_u_bis"
   ]
  },
  {
   "cell_type": "code",
   "execution_count": 19,
   "metadata": {},
   "outputs": [],
   "source": [
    "def solveAdachiBis(self,output=0,trace=False):\n",
    "    self.comp_nbsteps = 0\n",
    "    tracemax = self.nbx*self.nby\n",
    "    if trace:\n",
    "        self.traceu0_x_t = np.zeros((tracemax,self.nbx))    \n",
    "    uo_x = self.largex * np.ones(self.nbx, dtype = 'int64') # x's utilities are highest\n",
    "    vo_y = self.smally * np.ones(self.nby, dtype = 'int64') # y's utilities are lowest\n",
    "    while True :\n",
    "        uonew_x = self.u_from_v(vo_y) # each x proposes to favorite y among those willing to consider them\n",
    "        if (uonew_x == uo_x).all() :\n",
    "            if trace:\n",
    "                self.traceu0_x_t = self.traceu0_x_t[0:min(self.comp_nbsteps,tracemax),:]\n",
    "            break\n",
    "        uo_x = uonew_x      \n",
    "        vo_y = self.v_from_u_bis(uo_x) # each y proposes to favorite x among those willing to consider them\n",
    "        if trace and self.comp_nbsteps<tracemax:\n",
    "            self.traceu0_x_t[self.comp_nbsteps,:] = uo_x\n",
    "        self.comp_nbsteps += 1\n",
    "    self.eq_μ_x_y = self.μ_from_v(vo_y)\n",
    "    return(0)\n",
    "\n",
    "NTU_market.solveAdachiBis = solveAdachiBis "
   ]
  },
  {
   "cell_type": "code",
   "execution_count": 20,
   "metadata": {},
   "outputs": [
    {
     "name": "stdout",
     "output_type": "stream",
     "text": [
      "Discrepancy between Adachi and Adachi Bis= 0.0\n",
      "Discrepancy between Adachi and Adachi Bis= 0.0\n",
      "Discrepancy between Adachi and Adachi Bis= 0.0\n",
      "Discrepancy between Adachi and Adachi Bis= 0.0\n",
      "Discrepancy between Adachi and Adachi Bis= 0.0\n",
      "Discrepancy between Adachi and Adachi Bis= 0.0\n",
      "Discrepancy between Adachi and Adachi Bis= 0.0\n",
      "Discrepancy between Adachi and Adachi Bis= 0.0\n",
      "Discrepancy between Adachi and Adachi Bis= 0.0\n",
      "Discrepancy between Adachi and Adachi Bis= 0.0\n"
     ]
    }
   ],
   "source": [
    "np.random.seed(seed=77)\n",
    "nbx,nby=50,35\n",
    "for i in range(10):\n",
    "    mkt_tst = NTU_market(np.random.rand(4,3)-0.2,np.random.rand(4,3)-0.3)\n",
    "    mkt_tst.solveAdachi(trace =True)\n",
    "    t1  = mkt_tst.traceu0_x_t\n",
    "    mkt_tst.solveAdachiBis(trace=True)\n",
    "    t2 = mkt_tst.traceu0_x_t\n",
    "    print(\"Discrepancy between Adachi and Adachi Bis=\", np.max(np.abs(t2-t1)))"
   ]
  },
  {
   "cell_type": "markdown",
   "metadata": {},
   "source": [
    "## Reformulating Adachi and Gale-Shapley coordinate updates algorithm\n",
    "\n",
    "As usual, change the sign of $u_{x}$ take $p=\\left( u,-v\\right) $ \n",
    "and define<br>\n",
    "$\\left\\{ \n",
    "\\begin{array}{l}\n",
    "Q_{x}\\left( p\\right) =p_{x}-\\max_{y\\in \\mathcal{Y}}\\left\\{ \\alpha\n",
    "_{xy}:p_{y}\\geq -\\gamma _{xy},0\\right\\} ,x\\in \\mathcal{X} \\\\ \n",
    "Q_{y}\\left( p\\right) =p_{y}-\\min_{x\\in \\mathcal{X}}\\left\\{ -\\gamma\n",
    "_{xy}:\\alpha _{xy}\\geq p_{x},0\\right\\} ,y\\in \\mathcal{Y}%\n",
    "\\end{array}%\n",
    "\\right.$"
   ]
  },
  {
   "cell_type": "code",
   "execution_count": 21,
   "metadata": {},
   "outputs": [],
   "source": [
    "def Q_z(self,p_z):\n",
    "    uo_x = p_z[0:self.nbx]\n",
    "    vo_y = - p_z[self.nbx:(self.nbx+self.nby)]\n",
    "    uonew_x = self.u_from_v(vo_y)\n",
    "    vonew_y = self.v_from_u(uo_x)\n",
    "    return(np.append(uo_x - uonew_x,vonew_y - vo_y))\n",
    "\n",
    "NTU_market.Q_z = Q_z    "
   ]
  },
  {
   "cell_type": "markdown",
   "metadata": {},
   "source": [
    "## Adachi as Gauss-Seidel\n",
    "\n",
    "Start by $p_{x}^{0}=\\max_{y\\in \\mathcal{Y}_{0}}\\left\\{ \\alpha _{xy}\\right\\} $\n",
    "and $p_{y}^{0}=\\max_{x\\in \\mathcal{X}_{0}}\\left\\{ -\\gamma _{xy}\\right\\} $,\n",
    "which are such that $e\\left( p\\right) \\geq 0$.\n",
    "\n",
    "Adachi reinteprets as a blockwise Gauss-Seidel algorithm<br>\n",
    "$\\left\\{ \n",
    "\\begin{array}{l}\n",
    "p_{x}^{t+1}:Q_{x}\\left( p_{x}^{t+1},\\left( p_{y}^{t}\\right) _{y}\\right) =0,\n",
    "\\\\ \n",
    "p_{y}^{t+1}:Q_{y}\\left( p_{y}^{t+1},\\left( p_{x}^{t+1}\\right) _{x}\\right) =0.%\n",
    "\\end{array}%\n",
    "\\right.$"
   ]
  },
  {
   "cell_type": "code",
   "execution_count": 22,
   "metadata": {},
   "outputs": [],
   "source": [
    "def cux_z(self,p_z):\n",
    "    uo_x = p_z[0:self.nbx]\n",
    "    vo_y = - p_z[self.nbx:(self.nbx+self.nby)]\n",
    "    uonew_x = self.u_from_v(vo_y)\n",
    "    return (np.append(uonew_x , - vo_y))\n",
    "        \n",
    "NTU_market.cux_z = cux_z\n",
    "\n",
    "\n",
    "def cuy_z(self,p_z):\n",
    "    uo_x = p_z[0:self.nbx]\n",
    "    vo_y = - p_z[self.nbx:(self.nbx+self.nby)]\n",
    "    excluded = np.vstack([(self.αo_x_y < np.repeat([uo_x],self.nby+1,axis = 1).reshape((self.nbx,-1)))[:,0:-1],np.repeat(False,self.nby).reshape((-1,self.nby))])\n",
    "    vonew_y = self.v_from_u(uo_x)\n",
    "    return( np.append(uo_x, - vonew_y ) )\n",
    "\n",
    "NTU_market.cuy_z = cuy_z"
   ]
  },
  {
   "cell_type": "code",
   "execution_count": 23,
   "metadata": {},
   "outputs": [],
   "source": [
    "def solveCU(self,output=0,trace=False):\n",
    "    self.comp_nbsteps = 0\n",
    "    tracemax = self.nbx*self.nby\n",
    "    if trace:\n",
    "        self.traceu0_x_t = np.zeros((tracemax,self.nbx))    \n",
    "    p_z = np.append(self.largex * np.ones(self.nbx), - self.smally * np.ones(self.nby) )\n",
    "    while True :\n",
    "        pnew_z = self.cux_z(p_z) \n",
    "        pnew_z = self.cuy_z(pnew_z)\n",
    "        if (pnew_z == p_z).all() :\n",
    "            if trace:\n",
    "                self.traceu0_x_t = self.traceu0_x_t[0:min(self.comp_nbsteps,tracemax),:]\n",
    "            break\n",
    "        p_z = pnew_z      \n",
    "        if trace and self.comp_nbsteps<tracemax:\n",
    "            self.traceu0_x_t[self.comp_nbsteps,:] = p_z[0:self.nbx]\n",
    "        self.comp_nbsteps += 1\n",
    "    self.eq_μ_x_y = self.μ_from_v(- p_z[self.nbx:(self.nbx+self.nby)])\n",
    "    return(0)\n",
    "\n",
    "NTU_market.solveCU = solveCU"
   ]
  },
  {
   "cell_type": "markdown",
   "metadata": {},
   "source": [
    "We test numerically that Adachi and Gauss-Seidel coincide:"
   ]
  },
  {
   "cell_type": "code",
   "execution_count": 24,
   "metadata": {},
   "outputs": [
    {
     "name": "stdout",
     "output_type": "stream",
     "text": [
      "Discrepancy between Adachi and Gauss-Seidel= 0.0\n"
     ]
    }
   ],
   "source": [
    "np.random.seed(1000)\n",
    "\n",
    "mkt_tst = NTU_market(np.random.rand(80,120)-0.2,np.random.rand(80,120)-0.3)\n",
    "\n",
    "mkt_tst.solveAdachi(trace =True)\n",
    "t1  = mkt_tst.traceu0_x_t\n",
    "\n",
    "mkt_tst.solveCU(trace=True)\n",
    "t2 = mkt_tst.traceu0_x_t\n",
    "\n",
    "print(\"Discrepancy between Adachi and Gauss-Seidel=\", np.max(t2-t1))\n"
   ]
  },
  {
   "cell_type": "markdown",
   "metadata": {},
   "source": [
    "## Gale-Shapley as damped Gauss-Seidel\n",
    "\n",
    "Gale and Shapley interpets as<br>\n",
    "$\\left\\{ \n",
    "\\begin{array}{l}\n",
    "p_{x}^{t+1}=decr_{x}\\left( p_{x}^{t}\\right) \\text{ if }Q_{x}\\left(\n",
    "p_{x}^{t+1},\\left( p_{y}^{t}\\right) _{y}\\right) >0\\text{, } \\\\ \n",
    "p_{x}^{t+1}=incr_{x}\\left( p_{x}^{t}\\right) \\text{ if }Q_{x}\\left(\n",
    "p_{x}^{t+1},\\left( p_{y}^{t}\\right) _{y}\\right) <0 \\\\ \n",
    "p_{x}^{t+1}=p_{x}^{t}\\text{ if }Q_{x}\\left( p_{x}^{t+1},\\left(\n",
    "p_{y}^{t}\\right) _{y}\\right) =0, \\\\ \n",
    "p_{y}^{t+1}:Q_{y}\\left( p_{y}^{t+1},\\left( p_{x}^{t+1}\\right) _{x}\\right) =0%\n",
    "\\end{array}%\n",
    "\\right.$<br> \n",
    "where<br>\n",
    "$decr_{x}\\left( p\\right) =\\max_{y\\in \\mathcal{Y}_{0}}\\left\\{ \\alpha\n",
    "_{xy}:\\alpha _{xy}<p\\right\\} $ is the next value below $p$ (in terms of the $\\alpha _{xy}$'s), and<br> \n",
    "$incr_{x}\\left(p\\right) =\\min_{x\\in \\mathcal{X}_{0}}\\left\\{ \\alpha _{xy}:\\alpha\n",
    "_{xy}>p\\right\\} $ is the next value above $p$.\n",
    "\n"
   ]
  },
  {
   "cell_type": "code",
   "execution_count": 25,
   "metadata": {},
   "outputs": [],
   "source": [
    "def damped_cux_z(self,p_z):\n",
    "    uo_x = p_z[0:self.nbx]\n",
    "    vo_y = - p_z[self.nbx:(self.nbx+self.nby)]\n",
    "    uonew_x = self.u_from_v(vo_y)\n",
    "    return (np.append(uo_x - np.where(uo_x > uonew_x, 1,0)+ np.where(uo_x < uonew_x, 1,0) , - vo_y))\n",
    "        \n",
    "NTU_market.damped_cux_z = damped_cux_z\n"
   ]
  },
  {
   "cell_type": "code",
   "execution_count": 26,
   "metadata": {},
   "outputs": [],
   "source": [
    "def solveDampedCU(self,output=0,trace=False):\n",
    "    self.comp_nbsteps = 0\n",
    "    tracemax = self.nbx*self.nby\n",
    "    if trace:\n",
    "        self.traceu0_x_t = np.zeros((tracemax,self.nbx))    \n",
    "    p_z = np.append(self.largex * np.ones(self.nbx), - self.smally * np.ones(self.nby) )\n",
    "    while True :\n",
    "        pnew_z = self.damped_cux_z(p_z)   # each x proposes to favorite y among those willing to consider them:\n",
    "        pnew_z = self.cuy_z(pnew_z)\n",
    "        if (pnew_z == p_z).all() :\n",
    "            if trace:\n",
    "                self.traceu0_x_t = self.traceu0_x_t[0:min(self.comp_nbsteps,tracemax),:]\n",
    "            break\n",
    "        p_z = pnew_z      \n",
    "        # each y proposes to favorite x among those willing to consider them:\n",
    "        if trace and self.comp_nbsteps<tracemax:\n",
    "            self.traceu0_x_t[self.comp_nbsteps,:] = p_z[0:self.nbx]\n",
    "        self.comp_nbsteps += 1\n",
    "    self.eq_μ_x_y = self.μ_from_v(- p_z[self.nbx:(self.nbx+self.nby)])\n",
    "    return(0)\n",
    "\n",
    "NTU_market.solveDampedCU = solveDampedCU     \n"
   ]
  },
  {
   "cell_type": "markdown",
   "metadata": {},
   "source": [
    "We test numerically that Gale and Shapley and damped Gauss-Seidel coincide:"
   ]
  },
  {
   "cell_type": "code",
   "execution_count": 27,
   "metadata": {},
   "outputs": [
    {
     "name": "stdout",
     "output_type": "stream",
     "text": [
      "Discrepancy between Gale and Shapley and coordinate update= 0.0\n"
     ]
    }
   ],
   "source": [
    "np.random.seed(1000)\n",
    "\n",
    "mkt_tst = NTU_market(np.random.rand(80,120)-0.2,np.random.rand(80,120)-0.3)\n",
    "\n",
    "mkt_tst.solveGaleShapley(trace =True)\n",
    "t1  = mkt_tst.traceu0_x_t\n",
    "#print(mkt_tst.comp)\n",
    "\n",
    "mkt_tst.solveDampedCU(trace=True)\n",
    "t2 = mkt_tst.traceu0_x_t\n",
    "\n",
    "print(\"Discrepancy between Gale and Shapley and coordinate update=\", np.max(t2-t1))\n"
   ]
  },
  {
   "cell_type": "markdown",
   "metadata": {},
   "source": [
    "## Comparing running times\n",
    "\n",
    "We build a wrapper that keeps track of the times.\n"
   ]
  },
  {
   "cell_type": "code",
   "execution_count": 28,
   "metadata": {},
   "outputs": [],
   "source": [
    "from time import time\n",
    "\n",
    "def solveDeferredAcceptance(self, algorithm = 'Adachi', output=0, trace=False):\n",
    "    start_time = time()\n",
    "    if algorithm == 'GS' :\n",
    "        self.solveGaleShapley(output,trace)\n",
    "    elif algorithm == 'Adachi' :\n",
    "        self.solveAdachi(output,trace)\n",
    "    elif algorithm == 'DARUM' :\n",
    "        self.solveDARUM(output,trace)   \n",
    "    elif algorithm == 'CU' :\n",
    "        self.solveCU(output,trace)\n",
    "    else:\n",
    "        raise Exception(\"Algorithm \" + algorithm + \" is not implemented.\")\n",
    "    self.comp_time =  time() - start_time\n",
    "    if output >= 1:\n",
    "        print(\"Converged in \",self.comp_nbsteps,\" steps and \", self.comp_time, \" seconds.\")\n",
    "    if output == 1:\n",
    "        print(\"mu_x_y=\",self.eq_μ_x_y) \n",
    "    return (0)\n",
    "\n",
    "    \n",
    "NTU_market.solveDeferredAcceptance = solveDeferredAcceptance"
   ]
  },
  {
   "cell_type": "markdown",
   "metadata": {},
   "source": [
    "## Enumeration of stable matchings\n",
    "\n",
    "Cf ROTH-SOTOMAYOR P. 62"
   ]
  },
  {
   "cell_type": "code",
   "execution_count": 29,
   "metadata": {},
   "outputs": [],
   "source": [
    "def matched_pairs(self, μ_x_y = None):\n",
    "    if μ_x_y is None:\n",
    "        μ_x_y = self.eq_μ_x_y\n",
    "    nzx,nzy = np.nonzero(μ_x_y)\n",
    "    return [(nzx[i],nzy[i]) for i in range(len(nzx) )]\n",
    "\n",
    "NTU_market.matched_pairs = matched_pairs"
   ]
  },
  {
   "cell_type": "code",
   "execution_count": 61,
   "metadata": {},
   "outputs": [],
   "source": [
    "def next_us(self,uo_x,down = True):\n",
    "    μ_x_y = self.μ_from_u(uo_x)\n",
    "    if down:\n",
    "        incr= -1\n",
    "    else:\n",
    "        incr = 1\n",
    "    g = nx.DiGraph()\n",
    "    xs = list(range(self.nbx))\n",
    "    ys = list(range(self.nbx,self.nby))\n",
    "    g.add_nodes_from(xs+ys)\n",
    "    g.add_edges_from([(x,self.nbx+y) for x,y in self.matched_pairs(μ_x_y)])\n",
    "    μprime_x_y = np.where( (self.αo_x_y.transpose() == uo_x + incr).transpose() , 1 , 0 )[:,0:-1]\n",
    "    compatible_pairs = self.matched_pairs(μprime_x_y)\n",
    "    g.add_edges_from([(self.nbx+j,i) for (i,j) in compatible_pairs])\n",
    "    cycles = list(nx.simple_cycles(g))\n",
    "    newus = []\n",
    "    for c in cycles:\n",
    "        xs_to_update = [x for x in c if (x <self.nbx)]\n",
    "        nextu_x = uo_x.copy()\n",
    "        nextu_x[xs_to_update] += incr\n",
    "        newus.append(nextu_x)\n",
    "    return(newus)\n",
    "\n",
    "NTU_market.next_us = next_us"
   ]
  },
  {
   "cell_type": "code",
   "execution_count": 62,
   "metadata": {},
   "outputs": [
    {
     "name": "stdout",
     "output_type": "stream",
     "text": [
      "[array([4, 4, 3, 3], dtype=int64), array([3, 3, 4, 4], dtype=int64)]\n"
     ]
    }
   ],
   "source": [
    "rs_ex_2_17.solveGaleShapley()\n",
    "uo_x = np.sum(rs_ex_2_17.αo_x_y [:,0:-1] * rs_ex_2_17.eq_μ_x_y,axis = 1)\n",
    "print(rs_ex_2_17.next_us(uo_x))"
   ]
  },
  {
   "cell_type": "code",
   "execution_count": 63,
   "metadata": {},
   "outputs": [],
   "source": [
    "def enumerate_us(self):\n",
    "    self.solveGaleShapley()\n",
    "    uo_x = np.sum(self.αo_x_y [:,0:-1] * self.eq_μ_x_y,axis = 1)\n",
    "    # H = nx.DiGraph()\n",
    "    us_list = [uo_x.tolist()]\n",
    "    i = 0\n",
    "    # H.add_nodes_from([i])\n",
    "    # H.nodes[i]['pos'] = (0,0)\n",
    "    while (i < len(us_list)):\n",
    "        inds_alreadyhere = []\n",
    "        us_toadd = [arr.tolist() for arr in self.next_us(np.array(us_list[i],dtype='int64'))]\n",
    "        for u_x in us_toadd:\n",
    "            if u_x in us_list:\n",
    "                inds_alreadyhere.append(us_list.index(u_x))\n",
    "                us_toadd.remove(u_x)\n",
    "        \n",
    "        inds_toadd = list(range(len(us_list),len(us_list)+len(us_toadd) ))\n",
    "        # H.add_nodes_from(inds_toadd)\n",
    "        # for node in inds_toadd:\n",
    "            # H.nodes[node]['pos'] = (0,H.nodes[i]['pos'][1]+1)\n",
    "        #H.add_edges_from([(i,j) for j in inds_alreadyhere+inds_toadd])\n",
    "        us_list = us_list + us_toadd \n",
    "        i += 1\n",
    "    return([np.array(u,dtype = 'int64') for u in us_list])\n",
    "\n",
    "NTU_market.enumerate_us = enumerate_us"
   ]
  },
  {
   "cell_type": "code",
   "execution_count": 64,
   "metadata": {},
   "outputs": [
    {
     "data": {
      "text/plain": [
       "[array([4, 4, 4, 4], dtype=int64),\n",
       " array([4, 4, 3, 3], dtype=int64),\n",
       " array([3, 3, 4, 4], dtype=int64),\n",
       " array([3, 3, 3, 3], dtype=int64),\n",
       " array([3, 2, 2, 3], dtype=int64),\n",
       " array([2, 3, 3, 2], dtype=int64),\n",
       " array([2, 2, 2, 2], dtype=int64),\n",
       " array([2, 2, 1, 1], dtype=int64),\n",
       " array([1, 1, 2, 2], dtype=int64),\n",
       " array([1, 1, 1, 1], dtype=int64)]"
      ]
     },
     "execution_count": 64,
     "metadata": {},
     "output_type": "execute_result"
    }
   ],
   "source": [
    "the_u_s = rs_ex_2_17.enumerate_us()\n",
    "the_u_s"
   ]
  },
  {
   "cell_type": "code",
   "execution_count": 65,
   "metadata": {},
   "outputs": [
    {
     "name": "stdout",
     "output_type": "stream",
     "text": [
      "True\n",
      "True\n",
      "True\n",
      "True\n",
      "True\n",
      "True\n",
      "True\n",
      "True\n",
      "True\n",
      "True\n"
     ]
    }
   ],
   "source": [
    "for u_x in the_u_s:\n",
    "    μ_x_y = rs_ex_2_17.μ_from_u(u_x)\n",
    "    print(rs_ex_2_17.is_stable(μ_x_y))"
   ]
  },
  {
   "cell_type": "markdown",
   "metadata": {},
   "source": [
    "# Aggregate stable matchings\n",
    "\n",
    "The reference for this section is [GH19].\n"
   ]
  },
  {
   "cell_type": "code",
   "execution_count": 37,
   "metadata": {},
   "outputs": [],
   "source": [
    "def proposeNoHet(self,axis,μbar_x_y):\n",
    "    if axis == 0 : # if proposing side = x\n",
    "        n_x = self.n_x\n",
    "        nbx = self.nbx\n",
    "        nby = self.nby\n",
    "        prefs_x_y = self.prefslistα_x_y\n",
    "    else:\n",
    "        n_x = self.m_y\n",
    "        nbx = self.nby\n",
    "        nby = self.nbx\n",
    "        prefs_x_y = self.prefslistγ_x_y.transpose()    \n",
    "    μ_x_y = np.zeros((nbx,nby))\n",
    "    for x in range(nbx):\n",
    "        nxres = n_x[x]\n",
    "        for yind in prefs_x_y[x,]:\n",
    "            if μbar_x_y[x,yind] > 0:\n",
    "                μ_x_y[x,yind] = min(nxres , μbar_x_y[x,yind])\n",
    "                nxres -= μ_x_y[x,yind]\n",
    "            if nxres == 0:\n",
    "                break\n",
    "    return(μ_x_y)\n",
    "\n",
    "NTU_market.proposeNoHet = proposeNoHet\n",
    "\n",
    "def propose(self,axis,μbar_x_y,heterogeneity = 'none'):\n",
    "    if heterogeneity == 'none':\n",
    "        μ_x_y = self.proposeNoHet(axis,μbar_x_y)\n",
    "    else:\n",
    "        raise Exception(\"Heterogeneity \" + heterogeneity + \" is not supported.\")\n",
    "    return (μ_x_y)\n",
    "\n",
    "NTU_market.propose = propose\n",
    "\n",
    "def solveDARUM(self,output=0,trace=False,tol = 1e-5):\n",
    "    self.comp_nbsteps = 0\n",
    "    tracemax = self.nbx*self.nby\n",
    "    if trace:\n",
    "        self.traceu0_x_t = np.zeros((self.nbx,tracemax))    \n",
    "    μA_x_y = np.zeros((self.nbx, self.nby)) # initially all offers are non rejected\n",
    "    for x in range(self.nbx):\n",
    "        for y in range(self.nby):\n",
    "            μA_x_y[x,y] = max(self.n_x[x],self.m_y[y])\n",
    "    while True :\n",
    "        μP_x_y = self.propose(0 , μA_x_y,'none') # the x's pick their preferred offers among those not rejected\n",
    "        μE_x_y = self.propose(1, μP_x_y.transpose(),'none').transpose() # the y's pick their preferred offers among those made\n",
    "        rej_x_y = μP_x_y - μE_x_y # compute rejected offers\n",
    "        if np.max(np.abs(rej_x_y)) < tol: \n",
    "            if trace:\n",
    "                self.traceu0_x_t = self.traceu0_x_t[:,0:min(self.comp_nbsteps,tracemax)]\n",
    "            break # if all offers have been accepted (within tolerange), then algorithm stops\n",
    "        μA_x_y = μA_x_y - rej_x_y  # offers from x that have been rejected are no longer available to x\n",
    "        if output >= 2:\n",
    "            print(\"mu_P=, mu_E=\" )\n",
    "            print(μP_x_y)\n",
    "            print(μE_x_y)        \n",
    "        if trace and self.comp_nbsteps<tracemax:\n",
    "            for x in range(self.nbx):\n",
    "                self.traceu0_x_t[x,self.comp_nbsteps] = np.sum(self.αo_x_y [x,:] * μP_x_y[x,:])\n",
    "\n",
    "        self.comp_nbsteps +=1\n",
    "    self.eq_μ_x_y = μE_x_y\n",
    "    return (0)\n",
    "\n",
    "NTU_market.solveDARUM = solveDARUM "
   ]
  }
 ],
 "metadata": {
  "kernelspec": {
   "display_name": "Python 3 (ipykernel)",
   "language": "python",
   "name": "python3"
  },
  "language_info": {
   "codemirror_mode": {
    "name": "ipython",
    "version": 3
   },
   "file_extension": ".py",
   "mimetype": "text/x-python",
   "name": "python",
   "nbconvert_exporter": "python",
   "pygments_lexer": "ipython3",
   "version": "3.9.5"
  }
 },
 "nbformat": 4,
 "nbformat_minor": 4
}
